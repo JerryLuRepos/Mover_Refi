{
 "cells": [
  {
   "cell_type": "code",
   "execution_count": 1,
   "metadata": {},
   "outputs": [
    {
     "name": "stdout",
     "output_type": "stream",
     "text": [
      "success configuring sparkmagic livy.\n",
      "['https://qlawsbidlhe02a.ad.datalake.foc.zone:8445/gateway/dsx/livy2/v1']\n"
     ]
    }
   ],
   "source": [
    "%load_ext sparkmagic.magics\n",
    "from dsx_core_utils import proxy_util,dsxhi_util\n",
    "proxy_util.configure_proxy_livy()\n",
    "dsxhi_util.list_livy_endpoints()"
   ]
  },
  {
   "cell_type": "code",
   "execution_count": 2,
   "metadata": {
    "collapsed": true
   },
   "outputs": [],
   "source": [
    "%%spark config\n",
    "{\"executorCores\": 4, \"numExecutors\": 5, \"executorMemory\": \"10g\", \n",
    " \"driverMemory\": \"8g\", \"proxyUser\": \"jchen-\", \"driverCores\": 1, \n",
    " \"conf\": {\"spark.yarn.appMasterEnv.THEANO_FLAGS\": \"base_compiledir=${PWD}/.theano\"}}"
   ]
  },
  {
   "cell_type": "code",
   "execution_count": 3,
   "metadata": {},
   "outputs": [
    {
     "name": "stdout",
     "output_type": "stream",
     "text": [
      "Starting Spark application\n"
     ]
    },
    {
     "data": {
      "text/html": [
       "<table>\n",
       "<tr><th>ID</th><th>YARN Application ID</th><th>Kind</th><th>State</th><th>Spark UI</th><th>Driver log</th><th>Current session?</th></tr><tr><td>13497</td><td>application_1566930137025_7094</td><td>pyspark</td><td>idle</td><td><a target=\"_blank\" href=\"https://qlawsbidlhm01b.ad.datalake.foc.zone:8090/proxy/application_1566930137025_7094/\">Link</a></td><td><a target=\"_blank\" href=\"https://qlawsbidlhw15a.ad.datalake.foc.zone:8042/node/containerlogs/container_e470_1566930137025_7094_01_000001/jchen-\">Link</a></td><td>✔</td></tr></table>"
      ],
      "text/plain": [
       "<IPython.core.display.HTML object>"
      ]
     },
     "metadata": {},
     "output_type": "display_data"
    },
    {
     "name": "stdout",
     "output_type": "stream",
     "text": [
      "SparkSession available as 'spark'.\n"
     ]
    }
   ],
   "source": [
    "%spark add -s performance -k -l python -u https://qlawsbidlhe02a.ad.datalake.foc.zone:8445/gateway/dsx/livy2/v1"
   ]
  },
  {
   "cell_type": "code",
   "execution_count": 4,
   "metadata": {},
   "outputs": [
    {
     "name": "stdout",
     "output_type": "stream",
     "text": [
      "2.3.0.2.6.5.0-292"
     ]
    }
   ],
   "source": [
    "%%spark\n",
    "\n",
    "print(spark.version)"
   ]
  },
  {
   "cell_type": "code",
   "execution_count": 5,
   "metadata": {
    "collapsed": true
   },
   "outputs": [],
   "source": [
    "%%spark\n",
    "\n",
    "import pyspark\n",
    "import os, sys\n",
    "\n",
    "from pyspark.sql import SparkSession\n",
    "from pyspark.sql import Window\n",
    "import pyspark.sql.functions as F\n",
    "from pyspark.sql.functions import col, when, lit, lower\n",
    "\n",
    "from pyspark.ml.feature import QuantileDiscretizer\n",
    "from pyspark.ml.classification import RandomForestClassifier\n",
    "from pyspark.ml import Pipeline, PipelineModel\n",
    "from pyspark.ml.feature import VectorIndexer, VectorAssembler, VectorSlicer, StringIndexer\n",
    "\n",
    "\n",
    "from os.path import expanduser, join, abspath\n",
    "import time\n",
    "import pandas as pd\n",
    "\n",
    "spark = SparkSession.builder.getOrCreate()"
   ]
  },
  {
   "cell_type": "code",
   "execution_count": 6,
   "metadata": {
    "collapsed": true
   },
   "outputs": [],
   "source": [
    "%%spark\n",
    "\n",
    "csv_path = '/dev/projects/retention_models/csv_data/'\n",
    "actual_path = '/dev/projects/retention_models/actual_value/'\n",
    "monthly_path = '/dev/projects/retention_models/monthly_snapshot/'\n",
    "\n",
    "result_path_refi = '/dev/projects/retention_models/refi_payoff/training/results/'\n",
    "result_path_pur = '/dev/projects/retention_models/purchase_payoff/training/results/movermodel/'\n",
    "result_path_pur_6 = '/dev/projects/retention_models/purchase_payoff/training/results/mover_6/'\n",
    "result_path_pur_12 = '/dev/projects/retention_models/purchase_payoff/training/results/mover_12/'"
   ]
  },
  {
   "cell_type": "markdown",
   "metadata": {},
   "source": [
    "## 1. Actual Payoff"
   ]
  },
  {
   "cell_type": "markdown",
   "metadata": {},
   "source": [
    "#### (1). Prepare"
   ]
  },
  {
   "cell_type": "code",
   "execution_count": 7,
   "metadata": {},
   "outputs": [
    {
     "name": "stdout",
     "output_type": "stream",
     "text": [
      "+------------------+-----------------+--------------+-------------+\n",
      "|ServicedLoanNumber|PaymentInFullDate|newloanpurpose|retentiontype|\n",
      "+------------------+-----------------+--------------+-------------+\n",
      "|        3357203106|       2018-09-20|      purchase|         lost|\n",
      "+------------------+-----------------+--------------+-------------+\n",
      "only showing top 1 row"
     ]
    }
   ],
   "source": [
    "%%spark\n",
    "\n",
    "df_actual = spark.read.csv(csv_path + 'Payoff_segments_summary_20190905.csv', header=True)\\\n",
    "                        .withColumn('newloanpurpose', lower(col('NewLoanPurpose')))\\\n",
    "                        .withColumn('retentiontype', lower(col('PayoffRetentionType')))\\\n",
    "                        .select('ServicedLoanNumber', 'PaymentInFullDate', 'newloanpurpose', 'retentiontype')\n",
    "    \n",
    "df_actual.show(1)"
   ]
  },
  {
   "cell_type": "code",
   "execution_count": 8,
   "metadata": {},
   "outputs": [],
   "source": [
    "%%spark\n",
    "\n",
    "df_list1 = spark.sql('''\n",
    "select distinct servicecalendardate, ln_no\n",
    "from data_science_sandbox.servicing_dbo_payoff_source_purchase_client_crdtrs \n",
    "where leftportfoliodate is null\n",
    "and servicecalendardate between '2016-06-30' and '2018-11-30'\n",
    "''')\n",
    "\n",
    "df_201812 = spark.read.parquet(monthly_path+'servicing_df_all_dec18_20190131.parquet').select('servicecalendardate', 'ln_no')\n",
    "\n",
    "df_201901 = spark.read.parquet(monthly_path+'servicing_df_all_jan19_20190215.parquet').select('servicecalendardate', 'ln_no')\n",
    "df_201902 = spark.read.parquet(monthly_path+'servicing_df_all_feb19_20190305.parquet').select('servicecalendardate', 'ln_no')\n",
    "df_201903 = spark.read.parquet(monthly_path+'servicing_df_all_mar19_20190409.parquet').select('servicecalendardate', 'ln_no')\n",
    "df_201904 = spark.read.parquet(monthly_path+'servicing_df_all_apr19_20190507.parquet').select('servicecalendardate', 'ln_no')\n",
    "df_201905 = spark.read.parquet(monthly_path+'servicing_df_all_may19_20190610.parquet').select('servicecalendardate', 'ln_no')\n",
    "df_201906 = spark.read.parquet(monthly_path+'servicing_df_all_june19_20190708.parquet').select('servicecalendardate', 'ln_no')\n",
    "df_201907 = spark.read.parquet(monthly_path+'servicing_df_all_jul19_20190805.parquet').select('servicecalendardate', 'ln_no')\n",
    "df_201908 = spark.read.parquet(monthly_path+'servicing_df_all_aug19_20190904.parquet').select('servicecalendardate', 'ln_no')"
   ]
  },
  {
   "cell_type": "code",
   "execution_count": 9,
   "metadata": {},
   "outputs": [
    {
     "name": "stdout",
     "output_type": "stream",
     "text": [
      "+-------------------+----------+\n",
      "|servicecalendardate|     ln_no|\n",
      "+-------------------+----------+\n",
      "|         2017-12-31|3308904211|\n",
      "+-------------------+----------+\n",
      "only showing top 1 row"
     ]
    }
   ],
   "source": [
    "%%spark\n",
    "\n",
    "df_list = df_list1.union(df_201812)\\\n",
    "                    .union(df_201901).union(df_201902).union(df_201903)\\\n",
    "                    .union(df_201904).union(df_201905).union(df_201906)\\\n",
    "                    .union(df_201907).union(df_201908)\n",
    "\n",
    "df_list.show(1)"
   ]
  },
  {
   "cell_type": "code",
   "execution_count": 10,
   "metadata": {},
   "outputs": [
    {
     "name": "stdout",
     "output_type": "stream",
     "text": [
      "+-------------------+----------+------------------+-----------------+--------------+-------------+\n",
      "|servicecalendardate|     ln_no|ServicedLoanNumber|PaymentInFullDate|newloanpurpose|retentiontype|\n",
      "+-------------------+----------+------------------+-----------------+--------------+-------------+\n",
      "|         2017-08-31|3221138985|        3221138985|       2017-11-13|     refinance|     retained|\n",
      "+-------------------+----------+------------------+-----------------+--------------+-------------+\n",
      "only showing top 1 row"
     ]
    }
   ],
   "source": [
    "%%spark\n",
    "\n",
    "df_payoff = df_list.join(df_actual, df_actual.ServicedLoanNumber == df_list.ln_no, how='left')\n",
    "\n",
    "df_payoff.show(1)"
   ]
  },
  {
   "cell_type": "code",
   "execution_count": 11,
   "metadata": {},
   "outputs": [],
   "source": [
    "%%spark\n",
    "\n",
    "def build_targets(df):\n",
    "    \n",
    "    # Purchase Payoff\n",
    "    expr_purpayoff = when((col('PaymentInFullDate')>col('startdt')) & (col('PaymentInFullDate')<=col('enddt_3')) & (col('newloanpurpose')=='purchase'), 1.)\\\n",
    "                        .otherwise(0.)\n",
    "    expr_purpayoff_3_6 = when((col('PaymentInFullDate')>col('enddt_3')) & (col('PaymentInFullDate')<=col('enddt_6')) & (col('newloanpurpose')=='purchase'), 1.)\\\n",
    "                            .otherwise(0.)\n",
    "    expr_purpayoff_6_12 = when((col('PaymentInFullDate')>col('enddt_6')) & (col('PaymentInFullDate')<=col('enddt_12')) & (col('newloanpurpose')=='purchase'), 1.)\\\n",
    "                            .otherwise(0.)\n",
    "    expr_purpayoff_all = when((col('PaymentInFullDate')>col('servicecalendardate')) & (col('newloanpurpose')=='purchase'), 1.)\\\n",
    "                            .otherwise(0.)\n",
    "    \n",
    "    # Refi Payoff\n",
    "    expr_refipayoff = when((col('PaymentInFullDate')>col('startdt')) & (col('PaymentInFullDate')<=col('enddt_3')) & (col('newloanpurpose')!='purchase'), 1.)\\\n",
    "                        .otherwise(0.)\n",
    "    expr_refipayoff_all = when((col('PaymentInFullDate')>col('servicecalendardate')) & (col('newloanpurpose')!='purchase'), 1.)\\\n",
    "                            .otherwise(0.)\n",
    "    \n",
    "    # Purchase/Refi Retained\n",
    "    expr_purretain_24 = when((col('PaymentInFullDate')>col('startdt')) & (col('PaymentInFullDate')<=col('enddt_24')) \n",
    "                             & (col('newloanpurpose')=='purchase') & (col('retentiontype')=='retained'), 1.)\\\n",
    "                            .otherwise(0.)\n",
    "    \n",
    "    expr_refiretain_24 = when((col('PaymentInFullDate')>col('startdt')) & (col('PaymentInFullDate')<=col('enddt_24')) \n",
    "                             & (col('newloanpurpose')!='purchase') & (col('retentiontype')=='retained'), 1.)\\\n",
    "                            .otherwise(0.)\n",
    "    \n",
    "    # Payoff\n",
    "    expr_payoff = when((col('PaymentInFullDate')>col('startdt')) & (col('PaymentInFullDate')<=col('enddt_3')), 1.)\\\n",
    "                        .otherwise(0.)\n",
    "    expr_payoff_24 = when((col('PaymentInFullDate')>col('startdt')) & (col('PaymentInFullDate')<=col('enddt_24')), 1.)\\\n",
    "                        .otherwise(0.)\n",
    "    expr_payoff_all = when(col('PaymentInFullDate')>col('servicecalendardate'), 1.)\\\n",
    "                        .otherwise(0.)\n",
    "    \n",
    "    # Retained\n",
    "    expr_retention = when((col('PaymentInFullDate')>col('startdt')) & (col('PaymentInFullDate')<=col('enddt_3')) & (col('retentiontype')=='retained'), 1.)\\\n",
    "                        .otherwise(0.)\n",
    "    expr_retention_3_6 = when((col('PaymentInFullDate')>col('enddt_3')) & (col('PaymentInFullDate')<=col('enddt_6')) & (col('retentiontype')=='retained'), 1.)\\\n",
    "                            .otherwise(0.)\n",
    "    expr_retention_6_12 = when((col('PaymentInFullDate')>col('enddt_6')) & (col('PaymentInFullDate')<=col('enddt_12')) & (col('retentiontype')=='retained'), 1.)\\\n",
    "                            .otherwise(0.)\n",
    "    expr_retention_24 = when((col('PaymentInFullDate')>col('startdt')) & (col('PaymentInFullDate')<=col('enddt_24')) & (col('retentiontype')=='retained'), 1.)\\\n",
    "                        .otherwise(0.)\n",
    "    expr_retention_all = when((col('PaymentInFullDate')>col('servicecalendardate')) & (col('retentiontype')=='retained'), 1.)\\\n",
    "                        .otherwise(0.)\n",
    "\n",
    "    df_final = df.withColumn('startdt', F.add_months(col('servicecalendardate'), 1))\\\n",
    "                    .withColumn('enddt_3', F.add_months(col('servicecalendardate'), 4))\\\n",
    "                    .withColumn('enddt_6', F.add_months(col('servicecalendardate'), 7))\\\n",
    "                    .withColumn('enddt_12', F.add_months(col('servicecalendardate'), 13))\\\n",
    "                    .withColumn('enddt_24', F.add_months(col('servicecalendardate'), 25))\\\n",
    "                    .withColumn('purchasepayoff', expr_purpayoff)\\\n",
    "                    .withColumn('purchasepayoff_3_6', expr_purpayoff_3_6)\\\n",
    "                    .withColumn('purchasepayoff_6_12', expr_purpayoff_6_12)\\\n",
    "                    .withColumn('purchasepayoff_all', expr_purpayoff_all)\\\n",
    "                    .withColumn('refipayoff', expr_refipayoff)\\\n",
    "                    .withColumn('refipayoff_all', expr_refipayoff_all)\\\n",
    "                    .withColumn('purretain_24', expr_purretain_24)\\\n",
    "                    .withColumn('refiretain_24', expr_refiretain_24)\\\n",
    "                    .withColumn('payoff', expr_payoff)\\\n",
    "                    .withColumn('payoff_24', expr_payoff_24)\\\n",
    "                    .withColumn('payoff_all', expr_payoff_all)\\\n",
    "                    .withColumn('retained', expr_retention)\\\n",
    "                    .withColumn('retained_3_6', expr_retention_3_6)\\\n",
    "                    .withColumn('retained_6_12', expr_retention_6_12)\\\n",
    "                    .withColumn('retained_24', expr_retention_24)\\\n",
    "                    .withColumn('retained_all', expr_retention_all)\\\n",
    "                    .select('servicecalendardate', 'ln_no', 'PaymentInFullDate', 'newloanpurpose', 'retentiontype',\n",
    "                            'purchasepayoff', 'purchasepayoff_3_6', 'purchasepayoff_6_12', 'purchasepayoff_all',\n",
    "                            'refipayoff', 'refipayoff_all', \n",
    "                            'purretain_24', 'refiretain_24',\n",
    "                            'payoff', 'payoff_24', 'payoff_all', \n",
    "                            'retained', 'retained_3_6', 'retained_6_12', 'retained_24', 'retained_all')\n",
    "                        \n",
    "    return df_final"
   ]
  },
  {
   "cell_type": "code",
   "execution_count": 12,
   "metadata": {},
   "outputs": [
    {
     "name": "stdout",
     "output_type": "stream",
     "text": [
      "+-------------------+----------+-----------------+--------------+-------------+--------------+------------------+-------------------+------------------+----------+--------------+------------+-------------+------+---------+----------+--------+------------+-------------+-----------+------------+\n",
      "|servicecalendardate|     ln_no|PaymentInFullDate|newloanpurpose|retentiontype|purchasepayoff|purchasepayoff_3_6|purchasepayoff_6_12|purchasepayoff_all|refipayoff|refipayoff_all|purretain_24|refiretain_24|payoff|payoff_24|payoff_all|retained|retained_3_6|retained_6_12|retained_24|retained_all|\n",
      "+-------------------+----------+-----------------+--------------+-------------+--------------+------------------+-------------------+------------------+----------+--------------+------------+-------------+------+---------+----------+--------+------------+-------------+-----------+------------+\n",
      "|         2017-08-31|3221138985|       2017-11-13|     refinance|     retained|           0.0|               0.0|                0.0|               0.0|       1.0|           1.0|         0.0|          1.0|   1.0|      1.0|       1.0|     1.0|         0.0|          0.0|        1.0|         1.0|\n",
      "+-------------------+----------+-----------------+--------------+-------------+--------------+------------------+-------------------+------------------+----------+--------------+------------+-------------+------+---------+----------+--------+------------+-------------+-----------+------------+\n",
      "only showing top 1 row"
     ]
    }
   ],
   "source": [
    "%%spark\n",
    "\n",
    "df_final = build_targets(df_payoff)\n",
    "df_final.show(1)"
   ]
  },
  {
   "cell_type": "code",
   "execution_count": 13,
   "metadata": {
    "collapsed": true
   },
   "outputs": [],
   "source": [
    "%%spark\n",
    "\n",
    "df_final.write.parquet(actual_path + 'Actual_payoff_20190905.parquet', mode='overwrite')"
   ]
  },
  {
   "cell_type": "markdown",
   "metadata": {},
   "source": [
    "#### (2). Load"
   ]
  },
  {
   "cell_type": "code",
   "execution_count": 7,
   "metadata": {},
   "outputs": [
    {
     "name": "stdout",
     "output_type": "stream",
     "text": [
      "+-------------------+----------+-----------------+--------------+-------------+--------------+------------------+-------------------+------------------+----------+--------------+------------+-------------+------+---------+----------+--------+------------+-------------+-----------+------------+\n",
      "|servicecalendardate|     ln_no|PaymentInFullDate|newloanpurpose|retentiontype|purchasepayoff|purchasepayoff_3_6|purchasepayoff_6_12|purchasepayoff_all|refipayoff|refipayoff_all|purretain_24|refiretain_24|payoff|payoff_24|payoff_all|retained|retained_3_6|retained_6_12|retained_24|retained_all|\n",
      "+-------------------+----------+-----------------+--------------+-------------+--------------+------------------+-------------------+------------------+----------+--------------+------------+-------------+------+---------+----------+--------+------------+-------------+-----------+------------+\n",
      "|         2016-09-30|3222133893|       2016-12-12|     refinance|     retained|           0.0|               0.0|                0.0|               0.0|       1.0|           1.0|         0.0|          1.0|   1.0|      1.0|       1.0|     1.0|         0.0|          0.0|        1.0|         1.0|\n",
      "+-------------------+----------+-----------------+--------------+-------------+--------------+------------------+-------------------+------------------+----------+--------------+------------+-------------+------+---------+----------+--------+------------+-------------+-----------+------------+\n",
      "only showing top 1 row"
     ]
    }
   ],
   "source": [
    "%%spark\n",
    "\n",
    "actual = spark.read.parquet(actual_path + 'Actual_payoff_20190905.parquet')\n",
    "\n",
    "actual.show(1)"
   ]
  },
  {
   "cell_type": "markdown",
   "metadata": {},
   "source": [
    "## 2. Actual Decile Performance"
   ]
  },
  {
   "cell_type": "code",
   "execution_count": 8,
   "metadata": {
    "collapsed": true
   },
   "outputs": [],
   "source": [
    "%%spark\n",
    "\n",
    "def join_actual(score_file, servicecalendardate, df_actual, result_path):\n",
    "    \n",
    "    df_score = spark.read.csv(result_path + score_file, header=True)\\\n",
    "                            .withColumn('servicecalendardate', F.lit(servicecalendardate))\\\n",
    "                            .select('servicecalendardate', 'ln_no', 'logRegProb', 'randForProb', 'gbtProb')\n",
    "        \n",
    "    df_all = df_score.join(df_actual, on =['servicecalendardate', 'ln_no'], how='inner')\n",
    "    \n",
    "    return df_all"
   ]
  },
  {
   "cell_type": "code",
   "execution_count": 9,
   "metadata": {},
   "outputs": [],
   "source": [
    "%%spark\n",
    "\n",
    "def ntile_performance(n, df, ls_prob, nrow, loanpurpose):\n",
    "    \n",
    "    if loanpurpose == 'purchase':\n",
    "        col_target = 'purchasepayoff'\n",
    "        col_retained = 'retained'\n",
    "        \n",
    "    elif loanpurpose == 'purchase_6':\n",
    "        col_target = 'purchasepayoff_6'\n",
    "        col_retained = 'retained_6'\n",
    "        \n",
    "    elif loanpurpose == 'purchase_12':\n",
    "        col_target = 'purchasepayoff_12'\n",
    "        col_retained = 'retained_12'\n",
    "        \n",
    "    elif loanpurpose == 'refi':\n",
    "        col_target = 'refipayoff'\n",
    "        col_retained = 'retained'\n",
    "        \n",
    "    elif loanpurpose == 'refi_all':\n",
    "        col_target = 'refipayoff_all'\n",
    "        col_retained = 'retained_all'\n",
    "        \n",
    "    elif loanpurpose == 'all':\n",
    "        col_target = 'payoff_all'\n",
    "        col_retained = 'retained_all'\n",
    "    \n",
    "    expr_retained = when((col(col_target)==1.) & (col(col_retained)==1.), 1.).otherwise(0.)\n",
    "    \n",
    "    df = df.fillna({col: 0 for col in ls_prob})\\\n",
    "            .withColumn('retained_new', expr_retained)\n",
    "    \n",
    "    for prob_name in ls_prob:\n",
    "        \n",
    "        df1 = df.withColumn(prob_name, col(prob_name).cast('double'))\n",
    "        \n",
    "        df1 = QuantileDiscretizer(numBuckets=n, inputCol=prob_name, outputCol='ntile', relativeError=0.0001, handleInvalid='error')\\\n",
    "                    .fit(df1).transform(df1)\n",
    "        df1 = df1.withColumn('ntile', (n - col('ntile')).cast('int'))\n",
    "        \n",
    "        windown_cumsum = Window.orderBy('ntile').rangeBetween(Window.unboundedPreceding, 0)\n",
    "        total_target = df.select(F.sum(col_target)).collect()[0][0]\n",
    "        \n",
    "        df_out = df1.groupBy('ntile')\\\n",
    "                    .agg(F.sum('retained_new').alias('retained_new'), \n",
    "                         F.sum(col_target).alias(col_target), \n",
    "                         F.count('ln_no').alias('count'))\\\n",
    "                    .withColumn('retention_rate', col('retained_new')/col(col_target))\\\n",
    "                    .withColumn('percentage', col(col_target) / total_target)\\\n",
    "                    .withColumn('cum_sum', F.sum(col_target).over(windown_cumsum) / total_target)\\\n",
    "                    .sort('ntile').limit(nrow)\n",
    "        \n",
    "        print(prob_name + ':')\n",
    "        print(df_out.show())"
   ]
  },
  {
   "cell_type": "code",
   "execution_count": 10,
   "metadata": {
    "collapsed": true
   },
   "outputs": [],
   "source": [
    "%%spark\n",
    "\n",
    "def monthly_performance(loanpurpose, score_file, servicecalendardate, df_actual, result_path, n, ls_prob, nrow):\n",
    "    \n",
    "    df_all = join_actual(score_file, servicecalendardate, df_actual, result_path)\n",
    "    \n",
    "    ntile_performance(n, df_all, ls_prob, nrow, loanpurpose)"
   ]
  },
  {
   "cell_type": "markdown",
   "metadata": {},
   "source": [
    "### (1). Mover (Purchase)"
   ]
  },
  {
   "cell_type": "code",
   "execution_count": 12,
   "metadata": {
    "collapsed": true
   },
   "outputs": [
    {
     "name": "stdout",
     "output_type": "stream",
     "text": [
      "logRegProb:\n",
      "+-----+------------+--------------+------+-------------------+-------------------+-------------------+\n",
      "|ntile|retained_new|purchasepayoff| count|     retention_rate|         percentage|            cum_sum|\n",
      "+-----+------------+--------------+------+-------------------+-------------------+-------------------+\n",
      "|    1|       579.0|        3850.0|142250|0.15038961038961038|0.25176562908710437|0.25176562908710437|\n",
      "|    2|       522.0|        2177.0|142324|0.23977951309141018| 0.1423620193565263|0.39412764844363063|\n",
      "|    3|       451.0|        1756.0|142099|0.25683371298405466|0.11483128433167669| 0.5089589327753073|\n",
      "|    4|       389.0|        1519.0|142671|0.25608953258722844| 0.0993329845670939| 0.6082919173424013|\n",
      "|    5|       304.0|        1324.0|142075|  0.229607250755287| 0.0865812189380068|  0.694873136280408|\n",
      "|    6|       274.0|        1137.0|142489|0.24098504837291118|0.07435260266806173| 0.7692257389484698|\n",
      "|    7|       234.0|        1108.0|142144| 0.2111913357400722|0.07245618624117185| 0.8416819251896417|\n",
      "|    8|       212.0|         961.0|142517| 0.2206035379812695|0.06284331676693695| 0.9045252419565786|\n",
      "|    9|       188.0|         840.0|142484|0.22380952380952382|0.05493068270991368| 0.9594559246664923|\n",
      "|   10|       144.0|         620.0|142555|0.23225806451612904|0.04054407533350771|                1.0|\n",
      "+-----+------------+--------------+------+-------------------+-------------------+-------------------+\n",
      "\n",
      "None\n",
      "randForProb:\n",
      "+-----+------------+--------------+------+-------------------+--------------------+-------------------+\n",
      "|ntile|retained_new|purchasepayoff| count|     retention_rate|          percentage|            cum_sum|\n",
      "+-----+------------+--------------+------+-------------------+--------------------+-------------------+\n",
      "|    1|       687.0|        4445.0|142025|0.15455568053993252| 0.29067486267329323|0.29067486267329323|\n",
      "|    2|       582.0|        2096.0|142479| 0.2776717557251908| 0.13706513209521318| 0.4277399947685064|\n",
      "|    3|       423.0|        1881.0|142166|0.22488038277511962|   0.123005493068271| 0.5507454878367773|\n",
      "|    4|       358.0|        1483.0|142403|0.24140256237356708| 0.09697881245095474| 0.6477243002877322|\n",
      "|    5|       329.0|        1240.0|142432| 0.2653225806451613| 0.08108815066701543| 0.7288124509547476|\n",
      "|    6|       268.0|        1270.0|142374| 0.2110236220472441| 0.08304996076379806| 0.8118624117185457|\n",
      "|    7|       231.0|        1049.0|142254| 0.2202097235462345| 0.06859795971749935| 0.8804603714360449|\n",
      "|    8|       171.0|         880.0|142614| 0.1943181818181818| 0.05754642950562386| 0.9380068009416689|\n",
      "|    9|       154.0|         595.0|142280|0.25882352941176473|0.038909233586188856| 0.9769160345278577|\n",
      "|   10|        94.0|         353.0|142581|0.26628895184135976|0.023083965472142295|                1.0|\n",
      "+-----+------------+--------------+------+-------------------+--------------------+-------------------+\n",
      "\n",
      "None\n",
      "gbtProb:\n",
      "+-----+------------+--------------+------+-------------------+--------------------+-------------------+\n",
      "|ntile|retained_new|purchasepayoff| count|     retention_rate|          percentage|            cum_sum|\n",
      "+-----+------------+--------------+------+-------------------+--------------------+-------------------+\n",
      "|    1|       860.0|        4918.0|142068|0.17486783245221635| 0.32160606853256607|0.32160606853256607|\n",
      "|    2|       498.0|        2259.0|142525| 0.2204515272244356| 0.14772430028773215| 0.4693303688202982|\n",
      "|    3|       440.0|        1750.0|142197|0.25142857142857145| 0.11443892231232017| 0.5837692911326183|\n",
      "|    4|       363.0|        1576.0|142486| 0.2303299492385787|  0.1030604237509809| 0.6868297148835992|\n",
      "|    5|       295.0|        1293.0|142290|0.22815158546017014| 0.08455401517133142| 0.7713837300549307|\n",
      "|    6|       238.0|        1097.0|142333|0.21695533272561532| 0.07173685587235155| 0.8431205859272822|\n",
      "|    7|       212.0|         955.0|142460|0.22198952879581152| 0.06245095474758043| 0.9055715406748627|\n",
      "|    8|       179.0|         724.0|142334| 0.2472375690607735|0.047345017002354176| 0.9529165576772168|\n",
      "|    9|       144.0|         515.0|142273| 0.2796116504854369| 0.03367773999476851| 0.9865942976719854|\n",
      "|   10|        68.0|         205.0|142642|0.33170731707317075|0.013405702328014649|                1.0|\n",
      "+-----+------------+--------------+------+-------------------+--------------------+-------------------+\n",
      "\n",
      "None"
     ]
    }
   ],
   "source": [
    "%%spark\n",
    "\n",
    "#2017-06\n",
    "monthly_performance(\n",
    "    loanpurpose = 'purchase',\n",
    "    score_file = 'pred_MoverV3_2_jun17_20190718.csv', \n",
    "    servicecalendardate = '2017-06-30', \n",
    "    df_actual = actual, \n",
    "    result_path = result_path_pur, \n",
    "    n = 10, \n",
    "    ls_prob = ['logRegProb', 'randForProb', 'gbtProb'],\n",
    "    nrow = 10\n",
    ")"
   ]
  },
  {
   "cell_type": "code",
   "execution_count": 13,
   "metadata": {
    "collapsed": true
   },
   "outputs": [
    {
     "name": "stdout",
     "output_type": "stream",
     "text": [
      "logRegProb:\n",
      "+-----+------------+--------------+------+-------------------+--------------------+------------------+\n",
      "|ntile|retained_new|purchasepayoff| count|     retention_rate|          percentage|           cum_sum|\n",
      "+-----+------------+--------------+------+-------------------+--------------------+------------------+\n",
      "|    1|       475.0|        2934.0|146593|0.16189502385821405|  0.2510266940451745|0.2510266940451745|\n",
      "|    2|       405.0|        1704.0|146756|0.23767605633802816|  0.1457905544147844|0.3968172484599589|\n",
      "|    3|       377.0|        1455.0|147006|  0.259106529209622| 0.12448665297741274|0.5213039014373717|\n",
      "|    4|       333.0|        1259.0|146787|0.26449563145353455| 0.10771731690622861|0.6290212183436003|\n",
      "|    5|       242.0|         951.0|146831| 0.2544689800210305| 0.08136550308008214|0.7103867214236824|\n",
      "|    6|       211.0|         876.0|146805| 0.2408675799086758| 0.07494866529774127|0.7853353867214237|\n",
      "|    7|       207.0|         802.0|146905| 0.2581047381546135| 0.06861738535249828| 0.853952772073922|\n",
      "|    8|       144.0|         696.0|146894|0.20689655172413793|0.059548254620123205|0.9135010266940452|\n",
      "|    9|       128.0|         563.0|146725|0.22735346358792186| 0.04816906228610541|0.9616700889801506|\n",
      "|   10|       109.0|         448.0|147139|0.24330357142857142|0.038329911019849415|               1.0|\n",
      "+-----+------------+--------------+------+-------------------+--------------------+------------------+\n",
      "\n",
      "None\n",
      "randForProb:\n",
      "+-----+------------+--------------+------+-------------------+--------------------+-------------------+\n",
      "|ntile|retained_new|purchasepayoff| count|     retention_rate|          percentage|            cum_sum|\n",
      "+-----+------------+--------------+------+-------------------+--------------------+-------------------+\n",
      "|    1|       590.0|        3464.0|146759|0.17032332563510394| 0.29637234770704995|0.29637234770704995|\n",
      "|    2|       456.0|        1801.0|146661| 0.2531926707384786| 0.15408966461327858|0.45046201232032856|\n",
      "|    3|       318.0|        1270.0|146925| 0.2503937007874016| 0.10865845311430528| 0.5591204654346338|\n",
      "|    4|       309.0|        1200.0|146738|             0.2575|  0.1026694045174538| 0.6617898699520877|\n",
      "|    5|       257.0|         981.0|146885| 0.2619775739041794| 0.08393223819301848| 0.7457221081451061|\n",
      "|    6|       237.0|         916.0|146984| 0.2587336244541485|  0.0783709787816564| 0.8240930869267625|\n",
      "|    7|       196.0|         818.0|146571| 0.2396088019559902| 0.06998631074606435| 0.8940793976728268|\n",
      "|    8|       136.0|         636.0|146985| 0.2138364779874214|0.054414784394250515| 0.9484941820670774|\n",
      "|    9|        88.0|         409.0|146937|0.21515892420537897| 0.03499315537303217| 0.9834873374401095|\n",
      "|   10|        44.0|         193.0|146996|0.22797927461139897|0.016512662559890486|                1.0|\n",
      "+-----+------------+--------------+------+-------------------+--------------------+-------------------+\n",
      "\n",
      "None\n",
      "gbtProb:\n",
      "+-----+------------+--------------+------+-------------------+--------------------+-------------------+\n",
      "|ntile|retained_new|purchasepayoff| count|     retention_rate|          percentage|            cum_sum|\n",
      "+-----+------------+--------------+------+-------------------+--------------------+-------------------+\n",
      "|    1|       740.0|        3997.0|146807|0.18513885414060546| 0.34197467488021904|0.34197467488021904|\n",
      "|    2|       461.0|        1880.0|146786|0.24521276595744682| 0.16084873374401096|   0.50282340862423|\n",
      "|    3|       344.0|        1385.0|146639| 0.2483754512635379| 0.11849760438056126| 0.6213210130047913|\n",
      "|    4|       283.0|        1138.0|146813|0.24868189806678384| 0.09736481861738536| 0.7186858316221766|\n",
      "|    5|       229.0|         967.0|146893|0.23681489141675285| 0.08273442847364819| 0.8014202600958248|\n",
      "|    6|       197.0|         804.0|146821|0.24502487562189054| 0.06878850102669405| 0.8702087611225188|\n",
      "|    7|       160.0|         667.0|146964|  0.239880059970015| 0.05706707734428473| 0.9272758384668036|\n",
      "|    8|       116.0|         472.0|146757| 0.2457627118644068|0.040383299110198494| 0.9676591375770021|\n",
      "|    9|        75.0|         280.0|146760|0.26785714285714285|0.023956194387405885|  0.991615331964408|\n",
      "|   10|        26.0|          98.0|147201| 0.2653061224489796| 0.00838466803559206|                1.0|\n",
      "+-----+------------+--------------+------+-------------------+--------------------+-------------------+\n",
      "\n",
      "None"
     ]
    }
   ],
   "source": [
    "%%spark\n",
    "\n",
    "#2017-09\n",
    "monthly_performance(\n",
    "    loanpurpose = 'purchase',\n",
    "    score_file = 'pred_MoverV3_2_sep17_20190718.csv', \n",
    "    servicecalendardate = '2017-09-30', \n",
    "    df_actual = actual, \n",
    "    result_path = result_path_pur, \n",
    "    n = 10, \n",
    "    ls_prob = ['logRegProb', 'randForProb', 'gbtProb'],\n",
    "    nrow = 10\n",
    ")"
   ]
  },
  {
   "cell_type": "code",
   "execution_count": 14,
   "metadata": {
    "collapsed": true
   },
   "outputs": [
    {
     "name": "stdout",
     "output_type": "stream",
     "text": [
      "logRegProb:\n",
      "+-----+------------+--------------+------+-------------------+--------------------+------------------+\n",
      "|ntile|retained_new|purchasepayoff| count|     retention_rate|          percentage|           cum_sum|\n",
      "+-----+------------+--------------+------+-------------------+--------------------+------------------+\n",
      "|    1|       526.0|        2962.0|152537| 0.1775827143821742|  0.2324960753532182|0.2324960753532182|\n",
      "|    2|       447.0|        1881.0|153454|0.23763955342902712| 0.14764521193092622|0.3801412872841444|\n",
      "|    3|       406.0|        1581.0|152615| 0.2567994939911448| 0.12409733124018839|0.5042386185243328|\n",
      "|    4|       325.0|        1327.0|153056| 0.2449133383571967| 0.10416012558869701|0.6083987441130299|\n",
      "|    5|       259.0|        1101.0|152843|0.23524069028156222| 0.08642072213500784|0.6948194662480377|\n",
      "|    6|       235.0|        1035.0|153301|0.22705314009661837| 0.08124018838304553|0.7760596546310832|\n",
      "|    7|       192.0|         918.0|153085|0.20915032679738563| 0.07205651491365778| 0.848116169544741|\n",
      "|    8|       161.0|         779.0|152829|0.20667522464698332|0.061145996860282575|0.9092621664050236|\n",
      "|    9|       153.0|         677.0|153149| 0.2259970457902511|0.053139717425431714|0.9624018838304552|\n",
      "|   10|       124.0|         479.0|153135| 0.2588726513569937| 0.03759811616954474|               1.0|\n",
      "+-----+------------+--------------+------+-------------------+--------------------+------------------+\n",
      "\n",
      "None\n",
      "randForProb:\n",
      "+-----+------------+--------------+------+-------------------+--------------------+------------------+\n",
      "|ntile|retained_new|purchasepayoff| count|     retention_rate|          percentage|           cum_sum|\n",
      "+-----+------------+--------------+------+-------------------+--------------------+------------------+\n",
      "|    1|       687.0|        3532.0|152890|0.19450736126840318|  0.2772370486656201|0.2772370486656201|\n",
      "|    2|       477.0|        1880.0|152779|0.25372340425531914| 0.14756671899529042|0.4248037676609105|\n",
      "|    3|       355.0|        1556.0|153095|0.22814910025706941| 0.12213500784929357|0.5469387755102041|\n",
      "|    4|       300.0|        1324.0|152765|0.22658610271903323| 0.10392464678178964|0.6508634222919937|\n",
      "|    5|       280.0|        1117.0|153292|0.25067144136078784| 0.08767660910518053|0.7385400313971743|\n",
      "|    6|       228.0|        1060.0|152760|0.21509433962264152| 0.08320251177394035|0.8217425431711146|\n",
      "|    7|       186.0|         856.0|153220|0.21728971962616822| 0.06718995290423861|0.8889324960753532|\n",
      "|    8|       148.0|         748.0|152923|0.19786096256684493|   0.058712715855573|0.9476452119309262|\n",
      "|    9|       104.0|         433.0|153122|0.24018475750577367| 0.03398744113029827|0.9816326530612245|\n",
      "|   10|        63.0|         234.0|153158| 0.2692307692307692|0.018367346938775512|               1.0|\n",
      "+-----+------------+--------------+------+-------------------+--------------------+------------------+\n",
      "\n",
      "None\n",
      "gbtProb:\n",
      "+-----+------------+--------------+------+-------------------+--------------------+------------------+\n",
      "|ntile|retained_new|purchasepayoff| count|     retention_rate|          percentage|           cum_sum|\n",
      "+-----+------------+--------------+------+-------------------+--------------------+------------------+\n",
      "|    1|       821.0|        4149.0|152818|0.19787900698963606|  0.3256671899529042|0.3256671899529042|\n",
      "|    2|       478.0|        1965.0|153020|0.24325699745547075| 0.15423861852433282|0.4799058084772371|\n",
      "|    3|       340.0|        1504.0|153033|0.22606382978723405| 0.11805337519623234|0.5979591836734693|\n",
      "|    4|       305.0|        1290.0|153011| 0.2364341085271318| 0.10125588697017268|0.6992150706436421|\n",
      "|    5|       240.0|        1137.0|152880|0.21108179419525067| 0.08924646781789639|0.7884615384615384|\n",
      "|    6|       203.0|         893.0|152849|0.22732362821948487| 0.07009419152276296|0.8585557299843014|\n",
      "|    7|       178.0|         752.0|153045|0.23670212765957446| 0.05902668759811617|0.9175824175824175|\n",
      "|    8|       142.0|         580.0|153008|0.24482758620689654| 0.04552590266875981|0.9631083202511774|\n",
      "|    9|        88.0|         354.0|152939|0.24858757062146894|0.027786499215070645| 0.990894819466248|\n",
      "|   10|        33.0|         116.0|153401|0.28448275862068967|0.009105180533751962|               1.0|\n",
      "+-----+------------+--------------+------+-------------------+--------------------+------------------+\n",
      "\n",
      "None"
     ]
    }
   ],
   "source": [
    "%%spark\n",
    "\n",
    "#2017-12\n",
    "monthly_performance(\n",
    "    loanpurpose = 'purchase',\n",
    "    score_file = 'pred_MoverV3_2_dec17_20190718.csv', \n",
    "    servicecalendardate = '2017-12-31', \n",
    "    df_actual = actual, \n",
    "    result_path = result_path_pur, \n",
    "    n = 10, \n",
    "    ls_prob = ['logRegProb', 'randForProb', 'gbtProb'],\n",
    "    nrow = 10\n",
    ")"
   ]
  },
  {
   "cell_type": "code",
   "execution_count": 15,
   "metadata": {
    "collapsed": true
   },
   "outputs": [
    {
     "name": "stdout",
     "output_type": "stream",
     "text": [
      "logRegProb:\n",
      "+-----+------------+--------------+------+-------------------+-------------------+-------------------+\n",
      "|ntile|retained_new|purchasepayoff| count|     retention_rate|         percentage|            cum_sum|\n",
      "+-----+------------+--------------+------+-------------------+-------------------+-------------------+\n",
      "|    1|       818.0|        4809.0|157521|0.17009773341651072|0.24348134271682448|0.24348134271682448|\n",
      "|    2|       726.0|        2863.0|157830| 0.2535801606706252| 0.1449546858386917| 0.3884360285555162|\n",
      "|    3|       613.0|        2393.0|157713|0.25616381111575426| 0.1211584223583616| 0.5095944509138778|\n",
      "|    4|       560.0|        2094.0|157601|0.26743075453677173|0.10601994835704522|  0.615614399270923|\n",
      "|    5|       464.0|        1808.0|157851|0.25663716814159293|0.09153966887752518| 0.7071540681484482|\n",
      "|    6|       377.0|        1537.0|157768|0.24528301886792453|0.07781884461546251| 0.7849729127639107|\n",
      "|    7|       346.0|        1433.0|157797|0.24145150034891835|0.07255328844109159| 0.8575262012050022|\n",
      "|    8|       293.0|        1183.0|157905|0.24767540152155537|0.05989570148346919| 0.9174219026884715|\n",
      "|    9|       216.0|         966.0|157833| 0.2236024844720497|0.04890891600425295| 0.9663308186927244|\n",
      "|   10|       161.0|         665.0|157960|0.24210526315789474|0.03366918130727558|                1.0|\n",
      "+-----+------------+--------------+------+-------------------+-------------------+-------------------+\n",
      "\n",
      "None\n",
      "randForProb:\n",
      "+-----+------------+--------------+------+-------------------+-------------------+-------------------+\n",
      "|ntile|retained_new|purchasepayoff| count|     retention_rate|         percentage|            cum_sum|\n",
      "+-----+------------+--------------+------+-------------------+-------------------+-------------------+\n",
      "|    1|       940.0|        5290.0|157707| 0.1776937618147448|0.26783454002328994|0.26783454002328994|\n",
      "|    2|       853.0|        2796.0|157754| 0.3050786838340486|0.14156245253404892|0.40939699255733886|\n",
      "|    3|       671.0|        2717.0|157591|0.24696356275303644|0.13756265505544024| 0.5469596476127792|\n",
      "|    4|       491.0|        2084.0|157867| 0.2356046065259117|0.10551364487874032| 0.6524732924915194|\n",
      "|    5|       441.0|        1691.0|157804|0.26079243051448847| 0.0856159181813579| 0.7380892106728774|\n",
      "|    6|       361.0|        1658.0|157752|0.21773220747889022|0.08394511670295175|  0.822034327375829|\n",
      "|    7|       291.0|        1305.0|157748|0.22298850574712645|0.06607260391878893|  0.888106931294618|\n",
      "|    8|       236.0|        1065.0|157879| 0.2215962441314554|0.05392132043947142| 0.9420282517340894|\n",
      "|    9|       179.0|         703.0|157762| 0.2546230440967283|0.03559313452483419| 0.9776213862589236|\n",
      "|   10|       111.0|         442.0|157915|  0.251131221719457| 0.0223786137410764|                1.0|\n",
      "+-----+------------+--------------+------+-------------------+-------------------+-------------------+\n",
      "\n",
      "None\n",
      "gbtProb:\n",
      "+-----+------------+--------------+------+-------------------+--------------------+-------------------+\n",
      "|ntile|retained_new|purchasepayoff| count|     retention_rate|          percentage|            cum_sum|\n",
      "+-----+------------+--------------+------+-------------------+--------------------+-------------------+\n",
      "|    1|      1189.0|        6097.0|157441|  0.195013941282598| 0.30869323072249505|0.30869323072249505|\n",
      "|    2|       852.0|        3248.0|157618| 0.2623152709359606| 0.16444736975343022|0.47314060047592527|\n",
      "|    3|       594.0|        2418.0|158175| 0.2456575682382134| 0.12242418105412384| 0.5955647815300491|\n",
      "|    4|       511.0|        2107.0|157518| 0.2425249169435216| 0.10667814287884157| 0.7022429244088907|\n",
      "|    5|       404.0|        1665.0|157894|0.24264264264264265| 0.08429952913776517| 0.7865424535466559|\n",
      "|    6|       318.0|        1409.0|157829|0.22569198012775019| 0.07133816009315984| 0.8578806136398157|\n",
      "|    7|       253.0|        1128.0|157637|0.22429078014184398| 0.05711103235279227|  0.914991645992608|\n",
      "|    8|       214.0|         884.0|157987| 0.2420814479638009|  0.0447572274821528| 0.9597488734747608|\n",
      "|    9|       177.0|         576.0|157535| 0.3072916666666667|0.029163080350362008| 0.9889119538251228|\n",
      "|   10|        62.0|         219.0|158145| 0.2831050228310502|0.011088046174877221|                1.0|\n",
      "+-----+------------+--------------+------+-------------------+--------------------+-------------------+\n",
      "\n",
      "None"
     ]
    }
   ],
   "source": [
    "%%spark\n",
    "\n",
    "#2018-3\n",
    "monthly_performance(\n",
    "    loanpurpose = 'purchase',\n",
    "    score_file = 'pred_MoverV3_2_mar18_20190718.csv', \n",
    "    servicecalendardate = '2018-03-31', \n",
    "    df_actual = actual, \n",
    "    result_path = result_path_pur, \n",
    "    n = 10, \n",
    "    ls_prob = ['logRegProb', 'randForProb', 'gbtProb'],\n",
    "    nrow = 10\n",
    ")"
   ]
  },
  {
   "cell_type": "code",
   "execution_count": 16,
   "metadata": {
    "collapsed": true
   },
   "outputs": [
    {
     "name": "stdout",
     "output_type": "stream",
     "text": [
      "logRegProb:\n",
      "+-----+------------+--------------+------+-------------------+-------------------+------------------+\n",
      "|ntile|retained_new|purchasepayoff| count|     retention_rate|         percentage|           cum_sum|\n",
      "+-----+------------+--------------+------+-------------------+-------------------+------------------+\n",
      "|    1|       668.0|        3599.0|161678| 0.1856071130869686| 0.2102956643683534|0.2102956643683534|\n",
      "|    2|       612.0|        2348.0|162100| 0.2606473594548552| 0.1371976159869113|0.3474932803552647|\n",
      "|    3|       555.0|        2108.0|161782|0.26328273244781786|0.12317400958279771|0.4706672899380624|\n",
      "|    4|       516.0|        1860.0|162231|0.27741935483870966|0.10868294963188033|0.5793502395699427|\n",
      "|    5|       401.0|        1595.0|161959|0.25141065830721004| 0.0931985508940049|0.6725487904639477|\n",
      "|    6|       353.0|        1480.0|161869|0.23851351351351352|0.08647890615870048|0.7590276966226481|\n",
      "|    7|       293.0|        1281.0|161897|0.22872755659640906| 0.0748509991819563|0.8338786958046044|\n",
      "|    8|       308.0|        1213.0|161612| 0.2539159109645507|0.07087764403412411|0.9047563398387285|\n",
      "|    9|       204.0|         950.0|162350|0.21473684210526317|0.05551010868294963|0.9602664485216782|\n",
      "|   10|       197.0|         680.0|162217| 0.2897058823529412|0.03973355147832184|               1.0|\n",
      "+-----+------------+--------------+------+-------------------+-------------------+------------------+\n",
      "\n",
      "None\n",
      "randForProb:\n",
      "+-----+------------+--------------+------+-------------------+--------------------+-------------------+\n",
      "|ntile|retained_new|purchasepayoff| count|     retention_rate|          percentage|            cum_sum|\n",
      "+-----+------------+--------------+------+-------------------+--------------------+-------------------+\n",
      "|    1|       779.0|        3930.0|161734|0.19821882951653944| 0.22963655486736007|0.22963655486736007|\n",
      "|    2|       666.0|        2243.0|161870| 0.2969237628176549|  0.1310622881851116| 0.3606988430524717|\n",
      "|    3|       569.0|        2302.0|162183| 0.2471763683753258| 0.13450975809278953|0.49520860114526116|\n",
      "|    4|       499.0|        1992.0|161789| 0.2505020080321285|  0.1163959331541428|  0.611604534299404|\n",
      "|    5|       403.0|        1564.0|161990|0.25767263427109977| 0.09138716840014023| 0.7029917026995443|\n",
      "|    6|       354.0|        1633.0|161895|0.21677893447642377| 0.09541895524132289| 0.7984106579408671|\n",
      "|    7|       294.0|        1271.0|161943|0.23131392604248624| 0.07426668224845157| 0.8726773401893186|\n",
      "|    8|       231.0|        1022.0|162158|0.22602739726027396|0.059717190604183706| 0.9323945307935024|\n",
      "|    9|       185.0|         703.0|162003| 0.2631578947368421| 0.04107748042538273| 0.9734720112188852|\n",
      "|   10|       127.0|         454.0|162130|0.27973568281938327|0.026527988781114877|                1.0|\n",
      "+-----+------------+--------------+------+-------------------+--------------------+-------------------+\n",
      "\n",
      "None\n",
      "gbtProb:\n",
      "+-----+------------+--------------+------+-------------------+--------------------+------------------+\n",
      "|ntile|retained_new|purchasepayoff| count|     retention_rate|          percentage|           cum_sum|\n",
      "+-----+------------+--------------+------+-------------------+--------------------+------------------+\n",
      "|    1|       918.0|        4460.0|161509|0.20582959641255605|  0.2606053523431109|0.2606053523431109|\n",
      "|    2|       660.0|        2668.0|161906|0.24737631184407796| 0.15589575785906276|0.4165011102021737|\n",
      "|    3|       576.0|        2291.0|162206|0.25141859450021825| 0.13386700946593433| 0.550368119668108|\n",
      "|    4|       497.0|        1953.0|161959|0.25448028673835127| 0.11411709711347434|0.6644852167815823|\n",
      "|    5|       419.0|        1645.0|161973| 0.2547112462006079| 0.09612013556152857|0.7606053523431109|\n",
      "|    6|       317.0|        1310.0|162004|0.24198473282442748| 0.07654551828912001|0.8371508706322309|\n",
      "|    7|       261.0|        1091.0|162168| 0.2392300641613199| 0.06374897744536637|0.9008998480775973|\n",
      "|    8|       229.0|         882.0|161636|0.25963718820861675| 0.05153675353511745|0.9524366016127147|\n",
      "|    9|       163.0|         597.0|161937| 0.2730318257956449| 0.03488372093023256|0.9873203225429473|\n",
      "|   10|        67.0|         217.0|162397| 0.3087557603686636|0.012679677457052705|               1.0|\n",
      "+-----+------------+--------------+------+-------------------+--------------------+------------------+\n",
      "\n",
      "None"
     ]
    }
   ],
   "source": [
    "%%spark\n",
    "\n",
    "#2018-6\n",
    "monthly_performance(\n",
    "    loanpurpose = 'purchase',\n",
    "    score_file = 'pred_MoverV3_2_jun18_20190718.csv', \n",
    "    servicecalendardate = '2018-06-30', \n",
    "    df_actual = actual, \n",
    "    result_path = result_path_pur, \n",
    "    n = 10, \n",
    "    ls_prob = ['logRegProb', 'randForProb', 'gbtProb'],\n",
    "    nrow = 10\n",
    ")"
   ]
  },
  {
   "cell_type": "code",
   "execution_count": 11,
   "metadata": {
    "collapsed": true
   },
   "outputs": [
    {
     "name": "stdout",
     "output_type": "stream",
     "text": [
      "gbtProb:\n",
      "+-----+------------+--------------+------+-------------------+--------------------+------------------+\n",
      "|ntile|retained_new|purchasepayoff| count|     retention_rate|          percentage|           cum_sum|\n",
      "+-----+------------+--------------+------+-------------------+--------------------+------------------+\n",
      "|    1|       715.0|        3296.0|165141|0.21692961165048544|  0.2181481236349196|0.2181481236349196|\n",
      "|    2|       605.0|        2384.0|165231| 0.2537751677852349| 0.15778674961943212|0.3759348732543517|\n",
      "|    3|       491.0|        2109.0|164806| 0.2328117591275486| 0.13958567741081473|0.5155205506651664|\n",
      "|    4|       456.0|        1738.0|165554|0.26237054085155354| 0.11503077635846184|0.6305513270236283|\n",
      "|    5|       352.0|        1495.0|165375| 0.2354515050167224|  0.0989476470977563|0.7294989741213846|\n",
      "|    6|       299.0|        1300.0|165305|               0.23| 0.08604143225891853|0.8155404063803031|\n",
      "|    7|       238.0|        1080.0|165103|0.22037037037037038| 0.07148057449202462|0.8870209808723277|\n",
      "|    8|       211.0|         875.0|165193|0.24114285714285713| 0.05791250248196439|0.9449334833542922|\n",
      "|    9|       161.0|         576.0|165305| 0.2795138888888889|0.038122973062413135|0.9830564564167052|\n",
      "|   10|        91.0|         256.0|165408|         0.35546875|0.016943543583294723|               1.0|\n",
      "+-----+------------+--------------+------+-------------------+--------------------+------------------+\n",
      "\n",
      "None"
     ]
    }
   ],
   "source": [
    "%%spark\n",
    "\n",
    "#2018-07\n",
    "monthly_performance(\n",
    "    loanpurpose = 'purchase',\n",
    "    score_file = 'pred_MoverV3_2_jul18_20190722.csv', \n",
    "    servicecalendardate = '2018-07-31', \n",
    "    df_actual = actual, \n",
    "    result_path = result_path_pur, \n",
    "    n = 10, \n",
    "    ls_prob = ['gbtProb'],\n",
    "    nrow = 10\n",
    ")"
   ]
  },
  {
   "cell_type": "code",
   "execution_count": 12,
   "metadata": {
    "collapsed": true
   },
   "outputs": [
    {
     "name": "stdout",
     "output_type": "stream",
     "text": [
      "gbtProb:\n",
      "+-----+------------+--------------+------+-------------------+--------------------+-------------------+\n",
      "|ntile|retained_new|purchasepayoff| count|     retention_rate|          percentage|            cum_sum|\n",
      "+-----+------------+--------------+------+-------------------+--------------------+-------------------+\n",
      "|    1|       670.0|        2879.0|166664| 0.2327196943383119|  0.1992939221929946| 0.1992939221929946|\n",
      "|    2|       585.0|        2313.0|166998| 0.2529182879377432| 0.16011352623563616|0.35940744842863076|\n",
      "|    3|       444.0|        2009.0|166822|0.22100547536087606| 0.13906963865429878|0.49847708708292954|\n",
      "|    4|       378.0|        1647.0|166896|0.22950819672131148| 0.11401079883704832| 0.6124878859199778|\n",
      "|    5|       323.0|        1487.0|166958| 0.2172158708809684| 0.10293506853108127| 0.7154229544510591|\n",
      "|    6|       292.0|        1281.0|166978|0.22794691647150664| 0.08867506576214869| 0.8040980202132078|\n",
      "|    7|       241.0|        1101.0|166879|0.21889191643960038| 0.07621486916793577| 0.8803128893811436|\n",
      "|    8|       192.0|         862.0|166954|0.22273781902552203| 0.05967049702339748|  0.939983386404541|\n",
      "|    9|       163.0|         597.0|166410| 0.2730318257956449| 0.04132631870413955| 0.9813097051086807|\n",
      "|   10|        90.0|         270.0|167643| 0.3333333333333333|0.018690294891319396|                1.0|\n",
      "+-----+------------+--------------+------+-------------------+--------------------+-------------------+\n",
      "\n",
      "None"
     ]
    }
   ],
   "source": [
    "%%spark\n",
    "\n",
    "#2018-08\n",
    "monthly_performance(\n",
    "    loanpurpose = 'purchase',\n",
    "    score_file = 'pred_MoverV3_2_aug18_20190722.csv', \n",
    "    servicecalendardate = '2018-08-31', \n",
    "    df_actual = actual, \n",
    "    result_path = result_path_pur, \n",
    "    n = 10, \n",
    "    ls_prob = ['gbtProb'],\n",
    "    nrow = 10\n",
    ")"
   ]
  },
  {
   "cell_type": "code",
   "execution_count": 13,
   "metadata": {},
   "outputs": [
    {
     "name": "stdout",
     "output_type": "stream",
     "text": [
      "gbtProb:\n",
      "+-----+------------+--------------+------+-------------------+-------------------+-------------------+\n",
      "|ntile|retained_new|purchasepayoff| count|     retention_rate|         percentage|            cum_sum|\n",
      "+-----+------------+--------------+------+-------------------+-------------------+-------------------+\n",
      "|    1|       590.0|        2970.0|168055|0.19865319865319866| 0.2421327246045981| 0.2421327246045981|\n",
      "|    2|       446.0|        1806.0|168093| 0.2469545957918051|0.14723626284037175|0.38936898744496984|\n",
      "|    3|       372.0|        1507.0|168594| 0.2468480424684804|0.12285993804011087| 0.5122289254850807|\n",
      "|    4|       350.0|        1368.0|168132|0.25584795321637427|0.11152780042393608| 0.6237567259090168|\n",
      "|    5|       285.0|        1167.0|168748| 0.2442159383033419|0.09514104027392793| 0.7188977661829448|\n",
      "|    6|       233.0|        1061.0|168240|0.21960414703110273| 0.0864992662644709| 0.8053970324474157|\n",
      "|    7|       196.0|         917.0|168383|0.21374045801526717|0.07475949779879341|  0.880156530246209|\n",
      "|    8|       175.0|         741.0|168278|0.23616734143049933|0.06041089189629871| 0.9405674221425078|\n",
      "|    9|       127.0|         489.0|168281|0.25971370143149286|0.03986629708136312| 0.9804337192238709|\n",
      "|   10|        77.0|         240.0|168779|0.32083333333333336|0.01956628077612914|                1.0|\n",
      "+-----+------------+--------------+------+-------------------+-------------------+-------------------+\n",
      "\n",
      "None"
     ]
    }
   ],
   "source": [
    "%%spark\n",
    "\n",
    "#2018-09\n",
    "monthly_performance(\n",
    "    loanpurpose = 'purchase',\n",
    "    score_file = 'pred_MoverV3_2_sep18_20190718.csv', \n",
    "    servicecalendardate = '2018-09-30', \n",
    "    df_actual = actual, \n",
    "    result_path = result_path_pur, \n",
    "    n = 10, \n",
    "    ls_prob = ['gbtProb'],\n",
    "    nrow = 10\n",
    ")"
   ]
  },
  {
   "cell_type": "code",
   "execution_count": 13,
   "metadata": {
    "collapsed": true
   },
   "outputs": [
    {
     "name": "stdout",
     "output_type": "stream",
     "text": [
      "gbtProb:\n",
      "+-----+------------+--------------+------+-------------------+--------------------+------------------+\n",
      "|ntile|retained_new|purchasepayoff| count|     retention_rate|          percentage|           cum_sum|\n",
      "+-----+------------+--------------+------+-------------------+--------------------+------------------+\n",
      "|    1|       519.0|        2742.0|169709|0.18927789934354486|  0.2507544581618656|0.2507544581618656|\n",
      "|    2|       372.0|        1612.0|169740|0.23076923076923078| 0.14741655235482395|0.3981710105166895|\n",
      "|    3|       388.0|        1432.0|169999| 0.2709497206703911|  0.1309556470050297|0.5291266575217193|\n",
      "|    4|       278.0|        1141.0|169975|0.24364592462751972| 0.10434385002286237|0.6334705075445817|\n",
      "|    5|       237.0|        1046.0|170128|0.22657743785850862| 0.09565614997713763|0.7291266575217192|\n",
      "|    6|       196.0|         888.0|170073|0.22072072072072071| 0.08120713305898491|0.8103337905807042|\n",
      "|    7|       172.0|         788.0|169748| 0.2182741116751269| 0.07206218564243255|0.8823959762231367|\n",
      "|    8|       139.0|         630.0|169787|0.22063492063492063| 0.05761316872427984|0.9400091449474165|\n",
      "|    9|       117.0|         455.0|170082| 0.2571428571428571|0.041609510745313216|0.9816186556927298|\n",
      "|   10|        55.0|         201.0|170269| 0.2736318407960199|0.018381344307270234|               1.0|\n",
      "+-----+------------+--------------+------+-------------------+--------------------+------------------+\n",
      "\n",
      "None"
     ]
    }
   ],
   "source": [
    "%%spark\n",
    "\n",
    "#2018-10\n",
    "monthly_performance(\n",
    "    loanpurpose = 'purchase',\n",
    "    score_file = 'pred_MoverV3_2_oct18_20190722.csv', \n",
    "    servicecalendardate = '2018-10-31', \n",
    "    df_actual = actual, \n",
    "    result_path = result_path_pur, \n",
    "    n = 10, \n",
    "    ls_prob = ['gbtProb'],\n",
    "    nrow = 10\n",
    ")"
   ]
  },
  {
   "cell_type": "code",
   "execution_count": 14,
   "metadata": {
    "collapsed": true
   },
   "outputs": [
    {
     "name": "stdout",
     "output_type": "stream",
     "text": [
      "gbtProb:\n",
      "+-----+------------+--------------+------+-------------------+--------------------+-------------------+\n",
      "|ntile|retained_new|purchasepayoff| count|     retention_rate|          percentage|            cum_sum|\n",
      "+-----+------------+--------------+------+-------------------+--------------------+-------------------+\n",
      "|    1|       535.0|        2656.0|170979|0.20143072289156627| 0.23627791121786318|0.23627791121786318|\n",
      "|    2|       434.0|        1735.0|171448| 0.2501440922190202|  0.1543456987812472| 0.3906236099991104|\n",
      "|    3|       330.0|        1411.0|171561|0.23387668320340185| 0.12552264033448982| 0.5161462503336002|\n",
      "|    4|       289.0|        1256.0|171132| 0.2300955414012739| 0.11173383150965216| 0.6278800818432524|\n",
      "|    5|       216.0|        1067.0|171354|0.20243673851921273| 0.09492038074904367|  0.722800462592296|\n",
      "|    6|       191.0|         972.0|171252|0.19650205761316872| 0.08646917534027222| 0.8092696379325682|\n",
      "|    7|       177.0|         799.0|171336|0.22152690863579474| 0.07107908549061472|  0.880348723423183|\n",
      "|    8|       136.0|         648.0|171731|0.20987654320987653|0.057646116893514815| 0.9379948403166978|\n",
      "|    9|       124.0|         486.0|171134| 0.2551440329218107| 0.04323458767013611| 0.9812294279868339|\n",
      "|   10|        60.0|         211.0|171688| 0.2843601895734597| 0.01877057201316609|                1.0|\n",
      "+-----+------------+--------------+------+-------------------+--------------------+-------------------+\n",
      "\n",
      "None"
     ]
    }
   ],
   "source": [
    "%%spark\n",
    "\n",
    "#2018-11\n",
    "monthly_performance(\n",
    "    loanpurpose = 'purchase',\n",
    "    score_file = 'pred_MoverV3_2_nov18_20190722.csv', \n",
    "    servicecalendardate = '2018-11-30', \n",
    "    df_actual = actual, \n",
    "    result_path = result_path_pur, \n",
    "    n = 10, \n",
    "    ls_prob = ['gbtProb'],\n",
    "    nrow = 10\n",
    ")"
   ]
  },
  {
   "cell_type": "code",
   "execution_count": 11,
   "metadata": {
    "collapsed": true
   },
   "outputs": [
    {
     "name": "stdout",
     "output_type": "stream",
     "text": [
      "gbtProb:\n",
      "+-----+------------+--------------+------+-------------------+--------------------+-------------------+\n",
      "|ntile|retained_new|purchasepayoff| count|     retention_rate|          percentage|            cum_sum|\n",
      "+-----+------------+--------------+------+-------------------+--------------------+-------------------+\n",
      "|    1|       632.0|        3196.0|172551|0.19774718397997496| 0.23206505954109788|0.23206505954109788|\n",
      "|    2|       389.0|        1769.0|172439|0.21989824759751272| 0.12844902701132732|0.36051408655242523|\n",
      "|    3|       389.0|        1640.0|172449| 0.2371951219512195| 0.11908219575951205|0.47959628231193724|\n",
      "|    4|       337.0|        1583.0|172732|0.21288692356285535| 0.11494336334591926| 0.5945396456578566|\n",
      "|    5|       324.0|        1443.0|172562|0.22453222453222454| 0.10477781004937554|  0.699317455707232|\n",
      "|    6|       276.0|        1274.0|172760|0.21664050235478807| 0.09250653499854777| 0.7918239907057798|\n",
      "|    7|       265.0|        1106.0|172568|0.23960216998191683| 0.08030787104269532| 0.8721318617484751|\n",
      "|    8|       191.0|         880.0|172463|0.21704545454545454| 0.06389776357827476| 0.9360296253267499|\n",
      "|    9|       177.0|         619.0|172549| 0.2859450726978998| 0.04494626778971827| 0.9809758931164682|\n",
      "|   10|        72.0|         262.0|172944| 0.2748091603053435|0.019024106883531802|                1.0|\n",
      "+-----+------------+--------------+------+-------------------+--------------------+-------------------+\n",
      "\n",
      "None"
     ]
    }
   ],
   "source": [
    "%%spark\n",
    "\n",
    "#2018-12\n",
    "monthly_performance(\n",
    "    loanpurpose = 'purchase',\n",
    "    score_file = 'pred_MoverV3_2_dec18_20190718.csv', \n",
    "    servicecalendardate = '2018-12-31', \n",
    "    df_actual = actual, \n",
    "    result_path = result_path_pur, \n",
    "    n = 10, \n",
    "    ls_prob = ['gbtProb'],\n",
    "    nrow = 10\n",
    ")"
   ]
  },
  {
   "cell_type": "code",
   "execution_count": 14,
   "metadata": {},
   "outputs": [
    {
     "name": "stdout",
     "output_type": "stream",
     "text": [
      "gbtProb:\n",
      "+-----+------------+--------------+------+-------------------+--------------------+-------------------+\n",
      "|ntile|retained_new|purchasepayoff| count|     retention_rate|          percentage|            cum_sum|\n",
      "+-----+------------+--------------+------+-------------------+--------------------+-------------------+\n",
      "|    1|       622.0|        2903.0|173601|  0.214261109197382| 0.16938966040378106|0.16938966040378106|\n",
      "|    2|       531.0|        2339.0|173649|0.22702009405728943| 0.13648033609522697|0.30586999649900803|\n",
      "|    3|       504.0|        2215.0|174294| 0.2275395033860045| 0.12924495273660871| 0.4351149492356168|\n",
      "|    4|       439.0|        2127.0|173689| 0.2063939821344617| 0.12411016454662155| 0.5592251137822383|\n",
      "|    5|       440.0|        1947.0|174023|0.22598870056497175| 0.11360718870346598| 0.6728323024857042|\n",
      "|    6|       389.0|        1758.0|173821|0.22127417519908987| 0.10257906406815265| 0.7754113665538569|\n",
      "|    7|       321.0|        1468.0|174023| 0.2186648501362398| 0.08565760298751313|   0.86106896954137|\n",
      "|    8|       274.0|        1195.0|173673| 0.2292887029288703| 0.06972808962539385| 0.9307970591667639|\n",
      "|    9|       208.0|         828.0|173738|0.25120772946859904| 0.04831368887851558| 0.9791107480452795|\n",
      "|   10|        91.0|         358.0|174283| 0.2541899441340782|0.020889251954720505|                1.0|\n",
      "+-----+------------+--------------+------+-------------------+--------------------+-------------------+\n",
      "\n",
      "None"
     ]
    }
   ],
   "source": [
    "%%spark\n",
    "\n",
    "#2019-01\n",
    "monthly_performance(\n",
    "    loanpurpose = 'purchase',\n",
    "    score_file = 'pred_MoverV3_2_jan19_20190722.csv', \n",
    "    servicecalendardate = '2019-01-31', \n",
    "    df_actual = actual, \n",
    "    result_path = result_path_pur, \n",
    "    n = 10, \n",
    "    ls_prob = ['gbtProb'],\n",
    "    nrow = 10\n",
    ")"
   ]
  },
  {
   "cell_type": "code",
   "execution_count": 15,
   "metadata": {},
   "outputs": [
    {
     "name": "stdout",
     "output_type": "stream",
     "text": [
      "gbtProb:\n",
      "+-----+------------+--------------+------+-------------------+--------------------+-------------------+\n",
      "|ntile|retained_new|purchasepayoff| count|     retention_rate|          percentage|            cum_sum|\n",
      "+-----+------------+--------------+------+-------------------+--------------------+-------------------+\n",
      "|    1|       716.0|        3253.0|175002|0.22010451890562557| 0.16977193257136894|0.16977193257136894|\n",
      "|    2|       629.0|        2750.0|175194|0.22872727272727272| 0.14352069307447418| 0.3132926256458431|\n",
      "|    3|       555.0|        2424.0|175342|0.22896039603960397| 0.12650696727728197| 0.4397995929231251|\n",
      "|    4|       519.0|        2357.0|175179| 0.2201951633432329| 0.12301028130055842| 0.5628098742236836|\n",
      "|    5|       479.0|        2227.0|175131|0.21508756174225416| 0.11622566671885601| 0.6790355409425395|\n",
      "|    6|       443.0|        1998.0|175382|0.22172172172172172| 0.10427430718647253|  0.783309848129012|\n",
      "|    7|       357.0|        1559.0|175323| 0.2289929441949968| 0.08136318563749283| 0.8646730337665048|\n",
      "|    8|       284.0|        1300.0|175327|0.21846153846153846| 0.06784614581702417|  0.932519179583529|\n",
      "|    9|       224.0|         899.0|175272|0.24916573971078976| 0.04691821929961902| 0.9794373988831481|\n",
      "|   10|       109.0|         394.0|175441| 0.2766497461928934|0.020562601116851938|                1.0|\n",
      "+-----+------------+--------------+------+-------------------+--------------------+-------------------+\n",
      "\n",
      "None"
     ]
    }
   ],
   "source": [
    "%%spark\n",
    "\n",
    "#2019-02\n",
    "monthly_performance(\n",
    "    loanpurpose = 'purchase',\n",
    "    score_file = 'pred_MoverV3_2_feb19_20190722.csv', \n",
    "    servicecalendardate = '2019-02-28', \n",
    "    df_actual = actual, \n",
    "    result_path = result_path_pur, \n",
    "    n = 10, \n",
    "    ls_prob = ['gbtProb'],\n",
    "    nrow = 10\n",
    ")"
   ]
  },
  {
   "cell_type": "code",
   "execution_count": 12,
   "metadata": {},
   "outputs": [
    {
     "name": "stdout",
     "output_type": "stream",
     "text": [
      "gbtProb:\n",
      "+-----+------------+--------------+------+-------------------+-------------------+-------------------+\n",
      "|ntile|retained_new|purchasepayoff| count|     retention_rate|         percentage|            cum_sum|\n",
      "+-----+------------+--------------+------+-------------------+-------------------+-------------------+\n",
      "|    1|       891.0|        5025.0|176704| 0.1773134328358209|0.24510999463440808|0.24510999463440808|\n",
      "|    2|       663.0|        2842.0|177189|0.23328641801548206|0.13862738403004732| 0.3837373786644554|\n",
      "|    3|       601.0|        2452.0|176706|0.24510603588907015|0.11960392175991415| 0.5033413004243695|\n",
      "|    4|       562.0|        2225.0|176841|0.25258426966292136|0.10853129115652894| 0.6118725915808985|\n",
      "|    5|       520.0|        2086.0|177305|   0.24928092042186|0.10175113409101995| 0.7136237256719185|\n",
      "|    6|       411.0|        1808.0|177221|0.22732300884955753|0.08819081996000196| 0.8018145456319203|\n",
      "|    7|       363.0|        1579.0|176727| 0.2298923369221026|0.07702063313984683| 0.8788351787717672|\n",
      "|    8|       289.0|        1184.0|177081|0.24408783783783783|0.05775328032778889| 0.9365884590995561|\n",
      "|    9|       225.0|         909.0|176994|0.24752475247524752|0.04433930052192576| 0.9809277596214819|\n",
      "|   10|       102.0|         391.0|177247| 0.2608695652173913|0.01907224037851812|                1.0|\n",
      "+-----+------------+--------------+------+-------------------+-------------------+-------------------+\n",
      "\n",
      "None"
     ]
    }
   ],
   "source": [
    "%%spark\n",
    "\n",
    "#2019-03\n",
    "monthly_performance(\n",
    "    loanpurpose = 'purchase',\n",
    "    score_file = 'pred_MoverV3_2_mar19_20190722.csv', \n",
    "    servicecalendardate = '2019-03-31', \n",
    "    df_actual = actual, \n",
    "    result_path = result_path_pur, \n",
    "    n = 10, \n",
    "    ls_prob = ['gbtProb'],\n",
    "    nrow = 10\n",
    ")"
   ]
  },
  {
   "cell_type": "markdown",
   "metadata": {},
   "source": [
    "### (2). Refi Retention"
   ]
  },
  {
   "cell_type": "code",
   "execution_count": 20,
   "metadata": {
    "collapsed": true
   },
   "outputs": [
    {
     "name": "stdout",
     "output_type": "stream",
     "text": [
      "logRegProb:\n",
      "+-----+------------+----------+------+-------------------+--------------------+-------------------+\n",
      "|ntile|retained_new|refipayoff| count|     retention_rate|          percentage|            cum_sum|\n",
      "+-----+------------+----------+------+-------------------+--------------------+-------------------+\n",
      "|    1|      3030.0|    5463.0|132551| 0.5546403075233388| 0.21024476600985223|0.21024476600985223|\n",
      "|    2|      2646.0|    4114.0|132629| 0.6431696645600389| 0.15832820197044334|0.36857296798029554|\n",
      "|    3|      2571.0|    3732.0|132529| 0.6889067524115756|  0.1436268472906404| 0.5121998152709359|\n",
      "|    4|      2018.0|    2992.0|132636| 0.6744652406417112| 0.11514778325123153| 0.6273475985221675|\n",
      "|    5|      1729.0|    2608.0|132637| 0.6629601226993865| 0.10036945812807882| 0.7277170566502463|\n",
      "|    6|      1524.0|    2235.0|132692| 0.6818791946308724| 0.08601447044334976| 0.8137315270935961|\n",
      "|    7|      1167.0|    1844.0|132674| 0.6328633405639913|  0.0709667487684729|  0.884698275862069|\n",
      "|    8|       849.0|    1421.0|132571|  0.597466572836031|           0.0546875|  0.939385775862069|\n",
      "|    9|       518.0|     987.0|132625|  0.524822695035461|0.037984913793103446| 0.9773706896551724|\n",
      "|   10|       261.0|     588.0|132831|0.44387755102040816|0.022629310344827586|                1.0|\n",
      "+-----+------------+----------+------+-------------------+--------------------+-------------------+\n",
      "\n",
      "None\n",
      "randForProb:\n",
      "+-----+------------+----------+------+-------------------+--------------------+-------------------+\n",
      "|ntile|retained_new|refipayoff| count|     retention_rate|          percentage|            cum_sum|\n",
      "+-----+------------+----------+------+-------------------+--------------------+-------------------+\n",
      "|    1|      4229.0|    6345.0|132353| 0.6665090622537431| 0.24418873152709358|0.24418873152709358|\n",
      "|    2|      2879.0|    4075.0|132523| 0.7065030674846626| 0.15682727832512317|0.40101600985221675|\n",
      "|    3|      2383.0|    3773.0|132825| 0.6315928968990193| 0.14520474137931033| 0.5462207512315271|\n",
      "|    4|      1848.0|    3074.0|132786| 0.6011711125569291| 0.11830357142857142| 0.6645243226600985|\n",
      "|    5|      1571.0|    2518.0|132511| 0.6239078633836378|  0.0969057881773399| 0.7614301108374384|\n",
      "|    6|      1333.0|    2255.0|132705| 0.5911308203991131|  0.0867841748768473| 0.8482142857142857|\n",
      "|    7|       998.0|    1798.0|132393| 0.5550611790878754| 0.06919642857142858| 0.9174107142857143|\n",
      "|    8|       644.0|    1195.0|132658| 0.5389121338912134|0.045989839901477834| 0.9634005541871922|\n",
      "|    9|       339.0|     685.0|132747| 0.4948905109489051| 0.02636237684729064| 0.9897629310344828|\n",
      "|   10|        89.0|     266.0|132874|0.33458646616541354|0.010237068965517241|                1.0|\n",
      "+-----+------------+----------+------+-------------------+--------------------+-------------------+\n",
      "\n",
      "None\n",
      "gbtProb:\n",
      "+-----+------------+----------+------+-------------------+--------------------+------------------+\n",
      "|ntile|retained_new|refipayoff| count|     retention_rate|          percentage|           cum_sum|\n",
      "+-----+------------+----------+------+-------------------+--------------------+------------------+\n",
      "|    1|      5619.0|    8284.0|132545| 0.6782955094157412|  0.3188115763546798|0.3188115763546798|\n",
      "|    2|      2907.0|    4427.0|132539| 0.6566523605150214|  0.1703740763546798|0.4891856527093596|\n",
      "|    3|      2116.0|    3425.0|132690| 0.6178102189781022|  0.1318118842364532|0.6209975369458128|\n",
      "|    4|      1745.0|    2832.0|132612| 0.6161723163841808| 0.10899014778325124|0.7299876847290641|\n",
      "|    5|      1376.0|    2300.0|132650| 0.5982608695652174| 0.08851600985221675|0.8185036945812808|\n",
      "|    6|      1048.0|    1834.0|132570| 0.5714285714285714| 0.07058189655172414|0.8890855911330049|\n",
      "|    7|       799.0|    1400.0|132730| 0.5707142857142857| 0.05387931034482758|0.9429649014778325|\n",
      "|    8|       462.0|     864.0|132641| 0.5347222222222222|  0.0332512315270936|0.9762161330049262|\n",
      "|    9|       187.0|     464.0|132592|0.40301724137931033|0.017857142857142856| 0.994073275862069|\n",
      "|   10|        54.0|     154.0|132806|0.35064935064935066|0.005926724137931034|               1.0|\n",
      "+-----+------------+----------+------+-------------------+--------------------+------------------+\n",
      "\n",
      "None"
     ]
    }
   ],
   "source": [
    "%%spark\n",
    "\n",
    "#2016-12\n",
    "monthly_performance(\n",
    "    loanpurpose = 'refi',\n",
    "    score_file = 'pred_refiV1_3_dec16_20190716.csv', \n",
    "    servicecalendardate = '2016-12-31', \n",
    "    df_actual = actual, \n",
    "    result_path = result_path_refi, \n",
    "    n = 10, \n",
    "    ls_prob = ['logRegProb', 'randForProb', 'gbtProb'],\n",
    "    nrow = 10\n",
    ")"
   ]
  },
  {
   "cell_type": "code",
   "execution_count": 25,
   "metadata": {
    "collapsed": true
   },
   "outputs": [
    {
     "name": "stdout",
     "output_type": "stream",
     "text": [
      "logRegProb:\n",
      "+-----+------------+----------+------+-------------------+--------------------+-------------------+\n",
      "|ntile|retained_new|refipayoff| count|     retention_rate|          percentage|            cum_sum|\n",
      "+-----+------------+----------+------+-------------------+--------------------+-------------------+\n",
      "|    1|      3452.0|    6234.0|137694| 0.5537375681745268| 0.19777291329589797|0.19777291329589797|\n",
      "|    2|      2791.0|    4352.0|137872| 0.6413143382352942| 0.13806668570159575| 0.3358395989974937|\n",
      "|    3|      2800.0|    4159.0|137955| 0.6732387593171435| 0.13194378350940641|0.46778338250690016|\n",
      "|    4|      2497.0|    3659.0|137850| 0.6824268925936048| 0.11608134259699883|  0.583864725103899|\n",
      "|    5|      2172.0|    3284.0|137994| 0.6613885505481121| 0.10418451191269312| 0.6880492370165922|\n",
      "|    6|      1883.0|    2875.0|137904| 0.6549565217391304|  0.0912090352463437| 0.7792582722629359|\n",
      "|    7|      1560.0|    2384.0|137728| 0.6543624161073825| 0.07563211827035944| 0.8548903905332953|\n",
      "|    8|      1285.0|    2064.0|138103|  0.622577519379845| 0.06548015608641858| 0.9203705466197138|\n",
      "|    9|       854.0|    1532.0|137743| 0.5574412532637075| 0.04860251895561689| 0.9689730655753307|\n",
      "|   10|       438.0|     978.0|138251|0.44785276073619634|0.031026934424669268|                1.0|\n",
      "+-----+------------+----------+------+-------------------+--------------------+-------------------+\n",
      "\n",
      "None\n",
      "randForProb:\n",
      "+-----+------------+----------+------+------------------+--------------------+-------------------+\n",
      "|ntile|retained_new|refipayoff| count|    retention_rate|          percentage|            cum_sum|\n",
      "+-----+------------+----------+------+------------------+--------------------+-------------------+\n",
      "|    1|      4556.0|    7095.0|137702|0.6421423537702607| 0.22508803654706386|0.22508803654706386|\n",
      "|    2|      3525.0|    4992.0|137893|0.7061298076923077|  0.1583706100694775|0.38345864661654133|\n",
      "|    3|      2613.0|    4144.0|137879| 0.630550193050193|  0.1314679102820342| 0.5149265568985756|\n",
      "|    4|      2199.0|    3479.0|137954|0.6320781833860305|  0.1103708638685321| 0.6252974207671076|\n",
      "|    5|      2050.0|    3252.0|137761|0.6303813038130381| 0.10316931569429903| 0.7284667364614067|\n",
      "|    6|      1668.0|    2770.0|137933|0.6021660649819495| 0.08787792265473811| 0.8163446591161448|\n",
      "|    7|      1279.0|    2250.0|137962|0.5684444444444444| 0.07138098410583421|  0.887725643221979|\n",
      "|    8|       884.0|    1578.0|138100|0.5602027883396705| 0.05006186351955839| 0.9377875067415374|\n",
      "|    9|       701.0|    1303.0|137735|0.5379892555640828| 0.04133752101773421| 0.9791250277592716|\n",
      "|   10|       257.0|     658.0|138175|0.3905775075987842|0.020874972240728405|                1.0|\n",
      "+-----+------------+----------+------+------------------+--------------------+-------------------+\n",
      "\n",
      "None\n",
      "gbtProb:\n",
      "+-----+------------+----------+------+-------------------+--------------------+------------------+\n",
      "|ntile|retained_new|refipayoff| count|     retention_rate|          percentage|           cum_sum|\n",
      "+-----+------------+----------+------+-------------------+--------------------+------------------+\n",
      "|    1|      5745.0|    8734.0|137667| 0.6577742157087245|   0.277085117857936| 0.277085117857936|\n",
      "|    2|      3557.0|    5330.0|137986| 0.6673545966228893| 0.16909362012626503| 0.446178737984201|\n",
      "|    3|      2732.0|    4226.0|137996| 0.6464742072882158| 0.13406935059166905|0.5802480885758701|\n",
      "|    4|      2206.0|    3530.0|137736|  0.624929178470255| 0.11198883284159766|0.6922369214174677|\n",
      "|    5|      1729.0|    2921.0|138084| 0.5919205751454981| 0.09266837981028521|0.7849053012277529|\n",
      "|    6|      1493.0|    2472.0|137709| 0.6039644012944984| 0.07842390787094318|0.8633292090986961|\n",
      "|    7|      1088.0|    1828.0|138057| 0.5951859956236324| 0.05799308397576219|0.9213222930744583|\n",
      "|    8|       668.0|    1272.0|137670| 0.5251572327044025| 0.04035404968116494|0.9616763427556232|\n",
      "|    9|       390.0|     857.0|138082|0.45507584597432904|0.027188223723866627|0.9888645664794898|\n",
      "|   10|       124.0|     351.0|138107|0.35327635327635326|0.011135433520510137|               1.0|\n",
      "+-----+------------+----------+------+-------------------+--------------------+------------------+\n",
      "\n",
      "None"
     ]
    }
   ],
   "source": [
    "%%spark\n",
    "\n",
    "#2017-03\n",
    "monthly_performance(\n",
    "    loanpurpose = 'refi',\n",
    "    score_file = 'pred_refiV1_3_mar17_20190716.csv', \n",
    "    servicecalendardate = '2017-03-31', \n",
    "    df_actual = actual, \n",
    "    result_path = result_path_refi, \n",
    "    n = 10, \n",
    "    ls_prob = ['logRegProb', 'randForProb', 'gbtProb'],\n",
    "    nrow = 10\n",
    ")"
   ]
  },
  {
   "cell_type": "code",
   "execution_count": 22,
   "metadata": {
    "collapsed": true
   },
   "outputs": [
    {
     "name": "stdout",
     "output_type": "stream",
     "text": [
      "logRegProb:\n",
      "+-----+------------+----------+------+------------------+--------------------+-------------------+\n",
      "|ntile|retained_new|refipayoff| count|    retention_rate|          percentage|            cum_sum|\n",
      "+-----+------------+----------+------+------------------+--------------------+-------------------+\n",
      "|    1|      4306.0|    7474.0|142276|0.5761305860315761|  0.1766401966345245| 0.1766401966345245|\n",
      "|    2|      3577.0|    5274.0|142309|0.6782328403488813| 0.12464549064095293| 0.3012856872754774|\n",
      "|    3|      3768.0|    5255.0|142254|0.7170313986679353| 0.12419644545282663|0.42548213272830404|\n",
      "|    4|      3680.0|    4990.0|142497|0.7374749498997996| 0.11793344677632824| 0.5434155795046323|\n",
      "|    5|      3395.0|    4591.0|142138|0.7394903071226312| 0.10850349782567593| 0.6519190773303082|\n",
      "|    6|      3023.0|    4074.0|142458|0.7420225822287678| 0.09628474191718661| 0.7482038192474948|\n",
      "|    7|      2693.0|    3681.0|142384|0.7315946753599565| 0.08699659671015315| 0.8352004159576479|\n",
      "|    8|      2233.0|    3070.0|142308|0.7273615635179153| 0.07255624881830214| 0.9077566647759501|\n",
      "|    9|      1582.0|    2330.0|142261|0.6789699570815451| 0.05506712043864625| 0.9628237852145963|\n",
      "|   10|       975.0|    1573.0|142723|0.6198347107438017|0.037176214785403665|                1.0|\n",
      "+-----+------------+----------+------+------------------+--------------------+-------------------+\n",
      "\n",
      "None\n",
      "randForProb:\n",
      "+-----+------------+----------+------+------------------+--------------------+-------------------+\n",
      "|ntile|retained_new|refipayoff| count|    retention_rate|          percentage|            cum_sum|\n",
      "+-----+------------+----------+------+------------------+--------------------+-------------------+\n",
      "|    1|      5833.0|    8880.0|142133|0.6568693693693693| 0.20986954055587068|0.20986954055587068|\n",
      "|    2|      5269.0|    6737.0|142526|0.7820988570580377| 0.15922197012667802| 0.3690915106825487|\n",
      "|    3|      4154.0|    5749.0|142260|0.7225604452948339|  0.1358716203441104| 0.5049631310266591|\n",
      "|    4|      3677.0|    5180.0|142277|0.7098455598455599| 0.12242389865759122| 0.6273870296842503|\n",
      "|    5|      2734.0|    4083.0|142215|0.6696056820964976| 0.09649744753261486| 0.7238844772168652|\n",
      "|    6|      2425.0|    3572.0|142589|0.6788913773796192| 0.08442049536774437| 0.8083049725846095|\n",
      "|    7|      2089.0|    3113.0|142214|0.6710568583360103| 0.07357250898090376| 0.8818774815655134|\n",
      "|    8|      1429.0|    2273.0|142439|0.6286845578530577|0.053719984874267344| 0.9355974664397807|\n",
      "|    9|      1087.0|    1757.0|142445|0.6186681844052362|0.041524862923047835| 0.9771223293628285|\n",
      "|   10|       535.0|     968.0|142510|0.5526859504132231| 0.02287767063717149|                1.0|\n",
      "+-----+------------+----------+------+------------------+--------------------+-------------------+\n",
      "\n",
      "None\n",
      "gbtProb:\n",
      "+-----+------------+----------+------+------------------+--------------------+-------------------+\n",
      "|ntile|retained_new|refipayoff| count|    retention_rate|          percentage|            cum_sum|\n",
      "+-----+------------+----------+------+------------------+--------------------+-------------------+\n",
      "|    1|      8526.0|   12050.0|142040| 0.707551867219917| 0.28478918510115336|0.28478918510115336|\n",
      "|    2|      5308.0|    7296.0|142550|0.7275219298245614| 0.17243335224049916|0.45722253734165247|\n",
      "|    3|      4031.0|    5653.0|142276|0.7130727047585352|  0.1336027604462091| 0.5908252977878616|\n",
      "|    4|      3174.0|    4665.0|142434|0.6803858520900321| 0.11025241066364153| 0.7010777084515031|\n",
      "|    5|      2610.0|    3783.0|142181| 0.689928628072958| 0.08940726035167329| 0.7904849688031764|\n",
      "|    6|      2021.0|    3076.0|142279|0.6570221066319896| 0.07269805256192097| 0.8631830213650974|\n",
      "|    7|      1649.0|    2539.0|142602|0.6494682946041749| 0.06000661750803554| 0.9231896388731329|\n",
      "|    8|      1099.0|    1805.0|141960|0.6088642659279778| 0.04265929287199849| 0.9658489317451314|\n",
      "|    9|       630.0|    1091.0|142797|0.5774518790100825|0.025784647381357533|  0.991633579126489|\n",
      "|   10|       184.0|     354.0|142489| 0.519774011299435|0.008366420873511062|                1.0|\n",
      "+-----+------------+----------+------+------------------+--------------------+-------------------+\n",
      "\n",
      "None"
     ]
    }
   ],
   "source": [
    "%%spark\n",
    "\n",
    "#2017-06\n",
    "monthly_performance(\n",
    "    loanpurpose = 'refi',\n",
    "    score_file = 'pred_refiV1_3_jun17_20190716.csv', \n",
    "    servicecalendardate = '2017-06-30', \n",
    "    df_actual = actual, \n",
    "    result_path = result_path_refi, \n",
    "    n = 10, \n",
    "    ls_prob = ['logRegProb', 'randForProb', 'gbtProb'],\n",
    "    nrow = 10\n",
    ")"
   ]
  },
  {
   "cell_type": "code",
   "execution_count": 23,
   "metadata": {
    "collapsed": true
   },
   "outputs": [
    {
     "name": "stdout",
     "output_type": "stream",
     "text": [
      "logRegProb:\n",
      "+-----+------------+----------+------+------------------+--------------------+-------------------+\n",
      "|ntile|retained_new|refipayoff| count|    retention_rate|          percentage|            cum_sum|\n",
      "+-----+------------+----------+------+------------------+--------------------+-------------------+\n",
      "|    1|      4190.0|    7291.0|146657|0.5746811137018242| 0.19032578051581914|0.19032578051581914|\n",
      "|    2|      3274.0|    4946.0|146764|0.6619490497371613| 0.12911141275973687|0.31943719327555603|\n",
      "|    3|      3491.0|    4895.0|147006|  0.71317671092952| 0.12778009815182206| 0.4472172914273781|\n",
      "|    4|      3209.0|    4446.0|146679|0.7217723796671165|  0.1160593087605722| 0.5632766001879503|\n",
      "|    5|      2938.0|    3962.0|146705|0.7415446744068652| 0.10342487208938081| 0.6667014722773311|\n",
      "|    6|      2642.0|    3573.0|146947| 0.739434648754548|  0.0932703351780307| 0.7599718074553619|\n",
      "|    7|      2326.0|    3161.0|147076|0.7358430876304967| 0.08251540148271902| 0.8424872089380808|\n",
      "|    8|      1887.0|    2646.0|146728|0.7131519274376418| 0.06907173436357941| 0.9115589433016602|\n",
      "|    9|      1473.0|    2072.0|146738|0.7109073359073359|0.054087918972538375| 0.9656468622741986|\n",
      "|   10|       867.0|    1316.0|147141|0.6588145896656535|  0.0343531377258014|                1.0|\n",
      "+-----+------------+----------+------+------------------+--------------------+-------------------+\n",
      "\n",
      "None\n",
      "randForProb:\n",
      "+-----+------------+----------+------+------------------+--------------------+-------------------+\n",
      "|ntile|retained_new|refipayoff| count|    retention_rate|          percentage|            cum_sum|\n",
      "+-----+------------+----------+------+------------------+--------------------+-------------------+\n",
      "|    1|      5473.0|    8374.0|146648|0.6535705755911153|  0.2185966377780098| 0.2185966377780098|\n",
      "|    2|      4573.0|    5881.0|146712|  0.77758884543445|  0.1535188472381748|0.37211548501618463|\n",
      "|    3|      3591.0|    4983.0|147042|0.7206502107164359| 0.13007726845567505| 0.5021927534718597|\n",
      "|    4|      3129.0|    4560.0|146715|0.6861842105263158| 0.11903518847238174| 0.6212279419442414|\n",
      "|    5|      2555.0|    3827.0|146796|0.6676247713613797| 0.09990080400960635| 0.7211287459538478|\n",
      "|    6|      2123.0|    3214.0|146954|0.6605476042314873| 0.08389892450663047| 0.8050276704604782|\n",
      "|    7|      1933.0|    2905.0|146818|0.6654044750430292| 0.07583272423514671| 0.8808603946956249|\n",
      "|    8|      1478.0|    2261.0|146677|0.6536930561698363| 0.05902161428422262| 0.9398820089798475|\n",
      "|    9|      1039.0|    1594.0|146932| 0.651819322459222| 0.04161010754933695| 0.9814921165291846|\n",
      "|   10|       403.0|     709.0|147147|0.5684062059238364|0.018507883470815497|                1.0|\n",
      "+-----+------------+----------+------+------------------+--------------------+-------------------+\n",
      "\n",
      "None\n",
      "gbtProb:\n",
      "+-----+------------+----------+------+------------------+--------------------+-------------------+\n",
      "|ntile|retained_new|refipayoff| count|    retention_rate|          percentage|            cum_sum|\n",
      "+-----+------------+----------+------+------------------+--------------------+-------------------+\n",
      "|    1|      7290.0|   10798.0|146534|0.6751250231524356|  0.2818732379659601| 0.2818732379659601|\n",
      "|    2|      4629.0|    6363.0|147072|0.7274870344177274| 0.16610107549336953|0.44797431345932964|\n",
      "|    3|      3537.0|    5060.0|146846|0.6990118577075098|  0.1320872924715464| 0.5800616059308761|\n",
      "|    4|      2944.0|    4202.0|146608|0.7006187529747739| 0.10968988200897985| 0.6897514879398559|\n",
      "|    5|      2414.0|    3517.0|146800|0.6863804378731874| 0.09180849953012425| 0.7815599874699801|\n",
      "|    6|      2020.0|    2961.0|146802|0.6822019587977035| 0.07729455988305314| 0.8588545473530333|\n",
      "|    7|      1579.0|    2343.0|146910|0.6739223218096457| 0.06116215934008562|  0.920016706693119|\n",
      "|    8|      1103.0|    1735.0|146784|0.6357348703170029| 0.04529080087710139| 0.9653075075702203|\n",
      "|    9|       648.0|    1040.0|146978|0.6230769230769231|0.027148376318262505| 0.9924558838884828|\n",
      "|   10|       133.0|     289.0|147107|0.4602076124567474|0.007544116111517177|                1.0|\n",
      "+-----+------------+----------+------+------------------+--------------------+-------------------+\n",
      "\n",
      "None"
     ]
    }
   ],
   "source": [
    "%%spark\n",
    "\n",
    "#2017-09\n",
    "monthly_performance(\n",
    "    loanpurpose = 'refi',\n",
    "    score_file = 'pred_refiV1_3_sep17_20190716.csv', \n",
    "    servicecalendardate = '2017-09-30', \n",
    "    df_actual = actual, \n",
    "    result_path = result_path_refi, \n",
    "    n = 10, \n",
    "    ls_prob = ['logRegProb', 'randForProb', 'gbtProb'],\n",
    "    nrow = 10\n",
    ")"
   ]
  },
  {
   "cell_type": "code",
   "execution_count": 24,
   "metadata": {
    "collapsed": true
   },
   "outputs": [
    {
     "name": "stdout",
     "output_type": "stream",
     "text": [
      "logRegProb:\n",
      "+-----+------------+----------+------+------------------+-------------------+-------------------+\n",
      "|ntile|retained_new|refipayoff| count|    retention_rate|         percentage|            cum_sum|\n",
      "+-----+------------+----------+------+------------------+-------------------+-------------------+\n",
      "|    1|      2898.0|    5334.0|152894|0.5433070866141733|  0.182953181272509|  0.182953181272509|\n",
      "|    2|      2478.0|    4064.0|152762| 0.609744094488189| 0.1393929000171497|0.32234608128965875|\n",
      "|    3|      2456.0|    3800.0|153159|0.6463157894736842| 0.1303378494254845| 0.4526839307151432|\n",
      "|    4|      2282.0|    3434.0|152998|0.6645311589982528|0.11778425655976676|   0.57046818727491|\n",
      "|    5|      2062.0|    3067.0|152854|0.6723182262797522|0.10519636425998971| 0.6756645515348997|\n",
      "|    6|      1790.0|    2744.0|153092| 0.652332361516035|0.09411764705882353| 0.7697821985937232|\n",
      "|    7|      1538.0|    2358.0|153003|0.6522476675148431|0.08087806551191905| 0.8506602641056422|\n",
      "|    8|      1170.0|    1857.0|153040| 0.630048465266559| 0.0636940490481907|  0.914354313153833|\n",
      "|    9|       915.0|    1537.0|152874|0.5953155497722836|0.05271823014920254| 0.9670725433030355|\n",
      "|   10|       450.0|     960.0|153328|           0.46875| 0.0329274566969645|                1.0|\n",
      "+-----+------------+----------+------+------------------+-------------------+-------------------+\n",
      "\n",
      "None\n",
      "randForProb:\n",
      "+-----+------------+----------+------+-------------------+-------------------+-------------------+\n",
      "|ntile|retained_new|refipayoff| count|     retention_rate|         percentage|            cum_sum|\n",
      "+-----+------------+----------+------+-------------------+-------------------+-------------------+\n",
      "|    1|      3630.0|    5824.0|152573|  0.623282967032967|0.19975990396158463|0.19975990396158463|\n",
      "|    2|      3130.0|    4512.0|153209| 0.6937056737588653|0.15475904647573316| 0.3545189504373178|\n",
      "|    3|      2481.0|    3881.0|152978| 0.6392682298376707|0.13311610358429085| 0.4876350540216086|\n",
      "|    4|      2012.0|    3281.0|152819| 0.6132276744894849|0.11253644314868805| 0.6001714971702967|\n",
      "|    5|      1957.0|    3062.0|153020| 0.6391247550620509|0.10502486708969302| 0.7051963642599897|\n",
      "|    6|      1640.0|    2794.0|153202| 0.5869720830350752|0.09583261876179043| 0.8010289830217802|\n",
      "|    7|      1426.0|    2406.0|152988| 0.5926849542809642|0.08252443834676727| 0.8835534213685474|\n",
      "|    8|       919.0|    1684.0|152833| 0.5457244655581948|0.05776024695592523| 0.9413136683244726|\n",
      "|    9|       629.0|    1226.0|153033| 0.5130505709624796|0.04205110615674841| 0.9833647744812211|\n",
      "|   10|       215.0|     485.0|153349|0.44329896907216493|0.01663522551877894|                1.0|\n",
      "+-----+------------+----------+------+-------------------+-------------------+-------------------+\n",
      "\n",
      "None\n",
      "gbtProb:\n",
      "+-----+------------+----------+------+------------------+--------------------+-------------------+\n",
      "|ntile|retained_new|refipayoff| count|    retention_rate|          percentage|            cum_sum|\n",
      "+-----+------------+----------+------+------------------+--------------------+-------------------+\n",
      "|    1|      4625.0|    7726.0|152762| 0.598628009319182| 0.26499742754244554|0.26499742754244554|\n",
      "|    2|      3135.0|    4759.0|152962|0.6587518386215592| 0.16323100668838963| 0.4282284342308352|\n",
      "|    3|      2679.0|    4002.0|153040|0.6694152923538231| 0.13726633510547076| 0.5654947693363059|\n",
      "|    4|      2171.0|    3364.0|153135|0.6453626634958383|  0.1153832961756131| 0.6808780655119191|\n",
      "|    5|      1710.0|    2745.0|152886|0.6229508196721312| 0.09415194649288287| 0.7750300120048019|\n",
      "|    6|      1445.0|    2354.0|152939|0.6138487680543755| 0.08074086777568171| 0.8557708797804836|\n",
      "|    7|      1052.0|    1802.0|153059|0.5837957824639289|0.061807580174927115| 0.9175784599554108|\n",
      "|    8|       743.0|    1357.0|152945|0.5475313190862195| 0.04654433201852169| 0.9641227919739325|\n",
      "|    9|       380.0|     799.0|152936|0.4755944931163955| 0.02740524781341108| 0.9915280397873435|\n",
      "|   10|        99.0|     247.0|153340|0.4008097165991903|0.008471960212656492|                1.0|\n",
      "+-----+------------+----------+------+------------------+--------------------+-------------------+\n",
      "\n",
      "None"
     ]
    }
   ],
   "source": [
    "%%spark\n",
    "\n",
    "#2017-12\n",
    "monthly_performance(\n",
    "    loanpurpose = 'refi',\n",
    "    score_file = 'pred_refiV1_3_dec17_20190716.csv', \n",
    "    servicecalendardate = '2017-12-31', \n",
    "    df_actual = actual, \n",
    "    result_path = result_path_refi, \n",
    "    n = 10, \n",
    "    ls_prob = ['logRegProb', 'randForProb', 'gbtProb'],\n",
    "    nrow = 10\n",
    ")"
   ]
  },
  {
   "cell_type": "code",
   "execution_count": 26,
   "metadata": {
    "collapsed": true
   },
   "outputs": [
    {
     "name": "stdout",
     "output_type": "stream",
     "text": [
      "logRegProb:\n",
      "+-----+------------+----------+------+------------------+-------------------+-------------------+\n",
      "|ntile|retained_new|refipayoff| count|    retention_rate|         percentage|            cum_sum|\n",
      "+-----+------------+----------+------+------------------+-------------------+-------------------+\n",
      "|    1|      1058.0|    2202.0|151309|  0.48047229791099|0.22785596026490065|0.22785596026490065|\n",
      "|    2|       777.0|    1302.0|151356|0.5967741935483871|0.13472682119205298|0.36258278145695366|\n",
      "|    3|       739.0|    1208.0|151264|0.6117549668874173|              0.125|0.48758278145695366|\n",
      "|    4|       690.0|    1122.0|151414|0.6149732620320856|0.11610099337748345| 0.6036837748344371|\n",
      "|    5|       603.0|     940.0|151366|0.6414893617021277| 0.0972682119205298| 0.7009519867549668|\n",
      "|    6|       508.0|     834.0|151447|0.6091127098321343|0.08629966887417219| 0.7872516556291391|\n",
      "|    7|       438.0|     686.0|151329|0.6384839650145773|0.07098509933774834| 0.8582367549668874|\n",
      "|    8|       336.0|     619.0|151317|0.5428109854604201|0.06405215231788079| 0.9222889072847682|\n",
      "|    9|       256.0|     447.0|151479|0.5727069351230425|0.04625413907284768| 0.9685430463576159|\n",
      "|   10|       134.0|     304.0|151549|0.4407894736842105|0.03145695364238411|                1.0|\n",
      "+-----+------------+----------+------+------------------+-------------------+-------------------+\n",
      "\n",
      "None\n",
      "randForProb:\n",
      "+-----+------------+----------+------+-------------------+--------------------+-------------------+\n",
      "|ntile|retained_new|refipayoff| count|     retention_rate|          percentage|            cum_sum|\n",
      "+-----+------------+----------+------+-------------------+--------------------+-------------------+\n",
      "|    1|      1188.0|    2318.0|151258| 0.5125107851596203| 0.23985927152317882|0.23985927152317882|\n",
      "|    2|       987.0|    1457.0|151472| 0.6774193548387096| 0.15076572847682118|           0.390625|\n",
      "|    3|       738.0|    1164.0|151325|  0.634020618556701| 0.12044701986754967| 0.5110720198675497|\n",
      "|    4|       686.0|    1112.0|151245| 0.6169064748201439| 0.11506622516556292| 0.6261382450331126|\n",
      "|    5|       517.0|     926.0|150838| 0.5583153347732182| 0.09581953642384106| 0.7219577814569537|\n",
      "|    6|       531.0|     927.0|152033| 0.5728155339805825|  0.0959230132450331| 0.8178807947019867|\n",
      "|    7|       363.0|     657.0|151341| 0.5525114155251142|  0.0679842715231788| 0.8858650662251656|\n",
      "|    8|       271.0|     526.0|151174| 0.5152091254752852| 0.05442880794701987| 0.9402938741721855|\n",
      "|    9|       176.0|     392.0|151673| 0.4489795918367347| 0.04056291390728477| 0.9808567880794702|\n",
      "|   10|        82.0|     185.0|151471|0.44324324324324327|0.019143211920529802|                1.0|\n",
      "+-----+------------+----------+------+-------------------+--------------------+-------------------+\n",
      "\n",
      "None\n",
      "gbtProb:\n",
      "+-----+------------+----------+------+------------------+--------------------+-------------------+\n",
      "|ntile|retained_new|refipayoff| count|    retention_rate|          percentage|            cum_sum|\n",
      "+-----+------------+----------+------+------------------+--------------------+-------------------+\n",
      "|    1|      1614.0|    2912.0|151134|0.5542582417582418| 0.30132450331125826|0.30132450331125826|\n",
      "|    2|       954.0|    1552.0|151383|0.6146907216494846|  0.1605960264900662|0.46192052980132453|\n",
      "|    3|       814.0|    1289.0|151519|0.6314972847168348|  0.1333816225165563| 0.5953021523178808|\n",
      "|    4|       617.0|    1038.0|151293| 0.594412331406551|   0.107408940397351| 0.7027110927152318|\n",
      "|    5|       501.0|     886.0|151476|0.5654627539503386| 0.09168046357615894| 0.7943915562913907|\n",
      "|    6|       385.0|     684.0|151237|0.5628654970760234| 0.07077814569536424| 0.8651697019867549|\n",
      "|    7|       284.0|     550.0|151260|0.5163636363636364| 0.05691225165562914| 0.9220819536423841|\n",
      "|    8|       214.0|     408.0|151543|0.5245098039215687|0.042218543046357616| 0.9643004966887417|\n",
      "|    9|       128.0|     261.0|151342|0.4904214559386973|0.027007450331125827| 0.9913079470198676|\n",
      "|   10|        28.0|      84.0|151643|0.3333333333333333| 0.00869205298013245|                1.0|\n",
      "+-----+------------+----------+------+------------------+--------------------+-------------------+\n",
      "\n",
      "None"
     ]
    }
   ],
   "source": [
    "%%spark\n",
    "\n",
    "#2018-3\n",
    "monthly_performance(\n",
    "    loanpurpose = 'refi',\n",
    "    score_file = 'pred_refiV1_3_mar18_20190716.csv', \n",
    "    servicecalendardate = '2018-01-31', \n",
    "    df_actual = actual, \n",
    "    result_path = result_path_refi, \n",
    "    n = 10, \n",
    "    ls_prob = ['logRegProb', 'randForProb', 'gbtProb'],\n",
    "    nrow = 10\n",
    ")"
   ]
  },
  {
   "cell_type": "code",
   "execution_count": 27,
   "metadata": {
    "collapsed": true
   },
   "outputs": [
    {
     "name": "stdout",
     "output_type": "stream",
     "text": [
      "logRegProb:\n",
      "+-----+------------+----------+------+-------------------+--------------------+-------------------+\n",
      "|ntile|retained_new|refipayoff| count|     retention_rate|          percentage|            cum_sum|\n",
      "+-----+------------+----------+------+-------------------+--------------------+-------------------+\n",
      "|    1|      2818.0|    4927.0|161774| 0.5719504769636696|  0.1555092636429631| 0.1555092636429631|\n",
      "|    2|      2769.0|    4381.0|161880| 0.6320474777448071| 0.13827604709150018| 0.2937853107344633|\n",
      "|    3|      2699.0|    4116.0|162066| 0.6557337220602527| 0.12991194015718208|0.42369725089164534|\n",
      "|    4|      2539.0|    3853.0|161940| 0.6589670386711654| 0.12161095855821734| 0.5453082094498627|\n",
      "|    5|      2406.0|    3537.0|161856| 0.6802374893977947| 0.11163715557238899| 0.6569453650222516|\n",
      "|    6|      2005.0|    3045.0|161917| 0.6584564860426929| 0.09610832307546634|  0.753053688097718|\n",
      "|    7|      1780.0|    2741.0|162079|  0.649398029916089| 0.08651327210175803| 0.8395669601994761|\n",
      "|    8|      1417.0|    2232.0|161989| 0.6348566308243727| 0.07044787425433198|  0.910014834453808|\n",
      "|    9|      1090.0|    1794.0|162084| 0.6075808249721293|0.056623425811949624| 0.9666382602657576|\n",
      "|   10|       514.0|    1057.0|162110|0.48628192999053926|0.033361739734242335|                1.0|\n",
      "+-----+------------+----------+------+-------------------+--------------------+-------------------+\n",
      "\n",
      "None\n",
      "randForProb:\n",
      "+-----+------------+----------+------+-------------------+--------------------+-------------------+\n",
      "|ntile|retained_new|refipayoff| count|     retention_rate|          percentage|            cum_sum|\n",
      "+-----+------------+----------+------+-------------------+--------------------+-------------------+\n",
      "|    1|      3776.0|    5812.0|161828| 0.6496902959394356| 0.18344222453681786|0.18344222453681786|\n",
      "|    2|      3175.0|    4700.0|161988|  0.675531914893617| 0.14834453808035855| 0.3317867626171764|\n",
      "|    3|      3125.0|    4364.0|161937| 0.7160861594867094| 0.13773948174099676|0.46952624435817314|\n",
      "|    4|      2601.0|    3987.0|161832| 0.6523702031602708|  0.1258403560268914| 0.5953666003850645|\n",
      "|    5|      1995.0|    3270.0|161711| 0.6100917431192661| 0.10320992330271754| 0.6985765236877821|\n",
      "|    6|      1849.0|    3126.0|162156|   0.59149072296865| 0.09866489915727678| 0.7972414228450588|\n",
      "|    7|      1435.0|    2505.0|162196| 0.5728542914171657| 0.07906448253006344| 0.8763059053751223|\n",
      "|    8|      1073.0|    1938.0|161643| 0.5536635706914345|0.061168449957390396| 0.9374743553325127|\n",
      "|    9|       692.0|    1289.0|162204| 0.5368502715283165| 0.04068427863523025| 0.9781586339677429|\n",
      "|   10|       316.0|     692.0|162200|0.45664739884393063|0.021841366032257045|                1.0|\n",
      "+-----+------------+----------+------+-------------------+--------------------+-------------------+\n",
      "\n",
      "None\n",
      "gbtProb:\n",
      "+-----+------------+----------+------+------------------+--------------------+------------------+\n",
      "|ntile|retained_new|refipayoff| count|    retention_rate|          percentage|           cum_sum|\n",
      "+-----+------------+----------+------+------------------+--------------------+------------------+\n",
      "|    1|      5063.0|    8071.0|161848|0.6273076446536985|    0.25474229081842|  0.25474229081842|\n",
      "|    2|      3618.0|    5288.0|161916|0.6841906202723147|  0.1669033866742417|0.4216456774926617|\n",
      "|    3|      2879.0|    4322.0|161743|0.6661267931513188| 0.13641384969857653|0.5580595271912382|\n",
      "|    4|      2381.0|    3715.0|162197|0.6409152086137281|  0.1172553104188366|0.6753148376100748|\n",
      "|    5|      1977.0|    3096.0|161969|0.6385658914728682| 0.09771801912697661|0.7730328567370515|\n",
      "|    6|      1549.0|    2542.0|161890|0.6093627065302911|  0.0802323012341003|0.8532651579711518|\n",
      "|    7|      1173.0|    1957.0|161837|0.5993868165559529| 0.06176814064324717|0.9150332986143989|\n",
      "|    8|       802.0|    1453.0|162127|0.5519614590502409|0.045860556134204464|0.9608938547486033|\n",
      "|    9|       441.0|     875.0|161914|             0.504| 0.02761733421708803|0.9885111889656913|\n",
      "|   10|       154.0|     364.0|162254|0.4230769230769231| 0.01148881103430862|               1.0|\n",
      "+-----+------------+----------+------+------------------+--------------------+------------------+\n",
      "\n",
      "None"
     ]
    }
   ],
   "source": [
    "%%spark\n",
    "\n",
    "#2018-6\n",
    "monthly_performance(\n",
    "    loanpurpose = 'refi',\n",
    "    score_file = 'pred_refiV1_3_jun18_20190716.csv', \n",
    "    servicecalendardate = '2018-06-30', \n",
    "    df_actual = actual, \n",
    "    result_path = result_path_refi, \n",
    "    n = 10, \n",
    "    ls_prob = ['logRegProb', 'randForProb', 'gbtProb'],\n",
    "    nrow = 10\n",
    ")"
   ]
  },
  {
   "cell_type": "code",
   "execution_count": 31,
   "metadata": {
    "collapsed": true
   },
   "outputs": [
    {
     "name": "stdout",
     "output_type": "stream",
     "text": [
      "gbtProb:\n",
      "+-----+------------+----------+------+-------------------+--------------------+-------------------+\n",
      "|ntile|retained_new|refipayoff| count|     retention_rate|          percentage|            cum_sum|\n",
      "+-----+------------+----------+------+-------------------+--------------------+-------------------+\n",
      "|    1|      4406.0|    7136.0|165100|  0.617432735426009|  0.2423748386658515| 0.2423748386658515|\n",
      "|    2|      3392.0|    4966.0|164936| 0.6830447039871124| 0.16867060661639835|0.41104544528224984|\n",
      "|    3|      2679.0|    4003.0|165631|  0.669248063952036| 0.13596223082671013|   0.54700767610896|\n",
      "|    4|      2203.0|    3370.0|165153| 0.6537091988130563| 0.11446233272196182| 0.6614700088309218|\n",
      "|    5|      1908.0|    2961.0|165063| 0.6443768996960486| 0.10057061340941512|  0.762040622240337|\n",
      "|    6|      1518.0|    2413.0|165286|  0.629092416079569| 0.08195774743563616| 0.8439983696759731|\n",
      "|    7|      1126.0|    1886.0|165155| 0.5970307529162248| 0.06405814822362611| 0.9080565178995992|\n",
      "|    8|       791.0|    1403.0|165241| 0.5637918745545261| 0.04765301270294137| 0.9557095306025406|\n",
      "|    9|       486.0|     928.0|165208| 0.5237068965517241|0.031519597853406696| 0.9872291284559472|\n",
      "|   10|       168.0|     376.0|165648|0.44680851063829785|0.012770871544052714|                1.0|\n",
      "+-----+------------+----------+------+-------------------+--------------------+-------------------+\n",
      "\n",
      "None"
     ]
    }
   ],
   "source": [
    "%%spark\n",
    "\n",
    "#2018-7\n",
    "monthly_performance(\n",
    "    loanpurpose = 'refi',\n",
    "    score_file = 'pred_refiV1_3_jul18_20190716.csv', \n",
    "    servicecalendardate = '2018-07-31', \n",
    "    df_actual = actual, \n",
    "    result_path = result_path_refi, \n",
    "    n = 10, \n",
    "    ls_prob = ['gbtProb'],\n",
    "    nrow = 10\n",
    ")"
   ]
  },
  {
   "cell_type": "code",
   "execution_count": 32,
   "metadata": {
    "collapsed": true
   },
   "outputs": [
    {
     "name": "stdout",
     "output_type": "stream",
     "text": [
      "gbtProb:\n",
      "+-----+------------+----------+------+-------------------+-------------------+-------------------+\n",
      "|ntile|retained_new|refipayoff| count|     retention_rate|         percentage|            cum_sum|\n",
      "+-----+------------+----------+------+-------------------+-------------------+-------------------+\n",
      "|    1|      4322.0|    7085.0|166680| 0.6100211714890614|0.24121612419991828|0.24121612419991828|\n",
      "|    2|      3319.0|    4845.0|166895| 0.6850361197110423|0.16495301647827862| 0.4061691406781969|\n",
      "|    3|      2733.0|    4085.0|167058| 0.6690330477356181|0.13907803350129375| 0.5452471741794906|\n",
      "|    4|      2246.0|    3363.0|166853| 0.6678560808801666|0.11449679967315811| 0.6597439738526488|\n",
      "|    5|      1937.0|    2945.0|166764| 0.6577249575551782|0.10026555903581642| 0.7600095328884652|\n",
      "|    6|      1514.0|    2458.0|166647| 0.6159479251423922|0.08368514231240637| 0.8436946752008716|\n",
      "|    7|      1111.0|    1875.0|167360| 0.5925333333333334|0.06383630668664034| 0.9075309818875119|\n",
      "|    8|       786.0|    1374.0|166703| 0.5720524017467249|0.04677924553997004|  0.954310227427482|\n",
      "|    9|       479.0|     960.0|167193|0.49895833333333334|0.03268418902355985| 0.9869944164510418|\n",
      "|   10|       149.0|     382.0|167049| 0.3900523560209424|0.01300558354895819|                1.0|\n",
      "+-----+------------+----------+------+-------------------+-------------------+-------------------+\n",
      "\n",
      "None"
     ]
    }
   ],
   "source": [
    "%%spark\n",
    "\n",
    "#2018-8\n",
    "monthly_performance(\n",
    "    loanpurpose = 'refi',\n",
    "    score_file = 'pred_refiV1_3_aug18_20190716.csv', \n",
    "    servicecalendardate = '2018-08-31', \n",
    "    df_actual = actual, \n",
    "    result_path = result_path_refi, \n",
    "    n = 10, \n",
    "    ls_prob = ['gbtProb'],\n",
    "    nrow = 10\n",
    ")"
   ]
  },
  {
   "cell_type": "code",
   "execution_count": 28,
   "metadata": {
    "collapsed": true
   },
   "outputs": [
    {
     "name": "stdout",
     "output_type": "stream",
     "text": [
      "logRegProb:\n",
      "+-----+------------+----------+------+------------------+-------------------+-------------------+\n",
      "|ntile|retained_new|refipayoff| count|    retention_rate|         percentage|            cum_sum|\n",
      "+-----+------------+----------+------+------------------+-------------------+-------------------+\n",
      "|    1|      2404.0|    3827.0|168191|0.6281682780245623|0.13714879587155962|0.13714879587155962|\n",
      "|    2|      2290.0|    3561.0|168186|0.6430777871384442| 0.1276161123853211|0.26476490825688076|\n",
      "|    3|      2004.0|    3260.0|168427|0.6147239263803681|0.11682912844036697|0.38159403669724773|\n",
      "|    4|      2050.0|    3258.0|168237| 0.629220380601596|0.11675745412844037| 0.4983514908256881|\n",
      "|    5|      2124.0|    3224.0|168413|0.6588089330024814|0.11553899082568807| 0.6138904816513762|\n",
      "|    6|      1932.0|    2987.0|168475|0.6468028121861399|0.10704558486238532| 0.7209360665137615|\n",
      "|    7|      1763.0|    2713.0|168179|0.6498341319572429|0.09722620412844037| 0.8181622706422018|\n",
      "|    8|      1494.0|    2347.0|168553|0.6365573072006817|0.08410980504587157| 0.9022720756880734|\n",
      "|    9|      1087.0|    1737.0|168364|0.6257915947035118|0.06224913990825688| 0.9645212155963303|\n",
      "|   10|       499.0|     990.0|168558|0.5040404040404041|0.03547878440366972|                1.0|\n",
      "+-----+------------+----------+------+------------------+-------------------+-------------------+\n",
      "\n",
      "None\n",
      "randForProb:\n",
      "+-----+------------+----------+------+-------------------+--------------------+-------------------+\n",
      "|ntile|retained_new|refipayoff| count|     retention_rate|          percentage|            cum_sum|\n",
      "+-----+------------+----------+------+-------------------+--------------------+-------------------+\n",
      "|    1|      2993.0|    4792.0|168109| 0.6245826377295493|  0.1717316513761468| 0.1717316513761468|\n",
      "|    2|      2822.0|    3949.0|168341| 0.7146112939984807| 0.14152092889908258|0.31325258027522934|\n",
      "|    3|      2409.0|    3643.0|168413| 0.6612681855613506| 0.13055475917431192|0.44380733944954126|\n",
      "|    4|      2339.0|    3515.0|168491| 0.6654338549075391| 0.12596760321100917| 0.5697749426605505|\n",
      "|    5|      2087.0|    3272.0|168291| 0.6378361858190709|  0.1172591743119266| 0.6870341169724771|\n",
      "|    6|      1337.0|    2278.0|168249|  0.586918349429324| 0.08163704128440367| 0.7686711582568807|\n",
      "|    7|      1549.0|    2561.0|168308| 0.6048418586489652| 0.09177895642201835| 0.8604501146788991|\n",
      "|    8|       994.0|    1805.0|168337| 0.5506925207756233| 0.06468606651376146| 0.9251361811926605|\n",
      "|    9|       775.0|    1387.0|168211|  0.558759913482336|0.049706135321100915| 0.9748423165137615|\n",
      "|   10|       342.0|     702.0|168833|0.48717948717948717|0.025157683486238532|                1.0|\n",
      "+-----+------------+----------+------+-------------------+--------------------+-------------------+\n",
      "\n",
      "None\n",
      "gbtProb:\n",
      "+-----+------------+----------+------+------------------+--------------------+-------------------+\n",
      "|ntile|retained_new|refipayoff| count|    retention_rate|          percentage|            cum_sum|\n",
      "+-----+------------+----------+------+------------------+--------------------+-------------------+\n",
      "|    1|      3941.0|    6764.0|168040|0.5826434062684802| 0.24240252293577982|0.24240252293577982|\n",
      "|    2|      3074.0|    4494.0|168570|0.6840231419670671| 0.16105217889908258| 0.4034547018348624|\n",
      "|    3|      2602.0|    3745.0|168208|0.6947930574098798|  0.1342101490825688| 0.5376648509174312|\n",
      "|    4|      2212.0|    3303.0|168369| 0.669694217378141| 0.11837012614678899| 0.6560349770642202|\n",
      "|    5|      1753.0|    2700.0|168162|0.6492592592592593| 0.09676032110091744| 0.7527952981651376|\n",
      "|    6|      1471.0|    2305.0|168684| 0.638177874186551| 0.08260464449541284| 0.8353999426605505|\n",
      "|    7|      1103.0|    1825.0|168144|0.6043835616438357| 0.06540280963302753|  0.900802752293578|\n",
      "|    8|       818.0|    1409.0|168529|0.5805535841022001| 0.05049455275229358| 0.9512973050458715|\n",
      "|    9|       495.0|     965.0|168058|0.5129533678756477| 0.03458285550458716| 0.9858801605504587|\n",
      "|   10|       178.0|     394.0|168819|0.4517766497461929|0.014119839449541285|                1.0|\n",
      "+-----+------------+----------+------+------------------+--------------------+-------------------+\n",
      "\n",
      "None"
     ]
    }
   ],
   "source": [
    "%%spark\n",
    "\n",
    "#2018-09\n",
    "monthly_performance(\n",
    "    loanpurpose = 'refi',\n",
    "    score_file = 'pred_refiV1_3_sep18_20190716.csv', \n",
    "    servicecalendardate = '2018-09-30', \n",
    "    df_actual = actual, \n",
    "    result_path = result_path_refi, \n",
    "    n = 10, \n",
    "    ls_prob = ['logRegProb', 'randForProb', 'gbtProb'],\n",
    "    nrow = 10\n",
    ")"
   ]
  },
  {
   "cell_type": "code",
   "execution_count": 33,
   "metadata": {
    "collapsed": true
   },
   "outputs": [
    {
     "name": "stdout",
     "output_type": "stream",
     "text": [
      "gbtProb:\n",
      "+-----+------------+----------+------+------------------+--------------------+-------------------+\n",
      "|ntile|retained_new|refipayoff| count|    retention_rate|          percentage|            cum_sum|\n",
      "+-----+------------+----------+------+------------------+--------------------+-------------------+\n",
      "|    1|      4472.0|    7338.0|169714|0.6094303624965931| 0.24949000407996735|0.24949000407996735|\n",
      "|    2|      3217.0|    4579.0|170052|0.7025551430443329| 0.15568475452196381| 0.4051747586019312|\n",
      "|    3|      2751.0|    3903.0|169853|0.7048424289008455| 0.13270093839249286| 0.5378756969944241|\n",
      "|    4|      2272.0|    3338.0|169902|0.6806470940683044| 0.11349109207126343| 0.6513667890656875|\n",
      "|    5|      1924.0|    2914.0|170099|0.6602608098833219| 0.09907520739834082| 0.7504419964640283|\n",
      "|    6|      1457.0|    2302.0|169901|0.6329278887923545| 0.07826737386100911| 0.8287093703250374|\n",
      "|    7|      1184.0|    1893.0|169729|0.6254622292657158| 0.06436148510811913| 0.8930708554331566|\n",
      "|    8|       905.0|    1549.0|170112|0.5842479018721756|  0.0526655786753706| 0.9457364341085271|\n",
      "|    9|       575.0|    1075.0|169817|0.5348837209302325| 0.03654970760233918| 0.9822861417108664|\n",
      "|   10|       276.0|     521.0|170331|0.5297504798464492|0.017713858289133688|                1.0|\n",
      "+-----+------------+----------+------+------------------+--------------------+-------------------+\n",
      "\n",
      "None"
     ]
    }
   ],
   "source": [
    "%%spark\n",
    "\n",
    "#2018-10\n",
    "monthly_performance(\n",
    "    loanpurpose = 'refi',\n",
    "    score_file = 'pred_refiV1_3_oct18_20190716.csv', \n",
    "    servicecalendardate = '2018-10-31', \n",
    "    df_actual = actual, \n",
    "    result_path = result_path_refi, \n",
    "    n = 10, \n",
    "    ls_prob = ['gbtProb'],\n",
    "    nrow = 10\n",
    ")"
   ]
  },
  {
   "cell_type": "code",
   "execution_count": 34,
   "metadata": {
    "collapsed": true
   },
   "outputs": [
    {
     "name": "stdout",
     "output_type": "stream",
     "text": [
      "gbtProb:\n",
      "+-----+------------+----------+------+------------------+--------------------+-------------------+\n",
      "|ntile|retained_new|refipayoff| count|    retention_rate|          percentage|            cum_sum|\n",
      "+-----+------------+----------+------+------------------+--------------------+-------------------+\n",
      "|    1|      4939.0|    7800.0|170861|0.6332051282051282| 0.23701722932936278|0.23701722932936278|\n",
      "|    2|      3716.0|    5126.0|171564|0.7249317206398751| 0.15576286122337354| 0.3927800905527363|\n",
      "|    3|      2978.0|    4253.0|171434| 0.700211615330355|  0.1292351636330487| 0.5220152541857851|\n",
      "|    4|      2474.0|    3647.0|171414|0.6783657800932273|  0.1108207481236136| 0.6328360023093986|\n",
      "|    5|      2168.0|    3178.0|171318|0.6821900566393958| 0.09656932753957884| 0.7294053298489774|\n",
      "|    6|      1682.0|    2626.0|171456|0.6405178979436406| 0.07979580054088548|  0.809201130389863|\n",
      "|    7|      1491.0|    2353.0|171224|0.6336591585210369| 0.07150019751435778| 0.8807013279042207|\n",
      "|    8|      1052.0|    1716.0|171474|0.6130536130536131|0.052143790452459815| 0.9328451183566805|\n",
      "|    9|       850.0|    1450.0|170739|0.5862068965517241| 0.04406089519584308| 0.9769060135525236|\n",
      "|   10|       469.0|     760.0|172131|0.6171052631578947|0.023093986447476376|                1.0|\n",
      "+-----+------------+----------+------+------------------+--------------------+-------------------+\n",
      "\n",
      "None"
     ]
    }
   ],
   "source": [
    "%%spark\n",
    "\n",
    "#2018-11\n",
    "monthly_performance(\n",
    "    loanpurpose = 'refi',\n",
    "    score_file = 'pred_refiV1_3_nov18_20190716.csv', \n",
    "    servicecalendardate = '2018-11-30', \n",
    "    df_actual = actual, \n",
    "    result_path = result_path_refi, \n",
    "    n = 10, \n",
    "    ls_prob = ['gbtProb'],\n",
    "    nrow = 10\n",
    ")"
   ]
  },
  {
   "cell_type": "code",
   "execution_count": 29,
   "metadata": {
    "collapsed": true
   },
   "outputs": [
    {
     "name": "stdout",
     "output_type": "stream",
     "text": [
      "logRegProb:\n",
      "+-----+------------+----------+------+------------------+-------------------+-------------------+\n",
      "|ntile|retained_new|refipayoff| count|    retention_rate|         percentage|            cum_sum|\n",
      "+-----+------------+----------+------+------------------+-------------------+-------------------+\n",
      "|    1|      3600.0|    5689.0|172196|0.6328001406222534|0.14656704882133195|0.14656704882133195|\n",
      "|    2|      3303.0|    4914.0|172633|0.6721611721611722|0.12660054102795312| 0.2731675898492851|\n",
      "|    3|      3225.0|    4746.0|172906| 0.679519595448799|0.12227231740306582| 0.3954399072523509|\n",
      "|    4|      3091.0|    4486.0|172597|0.6890325456977262| 0.1155738760788355| 0.5110137833311864|\n",
      "|    5|      2881.0|    4225.0|172571|0.6818934911242603|0.10884967151874275| 0.6198634548499291|\n",
      "|    6|      2663.0|    3848.0|172353| 0.692047817047817|0.09913693159860879| 0.7190003864485379|\n",
      "|    7|      2271.0|    3330.0|172438| 0.681981981981982|0.08579157542187299| 0.8047919618704109|\n",
      "|    8|      2094.0|    3037.0|172838|0.6894962133684557|0.07824294731418266| 0.8830349091845936|\n",
      "|    9|      1817.0|    2737.0|172571|0.6638655462184874|0.07051397655545537| 0.9535488857400489|\n",
      "|   10|      1127.0|    1803.0|172914| 0.625069328896284|0.04645111425995105|                1.0|\n",
      "+-----+------------+----------+------+------------------+-------------------+-------------------+\n",
      "\n",
      "None\n",
      "randForProb:\n",
      "+-----+------------+----------+------+------------------+--------------------+-------------------+\n",
      "|ntile|retained_new|refipayoff| count|    retention_rate|          percentage|            cum_sum|\n",
      "+-----+------------+----------+------+------------------+--------------------+-------------------+\n",
      "|    1|      4377.0|    6521.0|172297|0.6712160711547309|   0.168002061058869|  0.168002061058869|\n",
      "|    2|      3726.0|    5164.0|172631|0.7215336948102247| 0.13304134999355918| 0.3010434110524282|\n",
      "|    3|      3442.0|    4640.0|172514|0.7418103448275862| 0.11954141440164885|0.42058482545407705|\n",
      "|    4|      3355.0|    4787.0|172741|0.7008564863171088| 0.12332861007342522| 0.5439134355275023|\n",
      "|    5|      2437.0|    3744.0|172499|0.6509081196581197| 0.09645755506891665| 0.6403709905964189|\n",
      "|    6|      2485.0|    3959.0|172983|  0.62768375852488| 0.10199665077933788| 0.7423676413757568|\n",
      "|    7|      2122.0|    3301.0|172267|0.6428355043926083| 0.08504444158186268| 0.8274120829576195|\n",
      "|    8|      1528.0|    2588.0|172713|0.5904173106646059| 0.06667525441195414| 0.8940873373695736|\n",
      "|    9|      1451.0|    2339.0|172490|0.6203505771697306|0.060260208682210485| 0.9543475460517841|\n",
      "|   10|      1149.0|    1772.0|172882|0.6484198645598194|  0.0456524539482159|                1.0|\n",
      "+-----+------------+----------+------+------------------+--------------------+-------------------+\n",
      "\n",
      "None\n",
      "gbtProb:\n",
      "+-----+------------+----------+------+------------------+--------------------+-------------------+\n",
      "|ntile|retained_new|refipayoff| count|    retention_rate|          percentage|            cum_sum|\n",
      "+-----+------------+----------+------+------------------+--------------------+-------------------+\n",
      "|    1|      5904.0|    9109.0|172449|0.6481501811395324| 0.23467731547082313|0.23467731547082313|\n",
      "|    2|      4149.0|    5795.0|172638|0.7159620362381364| 0.14929795182274894|0.38397526729357206|\n",
      "|    3|      3451.0|    4907.0|172485| 0.703281027104137| 0.12642019837691615| 0.5103954656704882|\n",
      "|    4|      2956.0|    4237.0|172506|0.6976634411139957| 0.10915883034909185|   0.61955429601958|\n",
      "|    5|      2533.0|    3781.0|172800|0.6699285903200212| 0.09741079479582636| 0.7169650908154064|\n",
      "|    6|      2224.0|    3311.0|172502|0.6717003926306252| 0.08530207394048693| 0.8022671647558933|\n",
      "|    7|      1870.0|    2850.0|172692| 0.656140350877193| 0.07342522220790931| 0.8756923869638027|\n",
      "|    8|      1417.0|    2280.0|172473|0.6214912280701754| 0.05874017776632745| 0.9344325647301301|\n",
      "|    9|      1021.0|    1638.0|172636|0.6233211233211233|0.042200180342651036| 0.9766327450727812|\n",
      "|   10|       547.0|     907.0|172836|0.6030871003307607|0.023367254927218858|                1.0|\n",
      "+-----+------------+----------+------+------------------+--------------------+-------------------+\n",
      "\n",
      "None"
     ]
    }
   ],
   "source": [
    "%%spark\n",
    "\n",
    "#2018-12\n",
    "monthly_performance(\n",
    "    loanpurpose = 'refi',\n",
    "    score_file = 'pred_refiV1_3_dec18_20190716.csv', \n",
    "    servicecalendardate = '2018-12-31', \n",
    "    df_actual = actual, \n",
    "    result_path = result_path_refi, \n",
    "    n = 10, \n",
    "    ls_prob = ['logRegProb', 'randForProb', 'gbtProb'],\n",
    "    nrow = 10\n",
    ")"
   ]
  },
  {
   "cell_type": "code",
   "execution_count": 35,
   "metadata": {
    "collapsed": true
   },
   "outputs": [
    {
     "name": "stdout",
     "output_type": "stream",
     "text": [
      "gbtProb:\n",
      "+-----+------------+----------+------+------------------+-------------------+-------------------+\n",
      "|ntile|retained_new|refipayoff| count|    retention_rate|         percentage|            cum_sum|\n",
      "+-----+------------+----------+------+------------------+-------------------+-------------------+\n",
      "|    1|      6371.0|    9949.0|173461|0.6403658659161725|0.22517200796668477|0.22517200796668477|\n",
      "|    2|      4365.0|    6349.0|173957|0.6875098440699323|0.14369455006337137|0.36886655803005614|\n",
      "|    3|      3777.0|    5541.0|173925|0.6816459122902003|0.12540738728951656| 0.4942739453195727|\n",
      "|    4|      3179.0|    4839.0|173909|0.6569539160983674|0.10951928299837045| 0.6037932283179431|\n",
      "|    5|      2839.0|    4408.0|173853|0.6440562613430127|0.09976462067716821| 0.7035578489951113|\n",
      "|    6|      2484.0|    3834.0|173659| 0.647887323943662|0.08677349266702879| 0.7903313416621401|\n",
      "|    7|      2099.0|    3356.0|173829|0.6254469606674613| 0.0759550968676444| 0.8662864385297845|\n",
      "|    8|      1652.0|    2799.0|174055|0.5902107895677028|0.06334872351982618| 0.9296351620496107|\n",
      "|    9|      1141.0|    2040.0|173687|0.5593137254901961|0.04617055947854427|  0.975805721528155|\n",
      "|   10|       566.0|    1069.0|174459| 0.529466791393826|0.02419427847184501|                1.0|\n",
      "+-----+------------+----------+------+------------------+-------------------+-------------------+\n",
      "\n",
      "None"
     ]
    }
   ],
   "source": [
    "%%spark\n",
    "\n",
    "#2019-1\n",
    "monthly_performance(\n",
    "    loanpurpose = 'refi',\n",
    "    score_file = 'pred_refiV1_3_jan19_20190716.csv', \n",
    "    servicecalendardate = '2019-01-31', \n",
    "    df_actual = actual, \n",
    "    result_path = result_path_refi, \n",
    "    n = 10, \n",
    "    ls_prob = ['gbtProb'],\n",
    "    nrow = 10\n",
    ")"
   ]
  },
  {
   "cell_type": "code",
   "execution_count": 36,
   "metadata": {
    "collapsed": true
   },
   "outputs": [
    {
     "name": "stdout",
     "output_type": "stream",
     "text": [
      "gbtProb:\n",
      "+-----+------------+----------+------+------------------+--------------------+-------------------+\n",
      "|ntile|retained_new|refipayoff| count|    retention_rate|          percentage|            cum_sum|\n",
      "+-----+------------+----------+------+------------------+--------------------+-------------------+\n",
      "|    1|      6545.0|   10606.0|174952|0.6171035263058646| 0.22050812923614288|0.22050812923614288|\n",
      "|    2|      4473.0|    6818.0|175026|0.6560574948665298| 0.14175225581105244| 0.3622603850471953|\n",
      "|    3|      3774.0|    5901.0|175657|0.6395526182003051| 0.12268701401305668|0.48494739906025197|\n",
      "|    4|      3292.0|    5180.0|174898|0.6355212355212355| 0.10769678572913635| 0.5926441847893883|\n",
      "|    5|      2923.0|    4799.0|175425|0.6090852260887685| 0.09977545843902033| 0.6924196432284087|\n",
      "|    6|      2576.0|    4260.0|175420|0.6046948356807512|  0.0885691712753129| 0.7809888145037216|\n",
      "|    7|      2147.0|    3684.0|175185|0.5827904451682954| 0.07659362135639736|  0.857582435860119|\n",
      "|    8|      1793.0|    3210.0|175035|0.5585669781931464| 0.06673874173562311| 0.9243211775957421|\n",
      "|    9|      1237.0|    2367.0|175514|0.5226024503591044| 0.04921202544804358| 0.9735332030437857|\n",
      "|   10|       627.0|    1273.0|175481|0.4925373134328358|0.026466796956214397|                1.0|\n",
      "+-----+------------+----------+------+------------------+--------------------+-------------------+\n",
      "\n",
      "None"
     ]
    }
   ],
   "source": [
    "%%spark\n",
    "\n",
    "#2019-2\n",
    "monthly_performance(\n",
    "    loanpurpose = 'refi',\n",
    "    score_file = 'pred_refiV1_3_feb19_20190716.csv', \n",
    "    servicecalendardate = '2019-02-28', \n",
    "    df_actual = actual, \n",
    "    result_path = result_path_refi, \n",
    "    n = 10, \n",
    "    ls_prob = ['gbtProb'],\n",
    "    nrow = 10\n",
    ")"
   ]
  },
  {
   "cell_type": "code",
   "execution_count": 37,
   "metadata": {
    "collapsed": true
   },
   "outputs": [
    {
     "name": "stdout",
     "output_type": "stream",
     "text": [
      "gbtProb:\n",
      "+-----+------------+----------+------+-------------------+--------------------+-------------------+\n",
      "|ntile|retained_new|refipayoff| count|     retention_rate|          percentage|            cum_sum|\n",
      "+-----+------------+----------+------+-------------------+--------------------+-------------------+\n",
      "|    1|      6076.0|   10605.0|176667|  0.572937293729373| 0.23926629515150147|0.23926629515150147|\n",
      "|    2|      4070.0|    6560.0|177148| 0.6204268292682927| 0.14800442208334275| 0.3872707172348442|\n",
      "|    3|      3307.0|    5458.0|176818| 0.6058995969219494| 0.12314148410531778|  0.510412201340162|\n",
      "|    4|      2853.0|    4706.0|177039| 0.6062473438164045| 0.10617512352503215| 0.6165873248651942|\n",
      "|    5|      2517.0|    4298.0|176868| 0.5856212191717077| 0.09696997044423888|  0.713557295309433|\n",
      "|    6|      2044.0|    3635.0|177128| 0.5623108665749657| 0.08201159668794983| 0.7955688919973829|\n",
      "|    7|      1789.0|    3270.0|177153| 0.5470948012232416|  0.0737765945445931|  0.869345486541976|\n",
      "|    8|      1401.0|    2678.0|176936| 0.5231516056758775| 0.06042009791755973| 0.9297655844595357|\n",
      "|    9|       983.0|    2130.0|176983|0.46150234741784035| 0.04805631387767074| 0.9778218983372065|\n",
      "|   10|       384.0|     983.0|177275| 0.3906408952187182|0.022178101662793583|                1.0|\n",
      "+-----+------------+----------+------+-------------------+--------------------+-------------------+\n",
      "\n",
      "None"
     ]
    }
   ],
   "source": [
    "%%spark\n",
    "\n",
    "#2019-3\n",
    "monthly_performance(\n",
    "    loanpurpose = 'refi',\n",
    "    score_file = 'pred_refiV1_3_mar19_20190716.csv', \n",
    "    servicecalendardate = '2019-03-31', \n",
    "    df_actual = actual, \n",
    "    result_path = result_path_refi, \n",
    "    n = 10, \n",
    "    ls_prob = ['gbtProb'],\n",
    "    nrow = 10\n",
    ")"
   ]
  },
  {
   "cell_type": "markdown",
   "metadata": {
    "collapsed": true
   },
   "source": [
    "### (3). Mover_6 (Purchase 3-6 Months)"
   ]
  },
  {
   "cell_type": "code",
   "execution_count": 13,
   "metadata": {
    "collapsed": true
   },
   "outputs": [
    {
     "name": "stdout",
     "output_type": "stream",
     "text": [
      "logRegProb:\n",
      "+-----+------------+----------------+------+-------------------+--------------------+-------------------+\n",
      "|ntile|retained_new|purchasepayoff_6| count|     retention_rate|          percentage|            cum_sum|\n",
      "+-----+------------+----------------+------+-------------------+--------------------+-------------------+\n",
      "|    1|       548.0|          2746.0|137573| 0.1995630007283321| 0.18290814627322988|0.18290814627322988|\n",
      "|    2|       515.0|          2160.0|138125|0.23842592592592593|  0.1438753080663425|0.32678345433957234|\n",
      "|    3|       395.0|          1825.0|137692|0.21643835616438356|  0.1215613135282755| 0.4483447678678479|\n",
      "|    4|       367.0|          1649.0|137914|0.22255912674348088| 0.10983814027842537| 0.5581829081462732|\n",
      "|    5|       361.0|          1502.0|137961| 0.2403462050599201| 0.10004662625724373|  0.658229534403517|\n",
      "|    6|       280.0|          1297.0|137778| 0.2158828064764842|  0.0863917937787251|  0.744621328182242|\n",
      "|    7|       239.0|          1208.0|137908| 0.1978476821192053| 0.08046359821488043| 0.8250849263971225|\n",
      "|    8|       221.0|          1065.0|138154|0.20751173708920187| 0.07093851994937721| 0.8960234463464997|\n",
      "|    9|       153.0|           859.0|137966| 0.1781140861466822|0.057217078531938984| 0.9532405248784387|\n",
      "|   10|       145.0|           702.0|138023|0.20655270655270655| 0.04675947512156131|                1.0|\n",
      "+-----+------------+----------------+------+-------------------+--------------------+-------------------+\n",
      "\n",
      "None\n",
      "randForProb:\n",
      "+-----+------------+----------------+------+-------------------+--------------------+-------------------+\n",
      "|ntile|retained_new|purchasepayoff_6| count|     retention_rate|          percentage|            cum_sum|\n",
      "+-----+------------+----------------+------+-------------------+--------------------+-------------------+\n",
      "|    1|       598.0|          2868.0|137783|0.20850767085076707| 0.19103443682142143|0.19103443682142143|\n",
      "|    2|       535.0|          2344.0|137919|0.22824232081911264| 0.15613135282754945| 0.3471657896489709|\n",
      "|    3|       452.0|          2096.0|137938|0.21564885496183206| 0.13961233597548792| 0.4867781256244588|\n",
      "|    4|       345.0|          1674.0|137867| 0.2060931899641577| 0.11150336375141544| 0.5982814893758742|\n",
      "|    5|       352.0|          1490.0|137855|0.23624161073825503| 0.09924731899020849| 0.6975288083660828|\n",
      "|    6|       267.0|          1189.0|137782|0.22455845248107653| 0.07919802837540799| 0.7767268367414907|\n",
      "|    7|       240.0|          1188.0|138036|0.20202020202020202| 0.07913141943648838| 0.8558582561779791|\n",
      "|    8|       162.0|           918.0|138002|0.17647058823529413|0.061147005928195566| 0.9170052621061746|\n",
      "|    9|       144.0|           755.0|137720|0.19072847682119207|0.050289748884300274| 0.9672950109904749|\n",
      "|   10|       129.0|           491.0|138192|0.26272912423625255| 0.03270498900952508|                1.0|\n",
      "+-----+------------+----------------+------+-------------------+--------------------+-------------------+\n",
      "\n",
      "None\n",
      "gbtProb:\n",
      "+-----+------------+----------------+------+-------------------+-------------------+-------------------+\n",
      "|ntile|retained_new|purchasepayoff_6| count|     retention_rate|         percentage|            cum_sum|\n",
      "+-----+------------+----------------+------+-------------------+-------------------+-------------------+\n",
      "|    1|       675.0|          3367.0|137706|0.20047520047520048|0.22427229734230333|0.22427229734230333|\n",
      "|    2|       481.0|          2300.0|137719| 0.2091304347826087|0.15320055951508693|0.37747285685739024|\n",
      "|    3|       452.0|          2007.0|138114|0.22521175884404585|0.13368414041164325| 0.5111569972690335|\n",
      "|    4|       387.0|          1692.0|137894|0.22872340425531915|0.11270232465196829| 0.6238593219210018|\n",
      "|    5|       312.0|          1435.0|137958|0.21742160278745645|0.09558382734963032| 0.7194431492706321|\n",
      "|    6|       263.0|          1277.0|137903|0.20595144870790916|0.08505961500033304| 0.8045027642709651|\n",
      "|    7|       210.0|          1062.0|137755| 0.1977401129943503| 0.0707386931326184| 0.8752414574035836|\n",
      "|    8|       195.0|           923.0|138137| 0.2112676056338028|0.06148005062279358| 0.9367215080263771|\n",
      "|    9|       169.0|           654.0|137791|0.25840978593272174|0.04356224605342037| 0.9802837540797975|\n",
      "|   10|        80.0|           296.0|138117| 0.2702702702702703|0.01971624592020249|                1.0|\n",
      "+-----+------------+----------------+------+-------------------+-------------------+-------------------+\n",
      "\n",
      "None"
     ]
    }
   ],
   "source": [
    "%%spark\n",
    "\n",
    "#2017-03\n",
    "monthly_performance(\n",
    "    loanpurpose = 'purchase_6',\n",
    "    score_file = 'pred_Mover_3to6_V1_mar17_20190719.csv', \n",
    "    servicecalendardate = '2017-03-31', \n",
    "    df_actual = actual, \n",
    "    result_path = result_path_pur_6, \n",
    "    n = 10, \n",
    "    ls_prob = ['logRegProb', 'randForProb', 'gbtProb'],\n",
    "    nrow = 10\n",
    ")"
   ]
  },
  {
   "cell_type": "code",
   "execution_count": 14,
   "metadata": {
    "collapsed": true
   },
   "outputs": [
    {
     "name": "stdout",
     "output_type": "stream",
     "text": [
      "logRegProb:\n",
      "+-----+------------+----------------+------+-------------------+--------------------+------------------+\n",
      "|ntile|retained_new|purchasepayoff_6| count|     retention_rate|          percentage|           cum_sum|\n",
      "+-----+------------+----------------+------+-------------------+--------------------+------------------+\n",
      "|    1|       421.0|          2073.0|142175|0.20308731307284128|  0.1812062937062937|0.1812062937062937|\n",
      "|    2|       395.0|          1631.0|142106| 0.2421827099938688| 0.14256993006993007|0.3237762237762238|\n",
      "|    3|       338.0|          1403.0|142624|0.24091233071988596| 0.12263986013986014|0.4464160839160839|\n",
      "|    4|       313.0|          1246.0|142189|0.25120385232744785| 0.10891608391608391|0.5553321678321679|\n",
      "|    5|       231.0|          1092.0|142661|0.21153846153846154| 0.09545454545454546|0.6507867132867133|\n",
      "|    6|       266.0|          1049.0|142263|0.25357483317445184|  0.0916958041958042|0.7424825174825175|\n",
      "|    7|       190.0|           931.0|142346|0.20408163265306123| 0.08138111888111887|0.8238636363636364|\n",
      "|    8|       145.0|           801.0|142165|0.18102372034956304| 0.07001748251748252|0.8938811188811189|\n",
      "|    9|       147.0|           691.0|142495|0.21273516642547033|0.060402097902097905|0.9542832167832168|\n",
      "|   10|       119.0|           523.0|142584|0.22753346080305928| 0.04571678321678321|               1.0|\n",
      "+-----+------------+----------------+------+-------------------+--------------------+------------------+\n",
      "\n",
      "None\n",
      "randForProb:\n",
      "+-----+------------+----------------+------+-------------------+--------------------+-------------------+\n",
      "|ntile|retained_new|purchasepayoff_6| count|     retention_rate|          percentage|            cum_sum|\n",
      "+-----+------------+----------------+------+-------------------+--------------------+-------------------+\n",
      "|    1|       469.0|          2209.0|142005|0.21231326392032593|  0.1930944055944056| 0.1930944055944056|\n",
      "|    2|       412.0|          1820.0|142494|0.22637362637362637|  0.1590909090909091|0.35218531468531467|\n",
      "|    3|       342.0|          1483.0|142225| 0.2306136210384356| 0.12963286713286715| 0.4818181818181818|\n",
      "|    4|       285.0|          1267.0|142461| 0.2249408050513023| 0.11075174825174826| 0.5925699300699301|\n",
      "|    5|       299.0|          1158.0|142507|0.25820379965457685| 0.10122377622377622| 0.6937937062937063|\n",
      "|    6|       220.0|           930.0|142188|0.23655913978494625| 0.08129370629370629| 0.7750874125874125|\n",
      "|    7|       190.0|           887.0|142474|0.21420518602029312| 0.07753496503496503| 0.8526223776223776|\n",
      "|    8|       145.0|           765.0|142298| 0.1895424836601307| 0.06687062937062938|  0.919493006993007|\n",
      "|    9|       109.0|           572.0|142340|0.19055944055944055|                0.05|  0.969493006993007|\n",
      "|   10|        94.0|           349.0|142616| 0.2693409742120344|0.030506993006993006|                1.0|\n",
      "+-----+------------+----------------+------+-------------------+--------------------+-------------------+\n",
      "\n",
      "None\n",
      "gbtProb:\n",
      "+-----+------------+----------------+------+-------------------+-------------------+-------------------+\n",
      "|ntile|retained_new|purchasepayoff_6| count|     retention_rate|         percentage|            cum_sum|\n",
      "+-----+------------+----------------+------+-------------------+-------------------+-------------------+\n",
      "|    1|       515.0|          2548.0|141967| 0.2021193092621664|0.22272727272727272|0.22272727272727272|\n",
      "|    2|       424.0|          1802.0|142500|0.23529411764705882|0.15751748251748252|0.38024475524475526|\n",
      "|    3|       313.0|          1417.0|142390| 0.2208892025405787|0.12386363636363637| 0.5041083916083916|\n",
      "|    4|       316.0|          1307.0|142581|0.24177505738332059|0.11424825174825175| 0.6183566433566433|\n",
      "|    5|       244.0|          1152.0|142096|0.21180555555555555| 0.1006993006993007| 0.7190559440559441|\n",
      "|    6|       240.0|          1014.0|142377|0.23668639053254437|0.08863636363636364| 0.8076923076923077|\n",
      "|    7|       174.0|           807.0|142437|0.21561338289962825|0.07054195804195804| 0.8782342657342658|\n",
      "|    8|       161.0|           718.0|142301|0.22423398328690808|0.06276223776223776| 0.9409965034965035|\n",
      "|    9|       112.0|           459.0|142377| 0.2440087145969499|0.04012237762237762| 0.9811188811188811|\n",
      "|   10|        66.0|           216.0|142582| 0.3055555555555556|0.01888111888111888|                1.0|\n",
      "+-----+------------+----------------+------+-------------------+-------------------+-------------------+\n",
      "\n",
      "None"
     ]
    }
   ],
   "source": [
    "%%spark\n",
    "\n",
    "#2017-06\n",
    "monthly_performance(\n",
    "    loanpurpose = 'purchase_6',\n",
    "    score_file = 'pred_Mover_3to6_V1_jun17_20190719.csv', \n",
    "    servicecalendardate = '2017-06-30', \n",
    "    df_actual = actual, \n",
    "    result_path = result_path_pur_6, \n",
    "    n = 10, \n",
    "    ls_prob = ['logRegProb', 'randForProb', 'gbtProb'],\n",
    "    nrow = 10\n",
    ")"
   ]
  },
  {
   "cell_type": "code",
   "execution_count": 15,
   "metadata": {
    "collapsed": true
   },
   "outputs": [
    {
     "name": "stdout",
     "output_type": "stream",
     "text": [
      "logRegProb:\n",
      "+-----+------------+----------------+------+-------------------+--------------------+-------------------+\n",
      "|ntile|retained_new|purchasepayoff_6| count|     retention_rate|          percentage|            cum_sum|\n",
      "+-----+------------+----------------+------+-------------------+--------------------+-------------------+\n",
      "|    1|       445.0|          2324.0|146558| 0.1914802065404475| 0.18650188588395794|0.18650188588395794|\n",
      "|    2|       434.0|          1869.0|147008|0.23220973782771537| 0.14998796244282162|0.33648984832677953|\n",
      "|    3|       353.0|          1607.0|146548| 0.2196639701306783|  0.1289623625712222|0.46545221089800176|\n",
      "|    4|       344.0|          1497.0|146998|0.22979291917167669| 0.12013482064039804| 0.5855870315383999|\n",
      "|    5|       289.0|          1207.0|146948|0.23943661971830985| 0.09686221009549795| 0.6824492416338978|\n",
      "|    6|       244.0|          1052.0|146876|0.23193916349809887| 0.08442340101115481| 0.7668726426450526|\n",
      "|    7|       218.0|           972.0|146814| 0.2242798353909465| 0.07800337051600995| 0.8448760131610625|\n",
      "|    8|       173.0|           813.0|146874|0.21279212792127922| 0.06524355990690955| 0.9101195730679721|\n",
      "|    9|       131.0|           604.0|146412|0.21688741721854304|0.048471230238343634| 0.9585908033063157|\n",
      "|   10|       120.0|           516.0|147405|0.23255813953488372| 0.04140919669368429|                1.0|\n",
      "+-----+------------+----------------+------+-------------------+--------------------+-------------------+\n",
      "\n",
      "None\n",
      "randForProb:\n",
      "+-----+------------+----------------+------+-------------------+--------------------+-------------------+\n",
      "|ntile|retained_new|purchasepayoff_6| count|     retention_rate|          percentage|            cum_sum|\n",
      "+-----+------------+----------------+------+-------------------+--------------------+-------------------+\n",
      "|    1|       520.0|          2484.0|146682|0.20933977455716588| 0.19934194687424767|0.19934194687424767|\n",
      "|    2|       482.0|          2090.0|146877|0.23062200956937798| 0.16772329668565925| 0.3670652435599069|\n",
      "|    3|       358.0|          1739.0|146679| 0.2058654399079931| 0.13955541288821122| 0.5066206564481182|\n",
      "|    4|       271.0|          1342.0|146808|0.20193740685543965| 0.10769601155605489| 0.6143166680041731|\n",
      "|    5|       327.0|          1321.0|146701|0.24753974261922787| 0.10601075355107936| 0.7203274215552524|\n",
      "|    6|       244.0|           989.0|147000|0.24671385237613752| 0.07936762699622824| 0.7996950485514807|\n",
      "|    7|       199.0|           877.0|146968|0.22690992018244013| 0.07037958430302543|  0.870074632854506|\n",
      "|    8|       152.0|           776.0|146597| 0.1958762886597938| 0.06227429580290506| 0.9323489286574111|\n",
      "|    9|       115.0|           540.0|147017|0.21296296296296297| 0.04333520584222775| 0.9756841344996389|\n",
      "|   10|        83.0|           303.0|147112| 0.2739273927392739|0.024315865500361127|                1.0|\n",
      "+-----+------------+----------------+------+-------------------+--------------------+-------------------+\n",
      "\n",
      "None\n",
      "gbtProb:\n",
      "+-----+------------+----------------+------+-------------------+--------------------+-------------------+\n",
      "|ntile|retained_new|purchasepayoff_6| count|     retention_rate|          percentage|            cum_sum|\n",
      "+-----+------------+----------------+------+-------------------+--------------------+-------------------+\n",
      "|    1|       654.0|          3097.0|146815|0.21117210203422668| 0.24853543054329508|0.24853543054329508|\n",
      "|    2|       407.0|          2050.0|146457|0.19853658536585367| 0.16451328143808683|0.41304871198138193|\n",
      "|    3|       385.0|          1667.0|147119|0.23095380923815237| 0.13377738544258086| 0.5468260974239627|\n",
      "|    4|       308.0|          1384.0|146810|0.22254335260115607| 0.11106652756600593| 0.6578926249899687|\n",
      "|    5|       272.0|          1198.0|146862| 0.2270450751252087| 0.09613995666479416| 0.7540325816547628|\n",
      "|    6|       248.0|          1052.0|146861|0.23574144486692014| 0.08442340101115481| 0.8384559826659177|\n",
      "|    7|       191.0|           797.0|146508| 0.2396486825595985| 0.06395955380788058| 0.9024155364737982|\n",
      "|    8|       137.0|           614.0|147211|0.22312703583061888| 0.04927373405023674|  0.951689270524035|\n",
      "|    9|       105.0|           460.0|146810|0.22826086956521738|  0.0369151753470829| 0.9886044458711178|\n",
      "|   10|        44.0|           142.0|146988|0.30985915492957744|0.011395554128882112|                1.0|\n",
      "+-----+------------+----------------+------+-------------------+--------------------+-------------------+\n",
      "\n",
      "None"
     ]
    }
   ],
   "source": [
    "%%spark\n",
    "\n",
    "#2017-09\n",
    "monthly_performance(\n",
    "    loanpurpose = 'purchase_6',\n",
    "    score_file = 'pred_Mover_3to6_V1_sep17_20190719.csv', \n",
    "    servicecalendardate = '2017-09-30', \n",
    "    df_actual = actual, \n",
    "    result_path = result_path_pur_6, \n",
    "    n = 10, \n",
    "    ls_prob = ['logRegProb', 'randForProb', 'gbtProb'],\n",
    "    nrow = 10\n",
    ")"
   ]
  },
  {
   "cell_type": "code",
   "execution_count": 16,
   "metadata": {
    "collapsed": true
   },
   "outputs": [
    {
     "name": "stdout",
     "output_type": "stream",
     "text": [
      "logRegProb:\n",
      "+-----+------------+----------------+------+-------------------+--------------------+-------------------+\n",
      "|ntile|retained_new|purchasepayoff_6| count|     retention_rate|          percentage|            cum_sum|\n",
      "+-----+------------+----------------+------+-------------------+--------------------+-------------------+\n",
      "|    1|       740.0|          3391.0|152795| 0.2182247124741964| 0.17499225926308185|0.17499225926308185|\n",
      "|    2|       752.0|          2920.0|152999|0.25753424657534246| 0.15068634534007638|0.32567860460315823|\n",
      "|    3|       573.0|          2485.0|152970|0.23058350100603622| 0.12823820827742802| 0.4539168128805862|\n",
      "|    4|       502.0|          2112.0|153168|0.23768939393939395| 0.10898957580761688| 0.5629063886882031|\n",
      "|    5|       447.0|          1894.0|152805|0.23600844772967264| 0.09773970481989885|  0.660646093508102|\n",
      "|    6|       398.0|          1746.0|153113| 0.2279495990836197| 0.09010217772731964| 0.7507482712354216|\n",
      "|    7|       356.0|          1625.0|153014|0.21907692307692309| 0.08385798328000826| 0.8346062545154299|\n",
      "|    8|       288.0|          1332.0|152953|0.21621621621621623| 0.06873774383321292| 0.9033439983486428|\n",
      "|    9|       217.0|          1084.0|153083|0.20018450184501846|0.055939725461863966| 0.9592837238105067|\n",
      "|   10|       199.0|           789.0|153104| 0.2522179974651457| 0.04071627618949324|                1.0|\n",
      "+-----+------------+----------------+------+-------------------+--------------------+-------------------+\n",
      "\n",
      "None\n",
      "randForProb:\n",
      "+-----+------------+----------------+------+-------------------+--------------------+-------------------+\n",
      "|ntile|retained_new|purchasepayoff_6| count|     retention_rate|          percentage|            cum_sum|\n",
      "+-----+------------+----------------+------+-------------------+--------------------+-------------------+\n",
      "|    1|       846.0|          3707.0|152866|0.22821688697059617| 0.19129941170399423|0.19129941170399423|\n",
      "|    2|       785.0|          3055.0|152642| 0.2569558101472995|  0.1576530085664155|0.34895242027040974|\n",
      "|    3|       656.0|          2810.0|153258|0.23345195729537366| 0.14500980493342966| 0.4939622252038394|\n",
      "|    4|       482.0|          2184.0|152861| 0.2206959706959707|  0.1127051295283311| 0.6066673547321705|\n",
      "|    5|       413.0|          1779.0|153040|0.23215289488476673| 0.09180513984931366| 0.6984724945814842|\n",
      "|    6|       370.0|          1577.0|153163|0.23462270133164237| 0.08138094746619878| 0.7798534420476829|\n",
      "|    7|       306.0|          1539.0|152955|0.19883040935672514| 0.07941996078026628| 0.8592734028279492|\n",
      "|    8|       294.0|          1285.0|153120|0.22879377431906614| 0.06631231293219114| 0.9255857157601404|\n",
      "|    9|       187.0|           931.0|152927|  0.200859291084855| 0.04804417380534627| 0.9736298895654867|\n",
      "|   10|       133.0|           511.0|153172| 0.2602739726027397|0.026370110434513365|                1.0|\n",
      "+-----+------------+----------------+------+-------------------+--------------------+-------------------+\n",
      "\n",
      "None\n",
      "gbtProb:\n",
      "+-----+------------+----------------+------+-------------------+--------------------+-------------------+\n",
      "|ntile|retained_new|purchasepayoff_6| count|     retention_rate|          percentage|            cum_sum|\n",
      "+-----+------------+----------------+------+-------------------+--------------------+-------------------+\n",
      "|    1|      1019.0|          4612.0|152634| 0.2209453599306158| 0.23800185777686036|0.23800185777686036|\n",
      "|    2|       775.0|          3207.0|152938|0.24165887121920798| 0.16549695531014552|0.40349881308700586|\n",
      "|    3|       582.0|          2585.0|153096|0.22514506769825918| 0.13339869955619774| 0.5368975126432036|\n",
      "|    4|       513.0|          2233.0|152939|0.22973578145991938| 0.11523377025492827| 0.6521312828981319|\n",
      "|    5|       420.0|          1783.0|153027|0.23555804823331464| 0.09201155950046444| 0.7441428423985963|\n",
      "|    6|       367.0|          1583.0|153179|0.23183828174352494| 0.08169057694292496| 0.8258334193415213|\n",
      "|    7|       270.0|          1342.0|153056|0.20119225037257824|  0.0692537929610899| 0.8950872123026112|\n",
      "|    8|       259.0|          1063.0|152843| 0.2436500470366886| 0.05485602229332232| 0.9499432345959335|\n",
      "|    9|       181.0|           674.0|153146| 0.2685459940652819| 0.03478171121890804| 0.9847249458148416|\n",
      "|   10|        86.0|           296.0|153146| 0.2905405405405405|0.015275054185158427|                1.0|\n",
      "+-----+------------+----------------+------+-------------------+--------------------+-------------------+\n",
      "\n",
      "None"
     ]
    }
   ],
   "source": [
    "%%spark\n",
    "\n",
    "#2017-12\n",
    "monthly_performance(\n",
    "    loanpurpose = 'purchase_6',\n",
    "    score_file = 'pred_Mover_3to6_V1_dec17_20190719.csv', \n",
    "    servicecalendardate = '2017-12-31', \n",
    "    df_actual = actual, \n",
    "    result_path = result_path_pur_6, \n",
    "    n = 10, \n",
    "    ls_prob = ['logRegProb', 'randForProb', 'gbtProb'],\n",
    "    nrow = 10\n",
    ")"
   ]
  },
  {
   "cell_type": "code",
   "execution_count": 17,
   "metadata": {
    "collapsed": true
   },
   "outputs": [
    {
     "name": "stdout",
     "output_type": "stream",
     "text": [
      "logRegProb:\n",
      "+-----+------------+----------------+------+-------------------+--------------------+-------------------+\n",
      "|ntile|retained_new|purchasepayoff_6| count|     retention_rate|          percentage|            cum_sum|\n",
      "+-----+------------+----------------+------+-------------------+--------------------+-------------------+\n",
      "|    1|       652.0|          2963.0|157605| 0.2200472494093824| 0.17610698365527488|0.17610698365527488|\n",
      "|    2|       610.0|          2343.0|157364|0.26034997865983783| 0.13925705794947993|0.31536404160475484|\n",
      "|    3|       570.0|          2087.0|158310| 0.2731193100143747| 0.12404160475482913|0.43940564635958396|\n",
      "|    4|       471.0|          1839.0|157725| 0.2561174551386623| 0.10930163447251115| 0.5487072808320951|\n",
      "|    5|       420.0|          1723.0|157555| 0.2437608821822403| 0.10240713224368499| 0.6511144130757801|\n",
      "|    6|       372.0|          1613.0|157790| 0.2306261624302542| 0.09586924219910847| 0.7469836552748885|\n",
      "|    7|       302.0|          1443.0|157556|0.20928620928620928| 0.08576523031203566| 0.8327488855869242|\n",
      "|    8|       242.0|          1160.0|158023|0.20862068965517241| 0.06894502228826152| 0.9016939078751858|\n",
      "|    9|       195.0|           914.0|157979|0.21334792122538293|0.054323922734026746| 0.9560178306092125|\n",
      "|   10|       204.0|           740.0|157872| 0.2756756756756757| 0.04398216939078752|                1.0|\n",
      "+-----+------------+----------------+------+-------------------+--------------------+-------------------+\n",
      "\n",
      "None\n",
      "randForProb:\n",
      "+-----+------------+----------------+------+-------------------+--------------------+-------------------+\n",
      "|ntile|retained_new|purchasepayoff_6| count|     retention_rate|          percentage|            cum_sum|\n",
      "+-----+------------+----------------+------+-------------------+--------------------+-------------------+\n",
      "|    1|       741.0|          3177.0|157644| 0.2332389046270066| 0.18882615156017832|0.18882615156017832|\n",
      "|    2|       672.0|          2464.0|157717| 0.2727272727272727| 0.14644873699851413| 0.3352748885586924|\n",
      "|    3|       581.0|          2377.0|157526|0.24442574673958772|  0.1412778603268945| 0.4765527488855869|\n",
      "|    4|       411.0|          1906.0|157910|0.21563483735571878| 0.11328380386329866| 0.5898365527488856|\n",
      "|    5|       416.0|          1639.0|157707|0.25381330079316655|  0.0974145616641902| 0.6872511144130757|\n",
      "|    6|       364.0|          1497.0|157985|0.24315297261189045| 0.08897473997028232| 0.7762258543833581|\n",
      "|    7|       293.0|          1362.0|157520|0.21512481644640236| 0.08095096582466568| 0.8571768202080238|\n",
      "|    8|       222.0|          1046.0|157856|0.21223709369024857|0.062169390787518576| 0.9193462109955424|\n",
      "|    9|       179.0|           844.0|157813|0.21208530805687204|0.050163447251114414| 0.9695096582466568|\n",
      "|   10|       159.0|           513.0|158101|0.30994152046783624| 0.03049034175334324|                1.0|\n",
      "+-----+------------+----------------+------+-------------------+--------------------+-------------------+\n",
      "\n",
      "None\n",
      "gbtProb:\n",
      "+-----+------------+----------------+------+-------------------+--------------------+-------------------+\n",
      "|ntile|retained_new|purchasepayoff_6| count|     retention_rate|          percentage|            cum_sum|\n",
      "+-----+------------+----------------+------+-------------------+--------------------+-------------------+\n",
      "|    1|       856.0|          3838.0|157587|0.22303282959874934| 0.22811292719167905|0.22811292719167905|\n",
      "|    2|       680.0|          2688.0|157734|0.25297619047619047| 0.15976225854383358| 0.3878751857355126|\n",
      "|    3|       552.0|          2253.0|157705|0.24500665778961384| 0.13390787518573552| 0.5217830609212482|\n",
      "|    4|       452.0|          1966.0|157674| 0.2299084435401831| 0.11684992570579494|  0.638632986627043|\n",
      "|    5|       390.0|          1633.0|158007|0.23882424984690753| 0.09705794947994056| 0.7356909361069837|\n",
      "|    6|       334.0|          1393.0|157878|  0.239770279971285| 0.08279346210995542| 0.8184843982169391|\n",
      "|    7|       281.0|          1151.0|157488|0.24413553431798435| 0.06841010401188707| 0.8868945022288262|\n",
      "|    8|       218.0|           933.0|157629|0.23365487674169347| 0.05545319465081724| 0.9423476968796434|\n",
      "|    9|       192.0|           698.0|157847|0.27507163323782235| 0.04148588410104012| 0.9838335809806835|\n",
      "|   10|        83.0|           272.0|158230|0.30514705882352944|0.016166419019316494|                1.0|\n",
      "+-----+------------+----------------+------+-------------------+--------------------+-------------------+\n",
      "\n",
      "None"
     ]
    }
   ],
   "source": [
    "%%spark\n",
    "\n",
    "#2018-03\n",
    "monthly_performance(\n",
    "    loanpurpose = 'purchase_6',\n",
    "    score_file = 'pred_Mover_3to6_V1_mar18_20190719.csv', \n",
    "    servicecalendardate = '2018-03-31', \n",
    "    df_actual = actual, \n",
    "    result_path = result_path_pur_6, \n",
    "    n = 10, \n",
    "    ls_prob = ['logRegProb', 'randForProb', 'gbtProb'],\n",
    "    nrow = 10\n",
    ")"
   ]
  },
  {
   "cell_type": "code",
   "execution_count": 18,
   "metadata": {
    "collapsed": true
   },
   "outputs": [
    {
     "name": "stdout",
     "output_type": "stream",
     "text": [
      "logRegProb:\n",
      "+-----+------------+----------------+------+-------------------+-------------------+------------------+\n",
      "|ntile|retained_new|purchasepayoff_6| count|     retention_rate|         percentage|           cum_sum|\n",
      "+-----+------------+----------------+------+-------------------+-------------------+------------------+\n",
      "|    1|       480.0|          2111.0|161900| 0.2273803884414969|  0.175887352107982| 0.175887352107982|\n",
      "|    2|       389.0|          1628.0|161782|0.23894348894348894| 0.1356440593234461|0.3115314114314281|\n",
      "|    3|       339.0|          1386.0|161836|0.24458874458874458| 0.1154807532077987|0.4270121646392268|\n",
      "|    4|       333.0|          1285.0|161981|0.25914396887159535|0.10706548908515247|0.5340776537243793|\n",
      "|    5|       275.0|          1154.0|162060|0.23830155979202772|0.09615064155974004|0.6302282952841193|\n",
      "|    6|       263.0|          1151.0|161987|0.22849695916594265|0.09590068321946342|0.7261289785035827|\n",
      "|    7|       219.0|          1042.0|161912|0.21017274472168906| 0.0868188635227462| 0.812947842026329|\n",
      "|    8|       163.0|           896.0|161964|0.18191964285714285|0.07465422429595067|0.8876020663222797|\n",
      "|    9|       141.0|           770.0|162190|0.18311688311688312|0.06415597400433261|0.9517580403266123|\n",
      "|   10|       134.0|           579.0|162083|  0.231433506044905|0.04824195967338777|               1.0|\n",
      "+-----+------------+----------------+------+-------------------+-------------------+------------------+\n",
      "\n",
      "None\n",
      "randForProb:\n",
      "+-----+------------+----------------+------+-------------------+-------------------+-------------------+\n",
      "|ntile|retained_new|purchasepayoff_6| count|     retention_rate|         percentage|            cum_sum|\n",
      "+-----+------------+----------------+------+-------------------+-------------------+-------------------+\n",
      "|    1|       519.0|          2237.0|161769| 0.2320071524362986|0.18638560239960006|0.18638560239960006|\n",
      "|    2|       420.0|          1629.0|162058| 0.2578268876611418|0.13572737877020496|  0.322112981169805|\n",
      "|    3|       389.0|          1704.0|162048| 0.2282863849765258|0.14197633727712047| 0.4640893184469255|\n",
      "|    4|       330.0|          1348.0|161903|0.24480712166172106|0.11231461423096151|  0.576403932677887|\n",
      "|    5|       268.0|          1102.0|161794|0.24319419237749546|0.09181803032827862| 0.6682219630061657|\n",
      "|    6|       235.0|          1032.0|162025|0.22771317829457363|0.08598566905515748| 0.7542076320613231|\n",
      "|    7|       179.0|           970.0|161509|0.18453608247422681|0.08081986335610732| 0.8350274954174304|\n",
      "|    8|       159.0|           858.0|162349| 0.1853146853146853|0.07148808531911348| 0.9065155807365439|\n",
      "|    9|       126.0|           697.0|161997|0.18077474892395984|0.05807365439093484| 0.9645892351274787|\n",
      "|   10|       111.0|           425.0|162243| 0.2611764705882353|0.03541076487252125|                1.0|\n",
      "+-----+------------+----------------+------+-------------------+-------------------+-------------------+\n",
      "\n",
      "None\n",
      "gbtProb:\n",
      "+-----+------------+----------------+------+-------------------+--------------------+-------------------+\n",
      "|ntile|retained_new|purchasepayoff_6| count|     retention_rate|          percentage|            cum_sum|\n",
      "+-----+------------+----------------+------+-------------------+--------------------+-------------------+\n",
      "|    1|       579.0|          2630.0|161796|0.22015209125475285| 0.21913014497583735|0.21913014497583735|\n",
      "|    2|       426.0|          1802.0|161745|0.23640399556048836|  0.1501416430594901|0.36927178803532745|\n",
      "|    3|       410.0|          1611.0|162143|0.25450031036623216| 0.13422762872854524| 0.5034994167638727|\n",
      "|    4|       311.0|          1360.0|161827| 0.2286764705882353| 0.11331444759206799| 0.6168138643559407|\n",
      "|    5|       264.0|          1228.0|161967|0.21498371335504887| 0.10231628061989669| 0.7191301449758374|\n",
      "|    6|       222.0|          1000.0|162220|              0.222| 0.08331944675887352| 0.8024495917347109|\n",
      "|    7|       167.0|           908.0|161726|  0.183920704845815| 0.07565405765705716|  0.878103649391768|\n",
      "|    8|       144.0|           700.0|162113| 0.2057142857142857| 0.05832361273121146| 0.9364272621229796|\n",
      "|    9|       149.0|           561.0|162050|0.26559714795008915|0.046742209631728045| 0.9831694717547076|\n",
      "|   10|        64.0|           202.0|162108|0.31683168316831684| 0.01683052824529245|                1.0|\n",
      "+-----+------------+----------------+------+-------------------+--------------------+-------------------+\n",
      "\n",
      "None"
     ]
    }
   ],
   "source": [
    "%%spark\n",
    "\n",
    "#2018-06\n",
    "monthly_performance(\n",
    "    loanpurpose = 'purchase_6',\n",
    "    score_file = 'pred_Mover_3to6_V1_jun18_20190719.csv', \n",
    "    servicecalendardate = '2018-06-30', \n",
    "    df_actual = actual, \n",
    "    result_path = result_path_pur_6, \n",
    "    n = 10, \n",
    "    ls_prob = ['logRegProb', 'randForProb', 'gbtProb'],\n",
    "    nrow = 10\n",
    ")"
   ]
  },
  {
   "cell_type": "code",
   "execution_count": 18,
   "metadata": {
    "collapsed": true
   },
   "outputs": [
    {
     "name": "stdout",
     "output_type": "stream",
     "text": [
      "gbtProb:\n",
      "+-----+------------+----------------+------+-------------------+-------------------+-------------------+\n",
      "|ntile|retained_new|purchasepayoff_6| count|     retention_rate|         percentage|            cum_sum|\n",
      "+-----+------------+----------------+------+-------------------+-------------------+-------------------+\n",
      "|    1|       493.0|          2247.0|164913|0.21940364931019138|0.20849958244409392|0.20849958244409392|\n",
      "|    2|       411.0|          1657.0|165160|  0.248038624019312| 0.1537533636447991|  0.362252946088893|\n",
      "|    3|       335.0|          1390.0|165502|0.24100719424460432|0.12897837988308436| 0.4912313259719774|\n",
      "|    4|       297.0|          1281.0|165055|0.23185011709601874|0.11886424793541801| 0.6100955739073953|\n",
      "|    5|       212.0|          1048.0|165241|0.20229007633587787|0.09724413101976431| 0.7073397049271597|\n",
      "|    6|       192.0|           936.0|165387|0.20512820512820512|0.08685162846803378| 0.7941913333951934|\n",
      "|    7|       155.0|           817.0|165088|  0.189718482252142|0.07580959450682008| 0.8700009279020136|\n",
      "|    8|       139.0|           687.0|165387|0.20232896652110627|0.06374686833070428| 0.9337477962327179|\n",
      "|    9|       141.0|           521.0|165135| 0.2706333973128599|0.04834369490581795| 0.9820914911385358|\n",
      "|   10|        50.0|           193.0|165553|0.25906735751295334|0.01790850886146423|                1.0|\n",
      "+-----+------------+----------------+------+-------------------+-------------------+-------------------+\n",
      "\n",
      "None"
     ]
    }
   ],
   "source": [
    "%%spark\n",
    "\n",
    "#2018-07\n",
    "monthly_performance(\n",
    "    loanpurpose = 'purchase_6',\n",
    "    score_file = 'pred_Mover_3to6_V1_jul18_20190722.csv', \n",
    "    servicecalendardate = '2018-07-31', \n",
    "    df_actual = actual, \n",
    "    result_path = result_path_pur_6, \n",
    "    n = 10, \n",
    "    ls_prob = ['gbtProb'],\n",
    "    nrow = 10\n",
    ")"
   ]
  },
  {
   "cell_type": "code",
   "execution_count": 19,
   "metadata": {
    "collapsed": true
   },
   "outputs": [
    {
     "name": "stdout",
     "output_type": "stream",
     "text": [
      "gbtProb:\n",
      "+-----+------------+----------------+------+-------------------+--------------------+-------------------+\n",
      "|ntile|retained_new|purchasepayoff_6| count|     retention_rate|          percentage|            cum_sum|\n",
      "+-----+------------+----------------+------+-------------------+--------------------+-------------------+\n",
      "|    1|       497.0|          2238.0|166697|0.22207327971403037| 0.20229594142637622|0.20229594142637622|\n",
      "|    2|       405.0|          1726.0|166950|0.23464658169177288| 0.15601554731989514|0.35831148874627133|\n",
      "|    3|       324.0|          1421.0|166639|0.22800844475721324|  0.1284461719244328|0.48675766067070414|\n",
      "|    4|       281.0|          1246.0|167081|0.22552166934189405| 0.11262767784506915| 0.5993853385157732|\n",
      "|    5|       222.0|          1078.0|167032|0.20593692022263452| 0.09744192352888005| 0.6968272620446534|\n",
      "|    6|       172.0|           961.0|166613|0.17898022892819979| 0.08686613034439121| 0.7836933923890446|\n",
      "|    7|       165.0|           847.0|167052|0.19480519480519481| 0.07656151134412004| 0.8602549037331646|\n",
      "|    8|       166.0|           741.0|167027|0.22402159244264508| 0.06698002350176263| 0.9272349272349273|\n",
      "|    9|       147.0|           566.0|166951| 0.2597173144876325| 0.05116152942239899| 0.9783964566573262|\n",
      "|   10|        67.0|           239.0|167160| 0.2803347280334728|0.021603543342673778|                1.0|\n",
      "+-----+------------+----------------+------+-------------------+--------------------+-------------------+\n",
      "\n",
      "None"
     ]
    }
   ],
   "source": [
    "%%spark\n",
    "\n",
    "#2018-08\n",
    "monthly_performance(\n",
    "    loanpurpose = 'purchase_6',\n",
    "    score_file = 'pred_Mover_3to6_V1_aug18_20190722.csv', \n",
    "    servicecalendardate = '2018-08-31', \n",
    "    df_actual = actual, \n",
    "    result_path = result_path_pur_6, \n",
    "    n = 10, \n",
    "    ls_prob = ['gbtProb'],\n",
    "    nrow = 10\n",
    ")"
   ]
  },
  {
   "cell_type": "code",
   "execution_count": 19,
   "metadata": {
    "collapsed": true
   },
   "outputs": [
    {
     "name": "stdout",
     "output_type": "stream",
     "text": [
      "logRegProb:\n",
      "+-----+------------+----------------+------+-------------------+--------------------+-------------------+\n",
      "|ntile|retained_new|purchasepayoff_6| count|     retention_rate|          percentage|            cum_sum|\n",
      "+-----+------------+----------------+------+-------------------+--------------------+-------------------+\n",
      "|    1|       300.0|          1403.0|168192|0.21382751247327156| 0.10538571321264929|0.10538571321264929|\n",
      "|    2|       352.0|          1545.0|168330|  0.227831715210356| 0.11605197926838429|0.22143769248103357|\n",
      "|    3|       427.0|          1942.0|168395|0.21987641606591143| 0.14587245549462932|0.36731014797566286|\n",
      "|    4|       363.0|          1874.0|168329| 0.1937033084311633| 0.14076466611582664| 0.5080748140914895|\n",
      "|    5|       358.0|          1620.0|168313|0.22098765432098766| 0.12168557049500488| 0.6297603845864944|\n",
      "|    6|       294.0|          1319.0|168436|0.22289613343442002| 0.09907609103883422| 0.7288364756253286|\n",
      "|    7|       248.0|          1055.0|168377|0.23507109004739338| 0.07924584992112972| 0.8080823255464583|\n",
      "|    8|       219.0|          1069.0|168377| 0.2048643592142189| 0.08029745361676557|  0.888379779163224|\n",
      "|    9|       157.0|           855.0|167975|0.18362573099415205|  0.0642229399834748| 0.9526027191466987|\n",
      "|   10|       137.0|           631.0|168859|0.21711568938193343|0.047397280853301284|                1.0|\n",
      "+-----+------------+----------------+------+-------------------+--------------------+-------------------+\n",
      "\n",
      "None\n",
      "randForProb:\n",
      "+-----+------------+----------------+------+-------------------+--------------------+-------------------+\n",
      "|ntile|retained_new|purchasepayoff_6| count|     retention_rate|          percentage|            cum_sum|\n",
      "+-----+------------+----------------+------+-------------------+--------------------+-------------------+\n",
      "|    1|       569.0|          2613.0|167969|0.21775736701109835| 0.19627431833546158|0.19627431833546158|\n",
      "|    2|       402.0|          1994.0|168795|0.20160481444332998| 0.14977841207841958| 0.3460527304138812|\n",
      "|    3|       404.0|          1721.0|168108| 0.2347472399767577|  0.1292721400135206| 0.4753248704274018|\n",
      "|    4|       368.0|          1626.0|168182|0.22632226322263221| 0.12213625779313453| 0.5974611282205363|\n",
      "|    5|       259.0|          1221.0|168385|0.21212121212121213|  0.0917148651693833| 0.6891759933899196|\n",
      "|    6|       231.0|          1131.0|168476|0.20424403183023873|  0.0849545556974386| 0.7741305490873582|\n",
      "|    7|       216.0|           976.0|168248|0.22131147540983606| 0.07331180049575603| 0.8474423495831143|\n",
      "|    8|       174.0|           925.0|168416| 0.1881081081081081| 0.06948095846165402| 0.9169233080447683|\n",
      "|    9|       118.0|           620.0|168293|0.19032258064516128|0.046571020806730264| 0.9634943288514985|\n",
      "|   10|       114.0|           486.0|168711| 0.2345679012345679|0.036505671148501465|                1.0|\n",
      "+-----+------------+----------------+------+-------------------+--------------------+-------------------+\n",
      "\n",
      "None\n",
      "gbtProb:\n",
      "+-----+------------+----------------+------+-------------------+--------------------+-------------------+\n",
      "|ntile|retained_new|purchasepayoff_6| count|     retention_rate|          percentage|            cum_sum|\n",
      "+-----+------------+----------------+------+-------------------+--------------------+-------------------+\n",
      "|    1|       527.0|          2736.0|167992| 0.1926169590643275| 0.20551340794711936|0.20551340794711936|\n",
      "|    2|       474.0|          2110.0|168511|0.22464454976303316| 0.15849169984225944| 0.3640051077893788|\n",
      "|    3|       398.0|          1747.0|168158|  0.227819118488838| 0.13122511830541575|0.49523022609479456|\n",
      "|    4|       366.0|          1503.0|168460| 0.2435129740518962| 0.11289716818147676| 0.6081273942762713|\n",
      "|    5|       277.0|          1287.0|168342|0.21522921522921523| 0.09667242544880944| 0.7047998197250808|\n",
      "|    6|       207.0|          1083.0|168526|0.19113573407202217| 0.08134905731240141| 0.7861488770374822|\n",
      "|    7|       188.0|           978.0|168306|0.19222903885480572| 0.07346202959513258| 0.8596109066326147|\n",
      "|    8|       186.0|           892.0|168365| 0.2085201793721973| 0.06700217832194096| 0.9266130849545557|\n",
      "|    9|       146.0|           646.0|168164| 0.2260061919504644|0.048523999098625405| 0.9751370840531811|\n",
      "|   10|        86.0|           331.0|168759| 0.2598187311178248|  0.0248629159468189|                1.0|\n",
      "+-----+------------+----------------+------+-------------------+--------------------+-------------------+\n",
      "\n",
      "None"
     ]
    }
   ],
   "source": [
    "%%spark\n",
    "\n",
    "#2018-09\n",
    "monthly_performance(\n",
    "    loanpurpose = 'purchase_6',\n",
    "    score_file = 'pred_Mover_3to6_V1_sep18_20190719.csv', \n",
    "    servicecalendardate = '2018-09-30', \n",
    "    df_actual = actual, \n",
    "    result_path = result_path_pur_6, \n",
    "    n = 10, \n",
    "    ls_prob = ['logRegProb', 'randForProb', 'gbtProb'],\n",
    "    nrow = 10\n",
    ")"
   ]
  },
  {
   "cell_type": "code",
   "execution_count": 20,
   "metadata": {
    "collapsed": true
   },
   "outputs": [
    {
     "name": "stdout",
     "output_type": "stream",
     "text": [
      "gbtProb:\n",
      "+-----+------------+----------------+------+-------------------+-------------------+-------------------+\n",
      "|ntile|retained_new|purchasepayoff_6| count|     retention_rate|         percentage|            cum_sum|\n",
      "+-----+------------+----------------+------+-------------------+-------------------+-------------------+\n",
      "|    1|       700.0|          3341.0|169804|0.20951810835079318|0.20489390408438612|0.20489390408438612|\n",
      "|    2|       593.0|          2584.0|169624|0.22948916408668732|0.15846927511345518| 0.3633631791978413|\n",
      "|    3|       451.0|          2127.0|170187|0.21203573107663376| 0.1304427817981111| 0.4938059609959524|\n",
      "|    4|       406.0|          1847.0|169821| 0.2198159177043855|0.11327118851956335| 0.6070771495155157|\n",
      "|    5|       368.0|          1652.0|170231|0.22276029055690072|0.10131240034343186| 0.7083895498589476|\n",
      "|    6|       279.0|          1373.0|169764|0.20320466132556445|0.08420213418373605| 0.7925916840426837|\n",
      "|    7|       273.0|          1215.0|169765|0.22469135802469137|0.07451244940512694| 0.8671041334478107|\n",
      "|    8|       182.0|          1004.0|169999|0.18127490039840638|0.06157242732736416| 0.9286765607751748|\n",
      "|    9|       176.0|           778.0|170080| 0.2262210796915167|0.04771249846682203| 0.9763890592419968|\n",
      "|   10|        91.0|           385.0|170235|0.23636363636363636|0.02361094075800319|                1.0|\n",
      "+-----+------------+----------------+------+-------------------+-------------------+-------------------+\n",
      "\n",
      "None"
     ]
    }
   ],
   "source": [
    "%%spark\n",
    "\n",
    "#2018-10\n",
    "monthly_performance(\n",
    "    loanpurpose = 'purchase_6',\n",
    "    score_file = 'pred_Mover_3to6_V1_oct18_20190722.csv', \n",
    "    servicecalendardate = '2018-10-31', \n",
    "    df_actual = actual, \n",
    "    result_path = result_path_pur_6, \n",
    "    n = 10, \n",
    "    ls_prob = ['gbtProb'],\n",
    "    nrow = 10\n",
    ")"
   ]
  },
  {
   "cell_type": "code",
   "execution_count": 21,
   "metadata": {
    "collapsed": true
   },
   "outputs": [
    {
     "name": "stdout",
     "output_type": "stream",
     "text": [
      "gbtProb:\n",
      "+-----+------------+----------------+------+-------------------+--------------------+-------------------+\n",
      "|ntile|retained_new|purchasepayoff_6| count|     retention_rate|          percentage|            cum_sum|\n",
      "+-----+------------+----------------+------+-------------------+--------------------+-------------------+\n",
      "|    1|       732.0|          3407.0|171141| 0.2148517757557969| 0.20071874631789796|0.20071874631789796|\n",
      "|    2|       678.0|          2742.0|171501|0.24726477024070023|  0.1615411806291976| 0.3622599269470956|\n",
      "|    3|       513.0|          2278.0|171370|0.22519754170324846|  0.1342052550960292| 0.4964651820431248|\n",
      "|    4|       452.0|          1950.0|171332| 0.2317948717948718| 0.11488158359844468| 0.6113467656415694|\n",
      "|    5|       371.0|          1633.0|171350| 0.2271892222902633| 0.09620596205962059|   0.70755272770119|\n",
      "|    6|       324.0|          1452.0|171297| 0.2231404958677686| 0.08554259455638034| 0.7930953222575704|\n",
      "|    7|       278.0|          1288.0|171316|0.21583850931677018| 0.07588075880758807| 0.8689760810651584|\n",
      "|    8|       236.0|          1028.0|171176|0.22957198443579765|0.060563214327795455| 0.9295392953929539|\n",
      "|    9|       160.0|           765.0|171014|0.20915032679738563|0.045068928950159064|  0.974608224343113|\n",
      "|   10|       100.0|           431.0|172118|0.23201856148491878|0.025391775656887005|                1.0|\n",
      "+-----+------------+----------------+------+-------------------+--------------------+-------------------+\n",
      "\n",
      "None"
     ]
    }
   ],
   "source": [
    "%%spark\n",
    "\n",
    "#2018-11\n",
    "monthly_performance(\n",
    "    loanpurpose = 'purchase_6',\n",
    "    score_file = 'pred_Mover_3to6_V1_nov18_20190722.csv', \n",
    "    servicecalendardate = '2018-11-30', \n",
    "    df_actual = actual, \n",
    "    result_path = result_path_pur_6, \n",
    "    n = 10, \n",
    "    ls_prob = ['gbtProb'],\n",
    "    nrow = 10\n",
    ")"
   ]
  },
  {
   "cell_type": "markdown",
   "metadata": {},
   "source": [
    "### (4). Mover_12 (Purchase 6-12 Months)"
   ]
  },
  {
   "cell_type": "code",
   "execution_count": 20,
   "metadata": {
    "collapsed": true
   },
   "outputs": [
    {
     "name": "stdout",
     "output_type": "stream",
     "text": [
      "logRegProb:\n",
      "+-----+------------+-----------------+------+-------------------+-------------------+------------------+\n",
      "|ntile|retained_new|purchasepayoff_12| count|     retention_rate|         percentage|           cum_sum|\n",
      "+-----+------------+-----------------+------+-------------------+-------------------+------------------+\n",
      "|    1|      1077.0|           4813.0|123108|0.22376895906918762| 0.1669789064668332|0.1669789064668332|\n",
      "|    2|       932.0|           3935.0|123687|0.23684879288437102| 0.1365181792950319|0.3034970857618651|\n",
      "|    3|       840.0|           3703.0|123448|0.22684310018903592| 0.1284693311129614|0.4319664168748265|\n",
      "|    4|       754.0|           3289.0|123360|0.22924901185770752|0.11410630030530114|0.5460727171801276|\n",
      "|    5|       655.0|           3126.0|123559|  0.209532949456174|0.10845129059117402|0.6545240077713017|\n",
      "|    6|       558.0|           2820.0|123388|0.19787234042553192|0.09783513738551207|0.7523591451568138|\n",
      "|    7|       475.0|           2441.0|123534|0.19459238017206062|0.08468637246738829|0.8370455176242021|\n",
      "|    8|       376.0|           1992.0|123461|0.18875502008032127|0.06910907577019151|0.9061545933943935|\n",
      "|    9|       286.0|           1552.0|123425|0.18427835051546393|0.05384401887316125|0.9599986122675548|\n",
      "|   10|       272.0|           1153.0|123673|0.23590633130962707|0.04000138773244519|               1.0|\n",
      "+-----+------------+-----------------+------+-------------------+-------------------+------------------+\n",
      "\n",
      "None\n",
      "randForProb:\n",
      "+-----+------------+-----------------+------+-------------------+-------------------+-------------------+\n",
      "|ntile|retained_new|purchasepayoff_12| count|     retention_rate|         percentage|            cum_sum|\n",
      "+-----+------------+-----------------+------+-------------------+-------------------+-------------------+\n",
      "|    1|      1208.0|           4896.0|123394|0.24673202614379086|0.16985845129059118|0.16985845129059118|\n",
      "|    2|       901.0|           4371.0|123296|0.20613132006405857|0.15164446294754372| 0.3215029142381349|\n",
      "|    3|       890.0|           4041.0|123414| 0.2202425142291512|0.14019567027477103| 0.4616985845129059|\n",
      "|    4|       760.0|           3562.0|123614| 0.2133632790567097|0.12357757424368582| 0.5852761587565918|\n",
      "|    5|       623.0|           2801.0|123429|0.22242056408425562| 0.0971759644740494| 0.6824521232306411|\n",
      "|    6|       535.0|           2511.0|123370|0.21306252489048189|0.08711490424646129| 0.7695670274771024|\n",
      "|    7|       418.0|           2388.0|123573|0.17504187604690116|0.08284762697751874| 0.8524146544546212|\n",
      "|    8|       369.0|           2043.0|123413|0.18061674008810572|0.07087843463780183|  0.923293089092423|\n",
      "|    9|       319.0|           1515.0|123409|0.21056105610561057|0.05256036636136553| 0.9758534554537885|\n",
      "|   10|       202.0|            696.0|123731|0.29022988505747127|0.02414654454621149|                1.0|\n",
      "+-----+------------+-----------------+------+-------------------+-------------------+-------------------+\n",
      "\n",
      "None\n",
      "gbtProb:\n",
      "+-----+------------+-----------------+------+-------------------+-------------------+-------------------+\n",
      "|ntile|retained_new|purchasepayoff_12| count|     retention_rate|         percentage|            cum_sum|\n",
      "+-----+------------+-----------------+------+-------------------+-------------------+-------------------+\n",
      "|    1|      1201.0|           5731.0|123325|0.20956203105915197|0.19882736608381904|0.19882736608381904|\n",
      "|    2|      1008.0|           4425.0|123417|0.22779661016949151|0.15351790174854288| 0.3523452678323619|\n",
      "|    3|       826.0|           3924.0|123492|0.21049949031600407|0.13613655287260615| 0.4884818207049681|\n",
      "|    4|       708.0|           3413.0|123409| 0.2074421330208028| 0.1184082708853733| 0.6068900915903414|\n",
      "|    5|       648.0|           2940.0|123506|0.22040816326530613|0.10199833472106577| 0.7088884263114071|\n",
      "|    6|       492.0|           2544.0|123513|0.19339622641509435|0.08825978351373855| 0.7971482098251457|\n",
      "|    7|       462.0|           2171.0|123306|0.21280515891294335|0.07531917846239244| 0.8724673882875381|\n",
      "|    8|       394.0|           1856.0|123488| 0.2122844827586207|0.06439078545656397| 0.9368581737441022|\n",
      "|    9|       316.0|           1307.0|123549|0.24177505738332059|0.04534415764640577| 0.9822023313905079|\n",
      "|   10|       170.0|            513.0|123638| 0.3313840155945419|0.01779766860949209|                1.0|\n",
      "+-----+------------+-----------------+------+-------------------+-------------------+-------------------+\n",
      "\n",
      "None"
     ]
    }
   ],
   "source": [
    "%%spark\n",
    "\n",
    "#2016-09\n",
    "monthly_performance(\n",
    "    loanpurpose = 'purchase_12',\n",
    "    score_file = 'pred_Mover_6to12_V1_sep16_20190722.csv', \n",
    "    servicecalendardate = '2016-09-30', \n",
    "    df_actual = actual, \n",
    "    result_path = result_path_pur_12, \n",
    "    n = 10, \n",
    "    ls_prob = ['logRegProb', 'randForProb', 'gbtProb'],\n",
    "    nrow = 10\n",
    ")"
   ]
  },
  {
   "cell_type": "code",
   "execution_count": 21,
   "metadata": {
    "collapsed": true
   },
   "outputs": [
    {
     "name": "stdout",
     "output_type": "stream",
     "text": [
      "logRegProb:\n",
      "+-----+------------+-----------------+------+-------------------+--------------------+-------------------+\n",
      "|ntile|retained_new|purchasepayoff_12| count|     retention_rate|          percentage|            cum_sum|\n",
      "+-----+------------+-----------------+------+-------------------+--------------------+-------------------+\n",
      "|    1|       956.0|           3905.0|132464| 0.2448143405889885| 0.15679582413170046|0.15679582413170046|\n",
      "|    2|       790.0|           3380.0|132740|0.23372781065088757| 0.13571571973499297| 0.2925115438666934|\n",
      "|    3|       737.0|           3107.0|132404|0.23720630833601544| 0.12475406544870508| 0.4172656093153985|\n",
      "|    4|       629.0|           2849.0|132736|0.22077922077922077| 0.11439469985946597| 0.5316603091748645|\n",
      "|    5|       542.0|           2721.0|132603|  0.199191473722896| 0.10925516964464967| 0.6409154788195142|\n",
      "|    6|       467.0|           2467.0|132698|0.18929874341305228| 0.09905641437462356| 0.7399718931941377|\n",
      "|    7|       420.0|           2142.0|132508|0.19607843137254902| 0.08600682593856655| 0.8259787191327043|\n",
      "|    8|       367.0|           1794.0|132588|0.20457079152731328| 0.07203372816703474| 0.8980124472997391|\n",
      "|    9|       247.0|           1447.0|132856|   0.17069799585349|0.058100782975306166| 0.9561132302750451|\n",
      "|   10|       230.0|           1093.0|132778|0.21043000914913082| 0.04388676972495483|                1.0|\n",
      "+-----+------------+-----------------+------+-------------------+--------------------+-------------------+\n",
      "\n",
      "None\n",
      "randForProb:\n",
      "+-----+------------+-----------------+------+-------------------+-------------------+------------------+\n",
      "|ntile|retained_new|purchasepayoff_12| count|     retention_rate|         percentage|           cum_sum|\n",
      "+-----+------------+-----------------+------+-------------------+-------------------+------------------+\n",
      "|    1|      1056.0|           4143.0|132330| 0.2548877624909486| 0.1663521381248745|0.1663521381248745|\n",
      "|    2|       830.0|           3713.0|132660|  0.223538917317533|  0.149086528809476|0.3154386669343505|\n",
      "|    3|       746.0|           3405.0|132572|0.21908957415565344|0.13671953423007427|0.4521582011644248|\n",
      "|    4|       644.0|           2956.0|132479| 0.2178619756427605|0.11869102589841397|0.5708492270628388|\n",
      "|    5|       543.0|           2425.0|132738|0.22391752577319587|0.09737000602288697|0.6682192330857257|\n",
      "|    6|       430.0|           2221.0|132923|0.19360648356596127|0.08917887974302349|0.7573981128287492|\n",
      "|    7|       374.0|           2172.0|132597| 0.1721915285451197|0.08721140333266413|0.8446095161614133|\n",
      "|    8|       329.0|           1798.0|132619|0.18298109010011124|0.07219433848624775|0.9168038546476611|\n",
      "|    9|       260.0|           1394.0|132402|0.18651362984218078|0.05597269624573379|0.9727765508933949|\n",
      "|   10|       173.0|            678.0|133055| 0.2551622418879056| 0.0272234491066051|               1.0|\n",
      "+-----+------------+-----------------+------+-------------------+-------------------+------------------+\n",
      "\n",
      "None\n",
      "gbtProb:\n",
      "+-----+------------+-----------------+------+-------------------+--------------------+-------------------+\n",
      "|ntile|retained_new|purchasepayoff_12| count|     retention_rate|          percentage|            cum_sum|\n",
      "+-----+------------+-----------------+------+-------------------+--------------------+-------------------+\n",
      "|    1|      1040.0|           4723.0|132446|0.22019902604276942|  0.1896406344107609| 0.1896406344107609|\n",
      "|    2|       833.0|           3807.0|132656| 0.2188074599422117| 0.15286087131098172|0.34250150572174265|\n",
      "|    3|       708.0|           3329.0|132623|0.21267647942325021|  0.1336679381650271|0.47616944388676974|\n",
      "|    4|       620.0|           2930.0|132673|0.21160409556313994| 0.11764705882352941| 0.5938165027102992|\n",
      "|    5|       583.0|           2618.0|132524|0.22268907563025211| 0.10511945392491467| 0.6989359566352138|\n",
      "|    6|       457.0|           2221.0|132809|0.20576316974335884| 0.08917887974302349| 0.7881148363782373|\n",
      "|    7|       403.0|           1963.0|132474| 0.2052980132450331| 0.07881951415378438| 0.8669343505320217|\n",
      "|    8|       329.0|           1622.0|132721|0.20283600493218248| 0.06512748444087532|  0.932061834972897|\n",
      "|    9|       290.0|           1202.0|132527|0.24126455906821964|0.048263400923509336| 0.9803252358964063|\n",
      "|   10|       122.0|            490.0|132922|0.24897959183673468|0.019674764103593655|                1.0|\n",
      "+-----+------------+-----------------+------+-------------------+--------------------+-------------------+\n",
      "\n",
      "None"
     ]
    }
   ],
   "source": [
    "%%spark\n",
    "\n",
    "#2016-12\n",
    "monthly_performance(\n",
    "    loanpurpose = 'purchase_12',\n",
    "    score_file = 'pred_Mover_6to12_V1_dec16_20190722.csv', \n",
    "    servicecalendardate = '2016-12-31', \n",
    "    df_actual = actual, \n",
    "    result_path = result_path_pur_12, \n",
    "    n = 10, \n",
    "    ls_prob = ['logRegProb', 'randForProb', 'gbtProb'],\n",
    "    nrow = 10\n",
    ")"
   ]
  },
  {
   "cell_type": "code",
   "execution_count": 22,
   "metadata": {
    "collapsed": true
   },
   "outputs": [
    {
     "name": "stdout",
     "output_type": "stream",
     "text": [
      "logRegProb:\n",
      "+-----+------------+-----------------+------+-------------------+-------------------+-------------------+\n",
      "|ntile|retained_new|purchasepayoff_12| count|     retention_rate|         percentage|            cum_sum|\n",
      "+-----+------------+-----------------+------+-------------------+-------------------+-------------------+\n",
      "|    1|       867.0|           3678.0|137822|0.23572593800978792|0.16432113657686637|0.16432113657686637|\n",
      "|    2|       717.0|           3071.0|137746| 0.2334744382937154|0.13720234106241344|0.30152347763927984|\n",
      "|    3|       653.0|           2764.0|138001| 0.2362518089725036|0.12348657463253362|0.42501005227181343|\n",
      "|    4|       576.0|           2554.0|137551| 0.2255285826155051|0.11410445427333243| 0.5391145065451459|\n",
      "|    5|       538.0|           2375.0|138162| 0.2265263157894737|0.10610731358620382| 0.6452218201313497|\n",
      "|    6|       430.0|           2163.0|137896|0.19879796578825706|0.09663583969977214| 0.7418576598311218|\n",
      "|    7|       373.0|           1928.0|137861|0.19346473029045644|0.08613680025018988| 0.8279944600813117|\n",
      "|    8|       313.0|           1608.0|138106|0.19465174129353233|0.07184023589331189| 0.8998346959746236|\n",
      "|    9|       225.0|           1271.0|137846|0.17702596380802518|0.05678416655497476| 0.9566188625295984|\n",
      "|   10|       231.0|            971.0|138103|0.23789907312049433|0.04338113747040164|                1.0|\n",
      "+-----+------------+-----------------+------+-------------------+-------------------+-------------------+\n",
      "\n",
      "None\n",
      "randForProb:\n",
      "+-----+------------+-----------------+------+-------------------+--------------------+-------------------+\n",
      "|ntile|retained_new|purchasepayoff_12| count|     retention_rate|          percentage|            cum_sum|\n",
      "+-----+------------+-----------------+------+-------------------+--------------------+-------------------+\n",
      "|    1|       983.0|           3932.0|137808|               0.25| 0.17566903453513827|0.17566903453513827|\n",
      "|    2|       717.0|           3374.0|137820|0.21250740960284528|  0.1507394004378323|0.32640843497297056|\n",
      "|    3|       630.0|           2906.0|137824|0.21679284239504473| 0.12983067506589824| 0.4562391100388688|\n",
      "|    4|       631.0|           2625.0|137784| 0.2403809523809524| 0.11727650449001474| 0.5735156145288836|\n",
      "|    5|       509.0|           2251.0|138062|0.22612172367836517|  0.1005673948979136| 0.6740830094267971|\n",
      "|    6|       395.0|           1946.0|137986|0.20298047276464543| 0.08694098199526426| 0.7610239914220613|\n",
      "|    7|       343.0|           1878.0|137847|0.18264110756123536|  0.0839029620694277|  0.844926953491489|\n",
      "|    8|       309.0|           1656.0|138019|0.18659420289855072| 0.07398472054684359| 0.9189116740383326|\n",
      "|    9|       241.0|           1218.0|137803|0.19786535303776684| 0.05441629808336684| 0.9733279721216995|\n",
      "|   10|       165.0|            597.0|138141|0.27638190954773867|0.026672027878300496|                1.0|\n",
      "+-----+------------+-----------------+------+-------------------+--------------------+-------------------+\n",
      "\n",
      "None\n",
      "gbtProb:\n",
      "+-----+------------+-----------------+------+-------------------+-------------------+-------------------+\n",
      "|ntile|retained_new|purchasepayoff_12| count|     retention_rate|         percentage|            cum_sum|\n",
      "+-----+------------+-----------------+------+-------------------+-------------------+-------------------+\n",
      "|    1|      1004.0|           4564.0|137711|0.21998247151621383| 0.2039047491399723| 0.2039047491399723|\n",
      "|    2|       799.0|           3508.0|137895|0.22776510832383123|0.15672608676227495|0.36063083590224726|\n",
      "|    3|       632.0|           2904.0|137943|0.21763085399449036|0.12974132153866774|  0.490372157440915|\n",
      "|    4|       577.0|           2618.0|137816| 0.2203972498090145|0.11696376714470803|  0.607335924585623|\n",
      "|    5|       476.0|           2302.0|137925|0.20677671589921806|0.10284590984229103|  0.710181834427914|\n",
      "|    6|       434.0|           1964.0|137826| 0.2209775967413442|0.08774516374033865| 0.7979269981682527|\n",
      "|    7|       360.0|           1724.0|137868| 0.2088167053364269|0.07702274047268017| 0.8749497386409328|\n",
      "|    8|       306.0|           1464.0|137879|0.20901639344262296|0.06540678193271679| 0.9403565205736496|\n",
      "|    9|       238.0|            966.0|138173| 0.2463768115942029|0.04315775365232542|  0.983514274225975|\n",
      "|   10|        97.0|            369.0|138058|0.26287262872628725|0.01648572577402493|                1.0|\n",
      "+-----+------------+-----------------+------+-------------------+-------------------+-------------------+\n",
      "\n",
      "None"
     ]
    }
   ],
   "source": [
    "%%spark\n",
    "\n",
    "#2017-03\n",
    "monthly_performance(\n",
    "    loanpurpose = 'purchase_12',\n",
    "    score_file = 'pred_Mover_6to12_V1_mar17_20190722.csv', \n",
    "    servicecalendardate = '2017-03-31', \n",
    "    df_actual = actual, \n",
    "    result_path = result_path_pur_12, \n",
    "    n = 10, \n",
    "    ls_prob = ['logRegProb', 'randForProb', 'gbtProb'],\n",
    "    nrow = 10\n",
    ")"
   ]
  },
  {
   "cell_type": "code",
   "execution_count": 23,
   "metadata": {
    "collapsed": true
   },
   "outputs": [
    {
     "name": "stdout",
     "output_type": "stream",
     "text": [
      "logRegProb:\n",
      "+-----+------------+-----------------+------+-------------------+-------------------+-------------------+\n",
      "|ntile|retained_new|purchasepayoff_12| count|     retention_rate|         percentage|            cum_sum|\n",
      "+-----+------------+-----------------+------+-------------------+-------------------+-------------------+\n",
      "|    1|      1182.0|           4943.0|142187| 0.2391260368197451|0.16667790666306986|0.16667790666306986|\n",
      "|    2|      1001.0|           4282.0|142306|0.23376926669780476|0.14438899379552197|0.31106690045859187|\n",
      "|    3|       865.0|           3741.0|142136|0.23122159850307406|0.12614647963312653| 0.4372133800917184|\n",
      "|    4|       779.0|           3389.0|142510| 0.2298613160224255| 0.1142770434313461| 0.5514904235230644|\n",
      "|    5|       683.0|           3074.0|142327|0.22218607677293428|0.10365524683032101| 0.6551456703533854|\n",
      "|    6|       639.0|           2897.0|142470| 0.2205730065585088| 0.0976868087402212| 0.7528324790936067|\n",
      "|    7|       504.0|           2494.0|142318| 0.2020850040096231|0.08409765308875101| 0.8369301321823577|\n",
      "|    8|       413.0|           2060.0|142384| 0.2004854368932039|0.06946317777178311| 0.9063933099541408|\n",
      "|    9|       308.0|           1593.0|142271| 0.1933458882611425| 0.0537159428108983| 0.9601092527650391|\n",
      "|   10|       284.0|           1183.0|142699| 0.2400676246830093|0.03989074723496089|                1.0|\n",
      "+-----+------------+-----------------+------+-------------------+-------------------+-------------------+\n",
      "\n",
      "None\n",
      "randForProb:\n",
      "+-----+------------+-----------------+------+-------------------+--------------------+-------------------+\n",
      "|ntile|retained_new|purchasepayoff_12| count|     retention_rate|          percentage|            cum_sum|\n",
      "+-----+------------+-----------------+------+-------------------+--------------------+-------------------+\n",
      "|    1|      1386.0|           5291.0|142069|0.26195426195426197| 0.17841246290801188|0.17841246290801188|\n",
      "|    2|       947.0|           4474.0|142409|0.21166741171211445| 0.15086323172376584| 0.3292756946317777|\n",
      "|    3|       924.0|           4056.0|142094|0.22781065088757396|  0.1367682762341516| 0.4660439708659293|\n",
      "|    4|       797.0|           3525.0|142696|0.22609929078014185| 0.11886296196385217| 0.5849069328297815|\n",
      "|    5|       679.0|           2899.0|142426|0.23421869610210416| 0.09775424871864041| 0.6826611815484219|\n",
      "|    6|       521.0|           2593.0|142280|0.20092556883918242| 0.08743593202050175| 0.7700971135689236|\n",
      "|    7|       482.0|           2456.0|142219| 0.1962540716612378| 0.08281629349878608| 0.8529134070677097|\n",
      "|    8|       395.0|           2061.0|142341|0.19165453663270257| 0.06949689776099272| 0.9224103048287025|\n",
      "|    9|       325.0|           1597.0|142500|0.20350657482780213|0.053850822767736714| 0.9762611275964391|\n",
      "|   10|       202.0|            704.0|142574| 0.2869318181818182| 0.02373887240356083|                1.0|\n",
      "+-----+------------+-----------------+------+-------------------+--------------------+-------------------+\n",
      "\n",
      "None\n",
      "gbtProb:\n",
      "+-----+------------+-----------------+------+-------------------+--------------------+------------------+\n",
      "|ntile|retained_new|purchasepayoff_12| count|     retention_rate|          percentage|           cum_sum|\n",
      "+-----+------------+-----------------+------+-------------------+--------------------+------------------+\n",
      "|    1|      1385.0|           6256.0|142162|0.22138746803069054|  0.2109522524952792|0.2109522524952792|\n",
      "|    2|      1171.0|           4731.0|142434| 0.2475163813147326| 0.15952926895063393|0.3704815214459131|\n",
      "|    3|       898.0|           3994.0|142330|0.22483725588382575| 0.13467763690315618|0.5051591583490693|\n",
      "|    4|       729.0|           3463.0|142332|0.21051111752815477| 0.11677232263285675|0.6219314809819261|\n",
      "|    5|       606.0|           2880.0|142196|0.21041666666666667| 0.09711356892365794| 0.719045049905584|\n",
      "|    6|       577.0|           2626.0|142446|0.21972581873571972| 0.08854869166441867|0.8075937415700027|\n",
      "|    7|       447.0|           2197.0|142225|0.20345926263086025| 0.07408281629349879|0.8816765578635015|\n",
      "|    8|       398.0|           1761.0|142628|0.22600795002839297|0.059380900998111684|0.9410574588616132|\n",
      "|    9|       311.0|           1260.0|142253|0.24682539682539684|0.042487186404100354|0.9835446452657135|\n",
      "|   10|       136.0|            488.0|142602| 0.2786885245901639|0.016455354734286484|               1.0|\n",
      "+-----+------------+-----------------+------+-------------------+--------------------+------------------+\n",
      "\n",
      "None"
     ]
    }
   ],
   "source": [
    "%%spark\n",
    "\n",
    "#2017-06\n",
    "monthly_performance(\n",
    "    loanpurpose = 'purchase_12',\n",
    "    score_file = 'pred_Mover_6to12_V1_jun17_20190722.csv', \n",
    "    servicecalendardate = '2017-06-30', \n",
    "    df_actual = actual, \n",
    "    result_path = result_path_pur_12, \n",
    "    n = 10, \n",
    "    ls_prob = ['logRegProb', 'randForProb', 'gbtProb'],\n",
    "    nrow = 10\n",
    ")"
   ]
  },
  {
   "cell_type": "code",
   "execution_count": 24,
   "metadata": {
    "collapsed": true
   },
   "outputs": [
    {
     "name": "stdout",
     "output_type": "stream",
     "text": [
      "logRegProb:\n",
      "+-----+------------+-----------------+------+-------------------+--------------------+-------------------+\n",
      "|ntile|retained_new|purchasepayoff_12| count|     retention_rate|          percentage|            cum_sum|\n",
      "+-----+------------+-----------------+------+-------------------+--------------------+-------------------+\n",
      "|    1|      1291.0|           5429.0|146552|0.23779701602505066| 0.15981748601707388|0.15981748601707388|\n",
      "|    2|      1184.0|           4705.0|146880| 0.2516471838469713| 0.13850456284957316|0.29832204886664704|\n",
      "|    3|      1061.0|           4308.0|146836|0.24628597957288764|  0.1268177803944657|0.42513982926111277|\n",
      "|    4|       920.0|           3854.0|146766| 0.2387130254281266| 0.11345304680600529|  0.538592876067118|\n",
      "|    5|       865.0|           3660.0|146992|0.23633879781420766| 0.10774212540476891| 0.6463350014718869|\n",
      "|    6|       720.0|           3286.0|146855|0.21911138161898966| 0.09673241095083898| 0.7430674124227259|\n",
      "|    7|       628.0|           2992.0|146817|0.20989304812834225|  0.0880777156314395| 0.8311451280541654|\n",
      "|    8|       498.0|           2439.0|146925|0.20418204182041821| 0.07179864586399765|  0.902943773918163|\n",
      "|    9|       383.0|           1917.0|146642|0.19979134063641105| 0.05643214601118634| 0.9593759199293495|\n",
      "|   10|       355.0|           1380.0|147176| 0.2572463768115942|0.040624080070650576|                1.0|\n",
      "+-----+------------+-----------------+------+-------------------+--------------------+-------------------+\n",
      "\n",
      "None\n",
      "randForProb:\n",
      "+-----+------------+-----------------+------+-------------------+--------------------+-------------------+\n",
      "|ntile|retained_new|purchasepayoff_12| count|     retention_rate|          percentage|            cum_sum|\n",
      "+-----+------------+-----------------+------+-------------------+--------------------+-------------------+\n",
      "|    1|      1487.0|           5766.0|146648|0.25789108567464447| 0.16973800412128348|0.16973800412128348|\n",
      "|    2|      1105.0|           4716.0|146648|0.23430873621713316|  0.1388283779805711|0.30856638210185455|\n",
      "|    3|      1118.0|           4870.0|147064| 0.2295687885010267| 0.14336178981454226|0.45192817191639684|\n",
      "|    4|       945.0|           4071.0|146683|0.23212969786293294|  0.1198410362084192|  0.571769208124816|\n",
      "|    5|       816.0|           3334.0|146998|  0.244751049790042| 0.09814542243155726| 0.6699146305563732|\n",
      "|    6|       707.0|           3028.0|146658| 0.2334874504623514| 0.08913747424197821| 0.7590521047983515|\n",
      "|    7|       603.0|           3008.0|146977| 0.2004654255319149|  0.0885487194583456| 0.8476008242566971|\n",
      "|    8|       473.0|           2434.0|146859| 0.1943303204601479| 0.07165145716808949| 0.9192522814247865|\n",
      "|    9|       398.0|           1861.0|146644| 0.2138635142396561|0.054783632617015014| 0.9740359140418016|\n",
      "|   10|       253.0|            882.0|147262| 0.2868480725623583| 0.02596408595819841|                1.0|\n",
      "+-----+------------+-----------------+------+-------------------+--------------------+-------------------+\n",
      "\n",
      "None\n",
      "gbtProb:\n",
      "+-----+------------+-----------------+------+-------------------+-------------------+-------------------+\n",
      "|ntile|retained_new|purchasepayoff_12| count|     retention_rate|         percentage|            cum_sum|\n",
      "+-----+------------+-----------------+------+-------------------+-------------------+-------------------+\n",
      "|    1|      1591.0|           7041.0|146739|  0.225962221275387|0.20727112157786282|0.20727112157786282|\n",
      "|    2|      1356.0|           5459.0|146660|0.24839714233376076|0.16070061819252282| 0.3679717397703856|\n",
      "|    3|      1046.0|           4546.0|146883| 0.2300923889133304|0.13382396231969385| 0.5017957020900795|\n",
      "|    4|       930.0|           3968.0|146913|           0.234375|0.11680894907271122| 0.6186046511627907|\n",
      "|    5|       728.0|           3337.0|146965|0.21816002397362902|0.09823373564910215| 0.7168383868118928|\n",
      "|    6|       674.0|           2949.0|146875| 0.2285520515428959|0.08681189284662938| 0.8036502796585222|\n",
      "|    7|       589.0|           2553.0|146326|0.23070896983940462|0.07515454813070356| 0.8788048277892258|\n",
      "|    8|       463.0|           2046.0|147192| 0.2262952101661779|0.06022961436561672| 0.9390344421548426|\n",
      "|    9|       349.0|           1471.0|146666|0.23725356900067981|0.04330291433617898| 0.9823373564910215|\n",
      "|   10|       179.0|            600.0|147222|0.29833333333333334|0.01766264350897851|                1.0|\n",
      "+-----+------------+-----------------+------+-------------------+-------------------+-------------------+\n",
      "\n",
      "None"
     ]
    }
   ],
   "source": [
    "%%spark\n",
    "\n",
    "#2017-09\n",
    "monthly_performance(\n",
    "    loanpurpose = 'purchase_12',\n",
    "    score_file = 'pred_Mover_6to12_V1_sep17_20190722.csv', \n",
    "    servicecalendardate = '2017-09-30', \n",
    "    df_actual = actual, \n",
    "    result_path = result_path_pur_12, \n",
    "    n = 10, \n",
    "    ls_prob = ['logRegProb', 'randForProb', 'gbtProb'],\n",
    "    nrow = 10\n",
    ")"
   ]
  },
  {
   "cell_type": "code",
   "execution_count": 25,
   "metadata": {
    "collapsed": true
   },
   "outputs": [
    {
     "name": "stdout",
     "output_type": "stream",
     "text": [
      "logRegProb:\n",
      "+-----+------------+-----------------+------+-------------------+-------------------+-------------------+\n",
      "|ntile|retained_new|purchasepayoff_12| count|     retention_rate|         percentage|            cum_sum|\n",
      "+-----+------------+-----------------+------+-------------------+-------------------+-------------------+\n",
      "|    1|      1157.0|           4326.0|152617| 0.2674526121128063| 0.1580447172292854| 0.1580447172292854|\n",
      "|    2|       913.0|           3652.0|153093|               0.25| 0.1334210141750694|0.29146573140435483|\n",
      "|    3|       835.0|           3269.0|152891| 0.2554297950443561|0.11942861318135321|  0.410894344585708|\n",
      "|    4|       773.0|           3151.0|153100|0.24531894636623294|0.11511763846266257| 0.5260119830483706|\n",
      "|    5|       669.0|           2995.0|153136|0.22337228714524207|0.10941838374981733|  0.635430366798188|\n",
      "|    6|       548.0|           2658.0|152929|0.20617005267118135|0.09710653222270933| 0.7325368990208972|\n",
      "|    7|       494.0|           2422.0|153042|0.20396366639141206|0.08848458278532807| 0.8210214818062254|\n",
      "|    8|       359.0|           1981.0|152801| 0.1812216052498738|0.07237322811632325| 0.8933947099225485|\n",
      "|    9|       354.0|           1700.0|153139|0.20823529411764705|0.06210726289639047| 0.9555019728189391|\n",
      "|   10|       298.0|           1218.0|153256|0.24466338259441708|0.04449802718106094|                1.0|\n",
      "+-----+------------+-----------------+------+-------------------+-------------------+-------------------+\n",
      "\n",
      "None\n",
      "randForProb:\n",
      "+-----+------------+-----------------+------+-------------------+--------------------+-------------------+\n",
      "|ntile|retained_new|purchasepayoff_12| count|     retention_rate|          percentage|            cum_sum|\n",
      "+-----+------------+-----------------+------+-------------------+--------------------+-------------------+\n",
      "|    1|      1253.0|           4533.0|152911|0.27641738363114937| 0.16560718982902237|0.16560718982902237|\n",
      "|    2|       915.0|           4005.0|152694|0.22846441947565543| 0.14631740464708462|  0.311924594476107|\n",
      "|    3|       879.0|           3639.0|153008|0.24154987633965375| 0.13294607628233232| 0.4448706707584393|\n",
      "|    4|       732.0|           3150.0|153224|0.23238095238095238| 0.11508110477860588| 0.5599517755370451|\n",
      "|    5|       669.0|           2666.0|152977| 0.2509377344336084| 0.09739880169516293| 0.6573505772322081|\n",
      "|    6|       535.0|           2522.0|153036|0.21213322759714512|  0.0921379511909981| 0.7494885284232062|\n",
      "|    7|       477.0|           2410.0|152980| 0.1979253112033195| 0.08804617857664766| 0.8375347069998539|\n",
      "|    8|       389.0|           2005.0|152843|0.19401496259351622| 0.07325003653368406| 0.9107847435335379|\n",
      "|    9|       313.0|           1600.0|153231|           0.195625| 0.05845389449072044| 0.9692386380242584|\n",
      "|   10|       238.0|            842.0|153100| 0.2826603325415677|0.030761361975741634|                1.0|\n",
      "+-----+------------+-----------------+------+-------------------+--------------------+-------------------+\n",
      "\n",
      "None\n",
      "gbtProb:\n",
      "+-----+------------+-----------------+------+-------------------+--------------------+-------------------+\n",
      "|ntile|retained_new|purchasepayoff_12| count|     retention_rate|          percentage|            cum_sum|\n",
      "+-----+------------+-----------------+------+-------------------+--------------------+-------------------+\n",
      "|    1|      1329.0|           5483.0|152886|0.24238555535290898|  0.2003141896828876| 0.2003141896828876|\n",
      "|    2|      1034.0|           4189.0|152967|0.24683695392695154| 0.15303960251351748|0.35335379219640506|\n",
      "|    3|       819.0|           3608.0|153128|0.22699556541019955|  0.1318135320765746| 0.4851673242729797|\n",
      "|    4|       726.0|           3214.0|152796|0.22588674548848786| 0.11741926055823469| 0.6025865848312144|\n",
      "|    5|       628.0|           2779.0|152781|0.22598056854983808| 0.10152710799357006| 0.7041136928247844|\n",
      "|    6|       532.0|           2404.0|153147|0.22129783693843594| 0.08782697647230747|  0.791940669297092|\n",
      "|    7|       474.0|           2105.0|153172|0.22517814726840854| 0.07690340493935409|  0.868844074236446|\n",
      "|    8|       390.0|           1727.0|152817|  0.225825130283729| 0.06309367236592138| 0.9319377466023674|\n",
      "|    9|       294.0|           1306.0|153109|  0.225114854517611| 0.04771299137805056| 0.9796507379804179|\n",
      "|   10|       174.0|            557.0|153201| 0.3123877917414722|0.020349262019582055|                1.0|\n",
      "+-----+------------+-----------------+------+-------------------+--------------------+-------------------+\n",
      "\n",
      "None"
     ]
    }
   ],
   "source": [
    "%%spark\n",
    "\n",
    "#2017-12\n",
    "monthly_performance(\n",
    "    loanpurpose = 'purchase_12',\n",
    "    score_file = 'pred_Mover_6to12_V1_dec17_20190722.csv', \n",
    "    servicecalendardate = '2017-12-31', \n",
    "    df_actual = actual, \n",
    "    result_path = result_path_pur_12, \n",
    "    n = 10, \n",
    "    ls_prob = ['logRegProb', 'randForProb', 'gbtProb'],\n",
    "    nrow = 10\n",
    ")"
   ]
  },
  {
   "cell_type": "code",
   "execution_count": 22,
   "metadata": {
    "collapsed": true
   },
   "outputs": [
    {
     "name": "stdout",
     "output_type": "stream",
     "text": [
      "gbtProb:\n",
      "+-----+------------+-----------------+------+-------------------+--------------------+-------------------+\n",
      "|ntile|retained_new|purchasepayoff_12| count|     retention_rate|          percentage|            cum_sum|\n",
      "+-----+------------+-----------------+------+-------------------+--------------------+-------------------+\n",
      "|    1|      1173.0|           4764.0|154468|0.24622166246851385|  0.1952939247355907| 0.1952939247355907|\n",
      "|    2|       880.0|           3626.0|154462|0.24269167126309985| 0.14864310896121996|0.34393703369681067|\n",
      "|    3|       757.0|           3303.0|154775|0.22918558885861337| 0.13540214806919734|0.47933918176600804|\n",
      "|    4|       619.0|           2774.0|154565|0.22314347512617158| 0.11371648766090021| 0.5930556694269082|\n",
      "|    5|       543.0|           2466.0|154608|0.22019464720194648| 0.10109043207346069| 0.6941461015003689|\n",
      "|    6|       469.0|           2183.0|154474|0.21484196060467248|  0.0894892186603263| 0.7836353201606953|\n",
      "|    7|       414.0|           1928.0|154795|0.21473029045643152| 0.07903582848241371|  0.862671148643109|\n",
      "|    8|       372.0|           1579.0|154514|0.23559214692843572| 0.06472903172911372| 0.9274001803722227|\n",
      "|    9|       278.0|           1254.0|154436|0.22169059011164274| 0.05140608346314667| 0.9788062638353694|\n",
      "|   10|       167.0|            517.0|154999| 0.3230174081237911|0.021193736164630647|                1.0|\n",
      "+-----+------------+-----------------+------+-------------------+--------------------+-------------------+\n",
      "\n",
      "None"
     ]
    }
   ],
   "source": [
    "%%spark\n",
    "\n",
    "#2018-01\n",
    "monthly_performance(\n",
    "    loanpurpose = 'purchase_12',\n",
    "    score_file = 'pred_Mover_6to12_V1_jan18_20190722.csv', \n",
    "    servicecalendardate = '2018-01-31', \n",
    "    df_actual = actual, \n",
    "    result_path = result_path_pur_12, \n",
    "    n = 10, \n",
    "    ls_prob = ['gbtProb'],\n",
    "    nrow = 10\n",
    ")"
   ]
  },
  {
   "cell_type": "code",
   "execution_count": 23,
   "metadata": {
    "collapsed": true
   },
   "outputs": [
    {
     "name": "stdout",
     "output_type": "stream",
     "text": [
      "gbtProb:\n",
      "+-----+------------+-----------------+------+-------------------+--------------------+-------------------+\n",
      "|ntile|retained_new|purchasepayoff_12| count|     retention_rate|          percentage|            cum_sum|\n",
      "+-----+------------+-----------------+------+-------------------+--------------------+-------------------+\n",
      "|    1|      1066.0|           4509.0|155454|0.23641605677533822| 0.18757019842755523|0.18757019842755523|\n",
      "|    2|       833.0|           3587.0|156103|0.23222748815165878| 0.14921585756479055| 0.3367860559923458|\n",
      "|    3|       756.0|           3215.0|155845|0.23514774494556764|  0.1337410042015059|0.47052706019385165|\n",
      "|    4|       608.0|           2732.0|155949| 0.2225475841874085| 0.11364865427014435|  0.584175714463996|\n",
      "|    5|       516.0|           2410.0|155912|0.21410788381742737| 0.10025375431590332| 0.6844294687798993|\n",
      "|    6|       476.0|           2230.0|155936|0.21345291479820627| 0.09276592204334623| 0.7771953908232455|\n",
      "|    7|       401.0|           1893.0|155825|0.21183306920232436|  0.0787470360663921| 0.8559424268896376|\n",
      "|    8|       348.0|           1581.0|155725|0.22011385199240988| 0.06576812679395981| 0.9217105536835974|\n",
      "|    9|       281.0|           1248.0|155960|0.22516025641025642| 0.05191563708972919| 0.9736261907733267|\n",
      "|   10|       178.0|            634.0|156154| 0.2807570977917981|0.026373809226673324|                1.0|\n",
      "+-----+------------+-----------------+------+-------------------+--------------------+-------------------+\n",
      "\n",
      "None"
     ]
    }
   ],
   "source": [
    "%%spark\n",
    "\n",
    "#2018-02\n",
    "monthly_performance(\n",
    "    loanpurpose = 'purchase_12',\n",
    "    score_file = 'pred_Mover_6to12_V1_feb18_20190722.csv', \n",
    "    servicecalendardate = '2018-02-28', \n",
    "    df_actual = actual, \n",
    "    result_path = result_path_pur_12, \n",
    "    n = 10, \n",
    "    ls_prob = ['gbtProb'],\n",
    "    nrow = 10\n",
    ")"
   ]
  },
  {
   "cell_type": "code",
   "execution_count": 26,
   "metadata": {
    "collapsed": true
   },
   "outputs": [
    {
     "name": "stdout",
     "output_type": "stream",
     "text": [
      "logRegProb:\n",
      "+-----+------------+-----------------+------+-------------------+--------------------+-------------------+\n",
      "|ntile|retained_new|purchasepayoff_12| count|     retention_rate|          percentage|            cum_sum|\n",
      "+-----+------------+-----------------+------+-------------------+--------------------+-------------------+\n",
      "|    1|       934.0|           3844.0|157584|0.24297606659729448| 0.15994673989930513|0.15994673989930513|\n",
      "|    2|       791.0|           3255.0|157660|0.24301075268817204| 0.13543877168892773|0.29538551158823284|\n",
      "|    3|       744.0|           2920.0|157797| 0.2547945205479452| 0.12149960471019015|  0.416885116298423|\n",
      "|    4|       659.0|           2825.0|157785|0.23327433628318583| 0.11754670661174219| 0.5344318229101652|\n",
      "|    5|       554.0|           2588.0|157912|0.21406491499227204| 0.10768526609245621| 0.6421170890026214|\n",
      "|    6|       421.0|           2314.0|157764|0.18193604148660328|  0.0962842757874589| 0.7384013647900803|\n",
      "|    7|       348.0|           1973.0|157647|0.17638114546376077| 0.08209545208671411| 0.8204968168767944|\n",
      "|    8|       285.0|           1744.0|157732|0.16341743119266056| 0.07256688719677111| 0.8930637040735655|\n",
      "|    9|       280.0|           1465.0|157944|0.19112627986348124|0.060957849623434444| 0.9540215536969999|\n",
      "|   10|       255.0|           1105.0|157954|0.23076923076923078| 0.04597844630300004|                1.0|\n",
      "+-----+------------+-----------------+------+-------------------+--------------------+-------------------+\n",
      "\n",
      "None\n",
      "randForProb:\n",
      "+-----+------------+-----------------+------+-------------------+--------------------+-------------------+\n",
      "|ntile|retained_new|purchasepayoff_12| count|     retention_rate|          percentage|            cum_sum|\n",
      "+-----+------------+-----------------+------+-------------------+--------------------+-------------------+\n",
      "|    1|      1045.0|           4000.0|157560|            0.26125| 0.16643781467149335|0.16643781467149335|\n",
      "|    2|       808.0|           3472.0|157761|0.23271889400921658| 0.14446802313485624| 0.3109058378063496|\n",
      "|    3|       725.0|           3303.0|157814|0.21949742658189525| 0.13743602546498565|0.44834186327133524|\n",
      "|    4|       584.0|           2733.0|157826|0.21368459568240028| 0.11371863687429784| 0.5620605001456331|\n",
      "|    5|       558.0|           2349.0|157390|0.23754789272030652| 0.09774060666583448| 0.6598011068114675|\n",
      "|    6|       442.0|           2196.0|157960|0.20127504553734063| 0.09137436025464986| 0.7511754670661174|\n",
      "|    7|       347.0|           2047.0|157874| 0.1695163654127992| 0.08517455165813673| 0.8363500187242542|\n",
      "|    8|       333.0|           1763.0|157765| 0.1888825865002836|  0.0733574668164607| 0.9097074855407149|\n",
      "|    9|       223.0|           1401.0|157792|0.15917201998572447| 0.05829484458869055| 0.9680023301294054|\n",
      "|   10|       206.0|            769.0|158037|0.26788036410923277|0.031997669870594596|                1.0|\n",
      "+-----+------------+-----------------+------+-------------------+--------------------+-------------------+\n",
      "\n",
      "None\n",
      "gbtProb:\n",
      "+-----+------------+-----------------+------+-------------------+--------------------+-------------------+\n",
      "|ntile|retained_new|purchasepayoff_12| count|     retention_rate|          percentage|            cum_sum|\n",
      "+-----+------------+-----------------+------+-------------------+--------------------+-------------------+\n",
      "|    1|      1053.0|           4534.0|157630|0.23224525805028673| 0.18865726293013774|0.18865726293013774|\n",
      "|    2|       795.0|           3656.0|157613| 0.2174507658643326| 0.15212416260974493|0.34078142553988267|\n",
      "|    3|       734.0|           3145.0|157880|0.23338632750397456| 0.13086173178546165|0.47164315732534434|\n",
      "|    4|       617.0|           2737.0|157689|0.22542930215564486| 0.11388507468896933| 0.5855282320143137|\n",
      "|    5|       481.0|           2386.0|157850|0.20159262363788769|  0.0992801564515458| 0.6848083884658595|\n",
      "|    6|       422.0|           2139.0|157875| 0.1972884525479196| 0.08900262139558107| 0.7738110098614405|\n",
      "|    7|       393.0|           1860.0|157731|0.21129032258064517| 0.07739358382224441|  0.851204593683685|\n",
      "|    8|       322.0|           1611.0|157694|0.19987585350713843| 0.06703282985894395| 0.9182374235426289|\n",
      "|    9|       275.0|           1329.0|157851|0.20692249811888638| 0.05529896392460367| 0.9735363874672326|\n",
      "|   10|       179.0|            636.0|157966|0.28144654088050314|0.026463612532767446|                1.0|\n",
      "+-----+------------+-----------------+------+-------------------+--------------------+-------------------+\n",
      "\n",
      "None"
     ]
    }
   ],
   "source": [
    "%%spark\n",
    "\n",
    "#2018-03\n",
    "monthly_performance(\n",
    "    loanpurpose = 'purchase_12',\n",
    "    score_file = 'pred_Mover_6to12_V1_mar18_20190722.csv', \n",
    "    servicecalendardate = '2018-03-31', \n",
    "    df_actual = actual, \n",
    "    result_path = result_path_pur_12, \n",
    "    n = 10, \n",
    "    ls_prob = ['logRegProb', 'randForProb', 'gbtProb'],\n",
    "    nrow = 10\n",
    ")"
   ]
  },
  {
   "cell_type": "code",
   "execution_count": 24,
   "metadata": {
    "collapsed": true
   },
   "outputs": [
    {
     "name": "stdout",
     "output_type": "stream",
     "text": [
      "gbtProb:\n",
      "+-----+------------+-----------------+------+-------------------+-------------------+-------------------+\n",
      "|ntile|retained_new|purchasepayoff_12| count|     retention_rate|         percentage|            cum_sum|\n",
      "+-----+------------+-----------------+------+-------------------+-------------------+-------------------+\n",
      "|    1|      1088.0|           4861.0|158949|0.22382225879448672|0.18953483838265683|0.18953483838265683|\n",
      "|    2|       853.0|           3861.0|159209|0.22092722092722092|0.15054392326587904| 0.3400787616485359|\n",
      "|    3|       728.0|           3293.0|158980|0.22107500759186152|0.12839708347954926|0.46847584512808516|\n",
      "|    4|       700.0|           3036.0|159396|  0.230566534914361|0.11837641829453738| 0.5868522634226225|\n",
      "|    5|       532.0|           2554.0|159236|0.20830070477682067|0.09958279720825047|  0.686435060630873|\n",
      "|    6|       467.0|           2285.0|158952|0.20437636761487965|0.08909424104183725| 0.7755293016727103|\n",
      "|    7|       417.0|           1963.0|159598|0.21242995415180846| 0.0765391663742348|  0.852068468046945|\n",
      "|    8|       353.0|           1724.0|159040|0.20475638051044084|0.06722033766132492|   0.91928880570827|\n",
      "|    9|       290.0|           1391.0|159364|0.20848310567936737|0.05423636292743791| 0.9735251686357079|\n",
      "|   10|       168.0|            679.0|159352|0.24742268041237114|0.02647483136429212|                1.0|\n",
      "+-----+------------+-----------------+------+-------------------+-------------------+-------------------+\n",
      "\n",
      "None"
     ]
    }
   ],
   "source": [
    "%%spark\n",
    "\n",
    "#2018-04\n",
    "monthly_performance(\n",
    "    loanpurpose = 'purchase_12',\n",
    "    score_file = 'pred_Mover_6to12_V1_apr18_20190722.csv', \n",
    "    servicecalendardate = '2018-04-30', \n",
    "    df_actual = actual, \n",
    "    result_path = result_path_pur_12, \n",
    "    n = 10, \n",
    "    ls_prob = ['gbtProb'],\n",
    "    nrow = 10\n",
    ")"
   ]
  },
  {
   "cell_type": "code",
   "execution_count": 25,
   "metadata": {
    "collapsed": true
   },
   "outputs": [
    {
     "name": "stdout",
     "output_type": "stream",
     "text": [
      "gbtProb:\n",
      "+-----+------------+-----------------+------+-------------------+-------------------+-------------------+\n",
      "|ntile|retained_new|purchasepayoff_12| count|     retention_rate|         percentage|            cum_sum|\n",
      "+-----+------------+-----------------+------+-------------------+-------------------+-------------------+\n",
      "|    1|      1182.0|           5167.0|160430|0.22875943487516934|0.19432117337344867|0.19432117337344867|\n",
      "|    2|       937.0|           4098.0|160203|0.22864812103465104|0.15411808950733358|0.34843926288078225|\n",
      "|    3|       798.0|           3490.0|160707|0.22865329512893984|0.13125235050770967| 0.4796916133884919|\n",
      "|    4|       695.0|           3003.0|160625|0.23143523143523143|0.11293719443399775| 0.5926288078224896|\n",
      "|    5|       545.0|           2614.0|160472|0.20849273144605968|0.09830763444904099| 0.6909364422715306|\n",
      "|    6|       474.0|           2330.0|160644| 0.2034334763948498|0.08762692741632193| 0.7785633696878526|\n",
      "|    7|       432.0|           1967.0|160359|0.21962379257752923|0.07397517863858594| 0.8525385483264385|\n",
      "|    8|       384.0|           1784.0|160506|0.21524663677130046|0.06709289206468597| 0.9196314403911244|\n",
      "|    9|       310.0|           1444.0|160740| 0.2146814404432133|0.05430613012410681| 0.9739375705152313|\n",
      "|   10|       168.0|            693.0|160725|0.24242424242424243|0.02606242948476871|                1.0|\n",
      "+-----+------------+-----------------+------+-------------------+-------------------+-------------------+\n",
      "\n",
      "None"
     ]
    }
   ],
   "source": [
    "%%spark\n",
    "\n",
    "#2018-05\n",
    "monthly_performance(\n",
    "    loanpurpose = 'purchase_12',\n",
    "    score_file = 'pred_Mover_6to12_V1_may18_20190722.csv', \n",
    "    servicecalendardate = '2018-05-31', \n",
    "    df_actual = actual, \n",
    "    result_path = result_path_pur_12, \n",
    "    n = 10, \n",
    "    ls_prob = ['gbtProb'],\n",
    "    nrow = 10\n",
    ")"
   ]
  },
  {
   "cell_type": "code",
   "execution_count": null,
   "metadata": {
    "collapsed": true
   },
   "outputs": [],
   "source": []
  }
 ],
 "metadata": {
  "kernelspec": {
   "display_name": "Python 3",
   "language": "python",
   "name": "python3"
  },
  "language_info": {
   "codemirror_mode": {
    "name": "ipython",
    "version": 3
   },
   "file_extension": ".py",
   "mimetype": "text/x-python",
   "name": "python",
   "nbconvert_exporter": "python",
   "pygments_lexer": "ipython3",
   "version": "3.6.5"
  }
 },
 "nbformat": 4,
 "nbformat_minor": 2
}
