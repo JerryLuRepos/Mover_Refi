{
 "cells": [
  {
   "cell_type": "code",
   "execution_count": null,
   "metadata": {
    "collapsed": true,
    "deletable": true,
    "editable": true
   },
   "outputs": [],
   "source": [
    "%load_ext sparkmagic.magics\n",
    "\n",
    "from dsx_core_utils import proxy_util,dsxhi_util\n",
    "proxy_util.configure_proxy_livy()\n",
    "dsxhi_util.list_livy_endpoints()"
   ]
  },
  {
   "cell_type": "code",
   "execution_count": null,
   "metadata": {
    "collapsed": true
   },
   "outputs": [],
   "source": [
    "%%spark config\n",
    "{\"executorCores\": 4, \"numExecutors\": 5, \"executorMemory\": \"10g\", \n",
    " \"driverMemory\": \"3g\", \"proxyUser\": \"jchen-\", \"driverCores\": 1, \n",
    " \"conf\": {\"spark.yarn.appMasterEnv.THEANO_FLAGS\": \"base_compiledir=${PWD}/.theano\"}}"
   ]
  },
  {
   "cell_type": "code",
   "execution_count": null,
   "metadata": {
    "collapsed": true
   },
   "outputs": [],
   "source": [
    "%spark add -s movermodel -k -l python -u https://qlawsbidlhe02a.ad.datalake.foc.zone:8445/gateway/dsx/livy2/v1"
   ]
  },
  {
   "cell_type": "code",
   "execution_count": null,
   "metadata": {
    "collapsed": true
   },
   "outputs": [],
   "source": [
    "%%spark\n",
    "\n",
    "print(spark.version)"
   ]
  },
  {
   "cell_type": "code",
   "execution_count": null,
   "metadata": {
    "collapsed": true
   },
   "outputs": [],
   "source": [
    "%%spark\n",
    "\n",
    "import pyspark\n",
    "import os, sys\n",
    "\n",
    "from pyspark.sql import SparkSession\n",
    "import pyspark.sql.functions as F\n",
    "from pyspark.sql.functions import col, when, lit\n",
    "\n",
    "from os.path import expanduser, join, abspath\n",
    "import time\n",
    "import pandas as pd\n",
    "\n",
    "from pyspark.sql.functions import current_date\n",
    "from pyspark.sql import Window\n",
    "\n",
    "spark = SparkSession.builder.getOrCreate()"
   ]
  },
  {
   "cell_type": "code",
   "execution_count": null,
   "metadata": {
    "collapsed": true
   },
   "outputs": [],
   "source": [
    "%%spark\n",
    "\n",
    "csv_path = '/dev/projects/retention_models/csv_data/'\n",
    "monthly_path = '/dev/projects/retention_models/monthly_snapshot/'\n",
    "\n",
    "temp_path = '/dev/projects/aliu_projects/Mover_DL_Temp/'"
   ]
  },
  {
   "cell_type": "markdown",
   "metadata": {},
   "source": [
    "# Servicing"
   ]
  },
  {
   "cell_type": "code",
   "execution_count": null,
   "metadata": {
    "collapsed": true
   },
   "outputs": [],
   "source": [
    "%%spark\n",
    "\n",
    "## Pull servicing book\n",
    "\n",
    "def servicing(snapshot_dt):\n",
    "    \n",
    "    spark.sql('use purchaseretention_servicing_raw_access')\n",
    "\n",
    "# SRC.ServicingMSP.DLQFILE_master = servicingmsp_dlqfile_master_vw\n",
    "# SRC.ServicingMSP.USRFILE_master ?\n",
    "# SRCServicing.GoldenSource.CoreMetrics = srcservicing_goldensource_coremetrics\n",
    "\n",
    "    df = spark.sql('''  \n",
    "    SELECT\n",
    "        last_Day(add_months(current_date(), -1)) as ServiceCalendarDate,\n",
    "        GS.LN_NO,\n",
    "        GS.leftportfoliodate,\n",
    "        GS.leftportfolioreason,\n",
    "        GS.investornameshort,\n",
    "        GS.loanphase,\n",
    "        COALESCE(Orig.OG_NOTE_DT, Orig.OG_CLOSING_DT) as OR_NOTE_DT, \n",
    "        LON.begin_effective_date,\n",
    "        LON.end_effective_date,\n",
    "        CASE\n",
    "            WHEN LON.LN_LO_TY IN ('1', '5') THEN 'FHA'\n",
    "            WHEN LON.LN_LO_TY ='2'          THEN 'VA'\n",
    "            WHEN LON.LN_LO_TY ='9'          THEN 'USDA'\n",
    "            WHEN LON.LN_LO_TY ='3'          THEN 'Conventional w/o PMI'\n",
    "            WHEN LON.LN_LO_TY ='6'          THEN 'Conventional with PMI'\n",
    "            WHEN LON.LN_LO_TY ='4'          THEN 'Commercial'\n",
    "            ELSE 'Unknown' END as Loantypedescription,\n",
    "        LON.LN_1ST_PRIN_BA + (case when PGB.PG_2ND_PRIN_BA is null then 0 else PGB.PG_2ND_PRIN_BA end) as UnpaidBalFirstSecond,\n",
    "        CASE WHEN LON.LN_ARM_CD = 'Y' THEN 'ARM'\n",
    "             WHEN LON.LN_ARM_CD = 'N' then 'Fixed' END as LoanAmortizationType,\n",
    "        ORIG.OG_MTG_AM,\n",
    "        ORIG.LN_PURPOSE_CD,\n",
    "        CASE orig.LN_PURPOSE_CD\n",
    "                when '1' then 'PURCHASE'\n",
    "                when '2' then 'NOT USED'\n",
    "                when '3' then 'CONSTRUCTION/PERMANENT'\n",
    "                when '4' then 'CONSTRUCTION'\n",
    "                when '5' then 'REFINANCE/PROPERTY IMPROVEMENT'\n",
    "                when '6' then 'REFINANCE/EQUITY TAKEOUT'\n",
    "                when '7' then 'REHABILITATION/REMODEL'\n",
    "                when '8' then 'REFINANCE/NO CASH OUT'\n",
    "                when '9' then 'OTHER'\n",
    "                when 'A' then 'HOME IMPROVEMENT'\n",
    "                when 'B' then 'EDUCATION'\n",
    "                when 'C' then 'PERSONAL AUTOMOBILE'\n",
    "                when 'D' then 'MOBILE HOME'\n",
    "                when 'E' then 'CREDIT CARD'\n",
    "                when 'F' then 'RECREATIONAL VEHICLE'\n",
    "                when 'G' then 'OVERDRAFT PROTECTION'\n",
    "                when 'H' then 'REVOLVING CREDIT'\n",
    "            End loan_purpose_typeWebBehaviour,\n",
    "        CASE WHEN Orig.LN_PURPOSE_CD=8 THEN 'Refinance' WHEN Orig.LN_PURPOSE_CD=6 THEN 'Cashout Refi'\n",
    "             WHEN Orig.LN_PURPOSE_CD=1 THEN 'Purchase' ELSE 'other' END as Ln_Purpose_Type,\n",
    "        ORIG.OG_OCCUPY_STAT_CD,\n",
    "        CASE WHEN Orig.OG_OCCUPY_STAT_CD =1 THEN 'Primary Residence'\n",
    "             WHEN Orig.OG_OCCUPY_STAT_CD =3 THEN 'Investment Property'\n",
    "             WHEN Orig.OG_OCCUPY_STAT_CD =2 THEN 'Second Home'\n",
    "             ELSE 'other' END ORIG_OCCUPY_STAT_TYPE,\n",
    "        LON.LN_ANN_INT_RT,\n",
    "        LON.LN_TR,\n",
    "        LON.LN_MONTHLY_PMT_AM,\n",
    "        LON.LN_ELOC_CD,\n",
    "        CASE WHEN cast(LON.LN_CRE_QUL_ORIG_CD as double) is not null THEN LON.LN_CRE_QUL_ORIG_CD \n",
    "             ELSE LON.LN_CRE_QUL_ORIG_CD END as ORIG_FICO,\n",
    "        LON.ORIG_LTV_RATIO_FC,\n",
    "        PTY.PR_VALUE_AM,\n",
    "                  --PTY.PR_ZIP_CD,\n",
    "                  --PTY.PR_FIPS_STATE_CD,\n",
    "                  --PTY.PR_CITY_2_NM,\n",
    "                  --PTY.PR_FIPS_CNTY_CD,\n",
    "                  --PTY.PR_ALPHA_STATE_CD,\n",
    "                  --CASE WHEN LENGTH(PTY.PR_FIPS_STATE_CD) > 1 AND LENGTH(PTY.PR_FIPS_CNTY_CD) >1 THEN CONCAT(PTY.PR_FIPS_STATE_CD,PTY.PR_FIPS_CNTY_CD) ELSE  NULL END as FIPS,\n",
    "        CASE WHEN ((LON.IV_Id LIKE 'G%'  OR LON.IV_ID LIKE '3G%'))  THEN 'GNMA'\n",
    "             WHEN  (LON.IV_Id LIKE 'F%'  OR LON.IV_ID IN ('301'))   THEN 'FNMA'\n",
    "             WHEN  (LON.IV_Id LIKE 'H%'  OR LON.IV_ID like '3H%' )  THEN 'FHLMC'\n",
    "             WHEN  (LON.IV_Id LIKE '360' OR LON.IV_ID IN ('302' ))  THEN 'Schwab'\n",
    "             WHEN  LON.IV_Id LIKE '18%'                             THEN 'Quicken - Claims'\n",
    "             WHEN  LON.IV_Id LIKE '0%'                              THEN 'Quicken Warehouse'\n",
    "             WHEN  (LON.IV_Id LIKE 'R%' OR LON.IV_Id IN ('150'))    THEN 'Quicken'\n",
    "             ELSE 'Private Investor'  END as InvestorNameShort_lon ,\n",
    "        CASE WHEN BOR.BO_NO_OF_BORR_QT > 1 THEN 0 ELSE 1 END as IsSingleBorrower,\n",
    "        DLQ.co_pay_history,\n",
    "        DLQ.times_delq_qt\n",
    "    FROM \n",
    "     from servicing_raw_access.goldensource_coremetrics_vw GS\n",
    "     -- from servicing_src_ods.goldensource_coremetrics GS\n",
    "    LEFT JOIN \n",
    "    (\n",
    "        SELECT * FROM purchaseretention_servicing_raw_access.servicingmsp_lonfile_master_vw \n",
    "        WHERE DELTA_FILE_BYTE <>'D' AND '{0}' BETWEEN to_date(begin_effective_date) AND to_date(end_effective_date)\n",
    "    ) as LON\n",
    "    ON GS.ln_no = LON.ln_no and length(LON.ln_no) > 0\n",
    "    LEFT JOIN \n",
    "    (\n",
    "        SELECT * FROM purchaseretention_servicing_raw_access.servicingmsp_orlfile_master_vw \n",
    "        WHERE DELTA_FILE_BYTE <>'D' AND '{0}' BETWEEN to_date(begin_effective_date) AND to_date(end_effective_date)\n",
    "    ) as ORIG \n",
    "    ON GS.ln_no = ORIG.ln_no and length(ORIG.ln_no) > 0\n",
    "    -- ON LON.ln_no = ORIG.ln_no and length(ORIG.ln_no) > 0\n",
    "    LEFT JOIN \n",
    "    (\n",
    "        SELECT * FROM purchaseretention_servicing_raw_access.servicingmsp_ptyfile_master_vw \n",
    "        WHERE DELTA_FILE_BYTE <>'D' AND '{0}' BETWEEN to_date(begin_effective_date) AND to_date(end_effective_date)\n",
    "    ) as PTY \n",
    "    ON PTY.ln_no = GS.ln_no and length(PTY.ln_no) > 0\n",
    "    -- ON PTY.ln_no = LON.ln_no and length(PTY.ln_no) > 0\n",
    "    LEFT JOIN \n",
    "    (\n",
    "        SELECT * FROM purchaseretention_servicing_raw_access.servicingmsp_pgbfile_master_vw \n",
    "        WHERE DELTA_FILE_BYTE <>'D' AND '{0}' BETWEEN to_date(begin_effective_date) AND to_date(end_effective_date)\n",
    "    ) as PGB \n",
    "    ON PGB.ln_no = GS.ln_no and length(PGB.ln_no) > 0\n",
    "    -- ON PGB.ln_no = LON.ln_no and length(PGB.ln_no) > 0\n",
    "    LEFT JOIN \n",
    "    (\n",
    "        SELECT * FROM purchaseretention_servicing_raw_access.servicingmsp_borfile_master_vw \n",
    "        WHERE DELTA_FILE_BYTE <>'D' AND '{0}' BETWEEN to_date(begin_effective_date) AND to_date(end_effective_date)\n",
    "    ) as BOR\n",
    "    ON BOR.ln_no = GS.ln_no and length(BOR.ln_no) > 0\n",
    "    -- ON BOR.ln_no = LON.ln_no and length(BOR.ln_no) > 0\n",
    "    LEFT JOIN  \n",
    "    (\n",
    "        SELECT LoanNumber, max(YearsAtAddress) as liveyears \n",
    "        FROM purchaseretention_servicing_raw_access.clientcurrentaddresschangedevent \n",
    "        WHERE YearsAtAddress>0 GROUP BY LoanNumber\n",
    "    ) as ly \n",
    "    ON ly.loannumber = GS.ln_no AND length(ly.loannumber) > 0\n",
    "    -- ON ly.loannumber = LON.ln_no and length(ly.loannumber) > 0\n",
    "    LEFT JOIN \n",
    "    (\n",
    "        SELECT * FROM purchaseretention_servicing_raw_access.servicingmsp_dlqfile_master_vw \n",
    "        WHERE DELTA_FILE_BYTE <>'D' AND '{0}' BETWEEN to_date(begin_effective_date) AND to_date(end_effective_date)\n",
    "    ) as DLQ\n",
    "    ON DLQ.ln_no = GS.ln_no and length(DLQ.ln_no) > 0\n",
    "    -- ON DLQ.ln_no = LON.ln_no and length(DLQ.ln_no) > 0\n",
    "    WHERE LON.DELTA_FILE_BYTE <>'D'\n",
    "    AND '{0}' BETWEEN to_date(GS.begineffectivedate) AND to_date(GS.endeffectivedate)\n",
    "    AND GS.leftportfoliodate is null    '''.format(snapshot_dt))\n",
    "    \n",
    "    return df\n"
   ]
  },
  {
   "cell_type": "code",
   "execution_count": null,
   "metadata": {
    "collapsed": true
   },
   "outputs": [],
   "source": [
    "%%spark\n",
    "\n",
    "df_servicing = servicing(snapshot_dt = '2020-07-31')\n",
    "df_servicing.count()"
   ]
  },
  {
   "cell_type": "code",
   "execution_count": null,
   "metadata": {
    "collapsed": true
   },
   "outputs": [],
   "source": []
  },
  {
   "cell_type": "markdown",
   "metadata": {},
   "source": [
    "# ClientIQ"
   ]
  },
  {
   "cell_type": "code",
   "execution_count": null,
   "metadata": {
    "collapsed": true
   },
   "outputs": [],
   "source": [
    "%%spark\n",
    "\n",
    "## conformed.clientiq_vw only includes the current information\n",
    "## sandbox_leadgen.clientiq_hisorical includes all historical datekey in ClientIQ\n",
    "\n",
    "def client_iq(datekey):\n",
    "    \n",
    "    spark.sql('use conformed')\n",
    "    \n",
    "    df = spark.sql(\"\"\"\n",
    "        SELECT distinct\n",
    "            loannumber\n",
    "        ,   loanpurpose as IQ_loanpurpose\n",
    "        ,   isqlms\n",
    "        ,   iscurrentqlclient\n",
    "        ,   sourcereferenceid -- GCID\n",
    "        ,   experian_investmentproperty\n",
    "        ,   clientincomeannualamount\n",
    "        ,   isinvestmentproperty\n",
    "        ,   annincome\n",
    "        ,   luid\n",
    "        ,   isprimaryborrower\n",
    "        ,   borrowerstatus\n",
    "        ,   finalcreditscore\n",
    "        ,   omniview_individual_id\n",
    "        ,   datekey\n",
    "        FROM conformed.clientiq_vw\n",
    "        WHERE iscurrentqlclient = 'TRUE'\n",
    "            AND datekey = '{0}'\n",
    "    \"\"\".format(datekey))\n",
    "    \n",
    "    return df"
   ]
  },
  {
   "cell_type": "code",
   "execution_count": null,
   "metadata": {
    "collapsed": true
   },
   "outputs": [],
   "source": [
    "%%spark\n",
    "\n",
    "df_clientIQ = client_iq(datekey = '2020-08-20')"
   ]
  },
  {
   "cell_type": "markdown",
   "metadata": {},
   "source": [
    "# Experian"
   ]
  },
  {
   "cell_type": "code",
   "execution_count": null,
   "metadata": {
    "collapsed": true
   },
   "outputs": [],
   "source": [
    "%%spark\n",
    "\n",
    "def load_ExperianData_id(match_dt, experian_dt):\n",
    "    \n",
    "    spark.sql('use experian_raw')\n",
    "    \n",
    "    df = spark.sql('''\n",
    "    SELECT \n",
    "    ovind.ovind,\n",
    "    ovind.luid,\n",
    "    ex.lngth_of_res as lengthresidence,\n",
    "    ex.rec_perscnt as personnum_unit,\n",
    "    ex.echv as estimatedhomevalue,\n",
    "    ex.mosaic_hh_v3 as mosaichousehold,\n",
    "    ex.rsiz_bedr as homebedroomcnt,\n",
    "    ex.bdat_bdat_1 as p1_bod,\n",
    "    ex.combined_age_1 as p1_combinedage,\n",
    "    ex.educ_model_1 as p1_education,\n",
    "    ex.mrtl_model_1 as p1_maritalstatus,\n",
    "    ex.bdat_bdat_2 as p2_bod,\n",
    "    ex.combined_age_2 as p2_combinedage,\n",
    "    ex.educ_model_2 as p2_education,\n",
    "    ex.mrtl_model_2 as p2_maritalstatus,\n",
    "    ex.bdat_bdat_3 as p3_bod,\n",
    "    ex.combined_age_3 as p3_combinedage,\n",
    "    ex.educ_model_3 as p3_education,\n",
    "    ex.mrtl_model_3 as p3_maritalstatus,\n",
    "    ex.bdat_bdat_4 as p4_bod,\n",
    "    ex.combined_age_4 as p4_combinedage,\n",
    "    ex.educ_model_4 as p4_education,\n",
    "    ex.mrtl_model_4 as p4_maritalstatus,\n",
    "    ex.bdat_bdat_5 as p5_bod,\n",
    "    ex.combined_age_5 as p5_combinedage,\n",
    "    ex.educ_model_5 as p5_education,\n",
    "    ex.mrtl_model_5 as p5_maritalstatus,\n",
    "    ex.bdat_bdat_6 as p6_bod,\n",
    "    ex.combined_age_6 as p6_combinedage,\n",
    "    ex.educ_model_6 as p6_education,\n",
    "    ex.mrtl_model_6 as p6_maritalstatus,\n",
    "    ex.quarteryearkey,\n",
    "    ROW_NUMBER() over (partition by ovind.ovind order by ex.bdat_bdat_1 desc) as rowno\n",
    "FROM\n",
    "(\n",
    "    SELECT distinct ovind, luid\n",
    "    FROM experian_raw_access.consumerview_ind_starts_q12020_vw\n",
    "    WHERE quarteryearkey = '{0}'  \n",
    ") AS ovind \n",
    "INNER JOIN\n",
    "(\n",
    "    SELECT distinct recd_luid\n",
    "    , lngth_of_res\n",
    "    , rec_perscnt\n",
    "    , echv\n",
    "    , mosaic_hh_v3\n",
    "    , rsiz_bedr\n",
    "    , bdat_bdat_1\n",
    "    , combined_age_1\n",
    "    , educ_model_1\n",
    "    , mrtl_model_1\n",
    "    , bdat_bdat_2\n",
    "    , combined_age_2 \n",
    "    , educ_model_2\n",
    "    , mrtl_model_2\n",
    "    , bdat_bdat_3\n",
    "    , combined_age_3\n",
    "    , educ_model_3\n",
    "    , mrtl_model_3\n",
    "    , bdat_bdat_4\n",
    "    , combined_age_4\n",
    "    , educ_model_4\n",
    "    , mrtl_model_4\n",
    "    , bdat_bdat_5\n",
    "    , combined_age_5\n",
    "    , educ_model_5\n",
    "    , mrtl_model_5\n",
    "    , bdat_bdat_6\n",
    "    , combined_age_6\n",
    "    , educ_model_6\n",
    "    , mrtl_model_6\n",
    "    , quarteryearkey\n",
    "    FROM experian_raw_access.consumerview_starts_q12020_vw\n",
    "    WHERE recd_luid <> '0000000000' and quarteryearkey = '{1}' \n",
    ") as ex \n",
    "ON ovind.luid = ex.recd_luid\n",
    "    '''.format(match_dt, experian_dt))\n",
    "    \n",
    "    return df"
   ]
  },
  {
   "cell_type": "code",
   "execution_count": null,
   "metadata": {
    "collapsed": true
   },
   "outputs": [],
   "source": [
    "%%spark\n",
    "\n",
    "df_experian = load_ExperianData_id(match_dt='Q12020', experian_dt='Q12020')\n",
    "df_experian.count()"
   ]
  }
 ],
 "metadata": {
  "kernelspec": {
   "display_name": "Python3.5 with Watson Studio Spark 2.2.1",
   "language": "python",
   "name": "python3"
  },
  "language_info": {
   "codemirror_mode": {
    "name": "ipython",
    "version": 3
   },
   "file_extension": ".py",
   "mimetype": "text/x-python",
   "name": "python",
   "nbconvert_exporter": "python",
   "pygments_lexer": "ipython3",
   "version": "3.5.5"
  }
 },
 "nbformat": 4,
 "nbformat_minor": 2
}
